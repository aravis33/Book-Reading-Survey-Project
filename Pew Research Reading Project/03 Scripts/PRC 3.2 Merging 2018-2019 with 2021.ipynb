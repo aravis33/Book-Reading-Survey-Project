{
 "cells": [
  {
   "cell_type": "markdown",
   "id": "f2d998c5",
   "metadata": {},
   "source": [
    "# 1. Import libraries and data"
   ]
  },
  {
   "cell_type": "code",
   "execution_count": 1,
   "id": "50bcf0c3",
   "metadata": {},
   "outputs": [],
   "source": [
    "# Import libraries\n",
    "import pandas as pd\n",
    "import numpy as np\n",
    "import seaborn as sns\n",
    "import matplotlib.pyplot as plt\n",
    "import matplotlib\n",
    "import os"
   ]
  },
  {
   "cell_type": "code",
   "execution_count": 2,
   "id": "ed4e1122",
   "metadata": {},
   "outputs": [],
   "source": [
    "# Create path\n",
    "path = r'/Users/dana/Documents/Pew Research Reading Project/'\n",
    "\n",
    "# import data\n",
    "df18_19 = pd.read_pickle(os.path.join(path,'02 Data','Prepared Data','2018-2019.pkl'))\n",
    "df21 = pd.read_pickle(os.path.join(path,'02 Data','Prepared Data','dfplus.pkl'))"
   ]
  },
  {
   "cell_type": "markdown",
   "id": "e48e7114",
   "metadata": {},
   "source": [
    "# 2. Make 2021 match 2018-19 data"
   ]
  },
  {
   "cell_type": "code",
   "execution_count": 3,
   "id": "bf58634c",
   "metadata": {},
   "outputs": [
    {
     "data": {
      "text/plain": [
       "Index(['response_id', 'language', 'state', 'sex', 'gender', 'age', 'marital',\n",
       "       'parent', 'employment', 'disability', 'hispanic', 'race', 'party',\n",
       "       'education', 'income', 'income_estimate', 'number_of_books_read',\n",
       "       'read_printed_books', 'read_audiobooks', 'read_e-books',\n",
       "       'reader_category', 'generation', 'reading_type', 'education_group',\n",
       "       'employed'],\n",
       "      dtype='object')"
      ]
     },
     "execution_count": 3,
     "metadata": {},
     "output_type": "execute_result"
    }
   ],
   "source": [
    "df21.columns"
   ]
  },
  {
   "cell_type": "code",
   "execution_count": 4,
   "id": "079e177d",
   "metadata": {},
   "outputs": [
    {
     "data": {
      "text/plain": [
       "Index(['language', 'state', 'sex', 'number_of_books_read',\n",
       "       'read_printed_books', 'read_audiobooks', 'read_e-books', 'age',\n",
       "       'marital', 'level_of_education', 'employment', 'hispanic', 'race',\n",
       "       'income', 'party', 'year', 'id'],\n",
       "      dtype='object')"
      ]
     },
     "execution_count": 4,
     "metadata": {},
     "output_type": "execute_result"
    }
   ],
   "source": [
    "df18_19.columns"
   ]
  },
  {
   "cell_type": "code",
   "execution_count": 5,
   "id": "b9a20928",
   "metadata": {},
   "outputs": [],
   "source": [
    "# change order\n",
    "df18_19 = df18_19[['id','year','language','state','sex','age','marital','level_of_education','employment',\n",
    "                  'hispanic','race','income','party','number_of_books_read','read_printed_books',\n",
    "                  'read_audiobooks','read_e-books']]"
   ]
  },
  {
   "cell_type": "code",
   "execution_count": 6,
   "id": "392d2ac5",
   "metadata": {},
   "outputs": [],
   "source": [
    "# drop response id and create id column\n",
    "df21 = df21.drop(columns=['response_id'])\n",
    "df21['id'] = df21.index + 3505"
   ]
  },
  {
   "cell_type": "code",
   "execution_count": 7,
   "id": "0f0be3d2",
   "metadata": {},
   "outputs": [],
   "source": [
    "# create year column\n",
    "df21['year']='2021'"
   ]
  },
  {
   "cell_type": "code",
   "execution_count": 8,
   "id": "d5997528",
   "metadata": {},
   "outputs": [
    {
     "data": {
      "text/plain": [
       "Index(['language', 'state', 'sex', 'gender', 'age', 'marital', 'parent',\n",
       "       'employment', 'disability', 'hispanic', 'race', 'party', 'education',\n",
       "       'income', 'income_estimate', 'number_of_books_read',\n",
       "       'read_printed_books', 'read_audiobooks', 'read_e-books',\n",
       "       'reader_category', 'generation', 'reading_type', 'education_group',\n",
       "       'employed', 'id', 'year'],\n",
       "      dtype='object')"
      ]
     },
     "execution_count": 8,
     "metadata": {},
     "output_type": "execute_result"
    }
   ],
   "source": [
    "df21.columns"
   ]
  },
  {
   "cell_type": "code",
   "execution_count": 9,
   "id": "83fe8ddb",
   "metadata": {},
   "outputs": [],
   "source": [
    "# change order to match 18-19 except for added columns, while removing columns 18-19 didn't have (gender, parent,\n",
    "# disability)\n",
    "df21 = df21[['id','year','language','state','sex','age','marital','education','employment',\n",
    "            'hispanic','race','income','party','number_of_books_read','read_printed_books',\n",
    "            'read_audiobooks','read_e-books','income_estimate','reader_category','generation',\n",
    "             'reading_type','education_group','employed']]"
   ]
  },
  {
   "cell_type": "code",
   "execution_count": 10,
   "id": "e8607190",
   "metadata": {},
   "outputs": [],
   "source": [
    "pd.set_option('display.max_columns', None)"
   ]
  },
  {
   "cell_type": "code",
   "execution_count": 11,
   "id": "bce7a953",
   "metadata": {},
   "outputs": [
    {
     "data": {
      "text/html": [
       "<div>\n",
       "<style scoped>\n",
       "    .dataframe tbody tr th:only-of-type {\n",
       "        vertical-align: middle;\n",
       "    }\n",
       "\n",
       "    .dataframe tbody tr th {\n",
       "        vertical-align: top;\n",
       "    }\n",
       "\n",
       "    .dataframe thead th {\n",
       "        text-align: right;\n",
       "    }\n",
       "</style>\n",
       "<table border=\"1\" class=\"dataframe\">\n",
       "  <thead>\n",
       "    <tr style=\"text-align: right;\">\n",
       "      <th></th>\n",
       "      <th>id</th>\n",
       "      <th>year</th>\n",
       "      <th>language</th>\n",
       "      <th>state</th>\n",
       "      <th>sex</th>\n",
       "      <th>age</th>\n",
       "      <th>marital</th>\n",
       "      <th>education</th>\n",
       "      <th>employment</th>\n",
       "      <th>hispanic</th>\n",
       "      <th>race</th>\n",
       "      <th>income</th>\n",
       "      <th>party</th>\n",
       "      <th>number_of_books_read</th>\n",
       "      <th>read_printed_books</th>\n",
       "      <th>read_audiobooks</th>\n",
       "      <th>read_e-books</th>\n",
       "      <th>income_estimate</th>\n",
       "      <th>reader_category</th>\n",
       "      <th>generation</th>\n",
       "      <th>reading_type</th>\n",
       "      <th>education_group</th>\n",
       "      <th>employed</th>\n",
       "    </tr>\n",
       "  </thead>\n",
       "  <tbody>\n",
       "    <tr>\n",
       "      <th>0</th>\n",
       "      <td>3505</td>\n",
       "      <td>2021</td>\n",
       "      <td>English</td>\n",
       "      <td>VA</td>\n",
       "      <td>Female</td>\n",
       "      <td>77</td>\n",
       "      <td>Widowed</td>\n",
       "      <td>Some college, no degree</td>\n",
       "      <td>Retired</td>\n",
       "      <td>No</td>\n",
       "      <td>White</td>\n",
       "      <td>50 to under $75,000</td>\n",
       "      <td>Democrat</td>\n",
       "      <td>50</td>\n",
       "      <td>Yes</td>\n",
       "      <td>No</td>\n",
       "      <td>No</td>\n",
       "      <td>60363</td>\n",
       "      <td>Above average reader</td>\n",
       "      <td>Silent Gen</td>\n",
       "      <td>Printed only</td>\n",
       "      <td>College &lt; 4yr degree</td>\n",
       "      <td>Not employed</td>\n",
       "    </tr>\n",
       "    <tr>\n",
       "      <th>1</th>\n",
       "      <td>3506</td>\n",
       "      <td>2021</td>\n",
       "      <td>English</td>\n",
       "      <td>OH</td>\n",
       "      <td>Male</td>\n",
       "      <td>59</td>\n",
       "      <td>Never been married</td>\n",
       "      <td>High school graduate</td>\n",
       "      <td>Employed part-time</td>\n",
       "      <td>No</td>\n",
       "      <td>White</td>\n",
       "      <td>40 to under $50,000</td>\n",
       "      <td>Republican</td>\n",
       "      <td>1</td>\n",
       "      <td>Yes</td>\n",
       "      <td>No</td>\n",
       "      <td>No</td>\n",
       "      <td>46741</td>\n",
       "      <td>Average reader</td>\n",
       "      <td>Boomers</td>\n",
       "      <td>Printed only</td>\n",
       "      <td>High school graduate</td>\n",
       "      <td>Employed</td>\n",
       "    </tr>\n",
       "    <tr>\n",
       "      <th>2</th>\n",
       "      <td>3507</td>\n",
       "      <td>2021</td>\n",
       "      <td>English</td>\n",
       "      <td>NV</td>\n",
       "      <td>Female</td>\n",
       "      <td>60</td>\n",
       "      <td>Married</td>\n",
       "      <td>Some college, no degree</td>\n",
       "      <td>Retired</td>\n",
       "      <td>No</td>\n",
       "      <td>White</td>\n",
       "      <td>100 to under $150,000</td>\n",
       "      <td>Independent</td>\n",
       "      <td>3</td>\n",
       "      <td>Yes</td>\n",
       "      <td>No</td>\n",
       "      <td>No</td>\n",
       "      <td>124080</td>\n",
       "      <td>Average reader</td>\n",
       "      <td>Boomers</td>\n",
       "      <td>Printed only</td>\n",
       "      <td>College &lt; 4yr degree</td>\n",
       "      <td>Not employed</td>\n",
       "    </tr>\n",
       "    <tr>\n",
       "      <th>3</th>\n",
       "      <td>3508</td>\n",
       "      <td>2021</td>\n",
       "      <td>English</td>\n",
       "      <td>AZ</td>\n",
       "      <td>Male</td>\n",
       "      <td>73</td>\n",
       "      <td>Never been married</td>\n",
       "      <td>Postgraduate degree</td>\n",
       "      <td>Employed part-time</td>\n",
       "      <td>No</td>\n",
       "      <td>White</td>\n",
       "      <td>100 to under $150,000</td>\n",
       "      <td>Democrat</td>\n",
       "      <td>30</td>\n",
       "      <td>Yes</td>\n",
       "      <td>Yes</td>\n",
       "      <td>No</td>\n",
       "      <td>148285</td>\n",
       "      <td>Above average reader</td>\n",
       "      <td>Boomers</td>\n",
       "      <td>Printed and audio</td>\n",
       "      <td>College &gt; 4yr degree</td>\n",
       "      <td>Employed</td>\n",
       "    </tr>\n",
       "    <tr>\n",
       "      <th>4</th>\n",
       "      <td>3509</td>\n",
       "      <td>2021</td>\n",
       "      <td>English</td>\n",
       "      <td>FL</td>\n",
       "      <td>Female</td>\n",
       "      <td>65</td>\n",
       "      <td>Married</td>\n",
       "      <td>Postgraduate degree</td>\n",
       "      <td>Retired</td>\n",
       "      <td>No</td>\n",
       "      <td>White</td>\n",
       "      <td>75 to under $100,000</td>\n",
       "      <td>Democrat</td>\n",
       "      <td>40</td>\n",
       "      <td>Yes</td>\n",
       "      <td>No</td>\n",
       "      <td>Yes</td>\n",
       "      <td>95403</td>\n",
       "      <td>Above average reader</td>\n",
       "      <td>Boomers</td>\n",
       "      <td>Printed and e-books</td>\n",
       "      <td>College &gt; 4yr degree</td>\n",
       "      <td>Not employed</td>\n",
       "    </tr>\n",
       "  </tbody>\n",
       "</table>\n",
       "</div>"
      ],
      "text/plain": [
       "     id  year language state     sex  age             marital  \\\n",
       "0  3505  2021  English    VA  Female   77             Widowed   \n",
       "1  3506  2021  English    OH    Male   59  Never been married   \n",
       "2  3507  2021  English    NV  Female   60             Married   \n",
       "3  3508  2021  English    AZ    Male   73  Never been married   \n",
       "4  3509  2021  English    FL  Female   65             Married   \n",
       "\n",
       "                 education          employment hispanic   race  \\\n",
       "0  Some college, no degree             Retired       No  White   \n",
       "1     High school graduate  Employed part-time       No  White   \n",
       "2  Some college, no degree             Retired       No  White   \n",
       "3      Postgraduate degree  Employed part-time       No  White   \n",
       "4      Postgraduate degree             Retired       No  White   \n",
       "\n",
       "                  income        party  number_of_books_read  \\\n",
       "0    50 to under $75,000     Democrat                    50   \n",
       "1    40 to under $50,000   Republican                     1   \n",
       "2  100 to under $150,000  Independent                     3   \n",
       "3  100 to under $150,000     Democrat                    30   \n",
       "4   75 to under $100,000     Democrat                    40   \n",
       "\n",
       "  read_printed_books read_audiobooks read_e-books  income_estimate  \\\n",
       "0                Yes              No           No            60363   \n",
       "1                Yes              No           No            46741   \n",
       "2                Yes              No           No           124080   \n",
       "3                Yes             Yes           No           148285   \n",
       "4                Yes              No          Yes            95403   \n",
       "\n",
       "        reader_category  generation         reading_type  \\\n",
       "0  Above average reader  Silent Gen         Printed only   \n",
       "1        Average reader     Boomers         Printed only   \n",
       "2        Average reader     Boomers         Printed only   \n",
       "3  Above average reader     Boomers    Printed and audio   \n",
       "4  Above average reader     Boomers  Printed and e-books   \n",
       "\n",
       "        education_group      employed  \n",
       "0  College < 4yr degree  Not employed  \n",
       "1  High school graduate      Employed  \n",
       "2  College < 4yr degree  Not employed  \n",
       "3  College > 4yr degree      Employed  \n",
       "4  College > 4yr degree  Not employed  "
      ]
     },
     "execution_count": 11,
     "metadata": {},
     "output_type": "execute_result"
    }
   ],
   "source": [
    "df21.head()"
   ]
  },
  {
   "cell_type": "markdown",
   "id": "f4184bc0",
   "metadata": {},
   "source": [
    "# 3. Add columns"
   ]
  },
  {
   "cell_type": "code",
   "execution_count": 12,
   "id": "8c22c887",
   "metadata": {},
   "outputs": [],
   "source": [
    "# columns that need to be added to 18-19: income estimate, reader category, generation, reading type, \n",
    "# education group, employed (also change education column to match)"
   ]
  },
  {
   "cell_type": "markdown",
   "id": "83c99c95",
   "metadata": {},
   "source": [
    "#### income estimate"
   ]
  },
  {
   "cell_type": "code",
   "execution_count": 13,
   "id": "c474ee09",
   "metadata": {},
   "outputs": [
    {
     "data": {
      "text/plain": [
       "$150,000 or more?            428\n",
       "50 to under $75,000          412\n",
       "(VOL) Refused                390\n",
       "100 to under $150,000, OR    366\n",
       "75 to under $100,000         355\n",
       "20 to under $30,000          327\n",
       "10 to under $20,000          295\n",
       "30 to under $40,000          269\n",
       "Less than $10,000            261\n",
       "40 to under $50,000          224\n",
       "(VOL) Don't know             177\n",
       "Name: income, dtype: int64"
      ]
     },
     "execution_count": 13,
     "metadata": {},
     "output_type": "execute_result"
    }
   ],
   "source": [
    "df18_19['income'].value_counts()"
   ]
  },
  {
   "cell_type": "code",
   "execution_count": 14,
   "id": "6d366f69",
   "metadata": {},
   "outputs": [],
   "source": [
    "# create income estimate column with imputed values using value counts to make all unique values\n",
    "df18_19.loc[df18_19['income'] == '$150,000 or more?', 'income_estimate'] = np.random.randint(150000,200000,428)\n",
    "df18_19.loc[df18_19['income'] == '100 to under $150,000, OR', 'income_estimate'] = np.random.randint(100000,149999,366)\n",
    "df18_19.loc[df18_19['income'] == '75 to under $100,000', 'income_estimate'] = np.random.randint(75000,99999,355)\n",
    "df18_19.loc[df18_19['income'] == '50 to under $75,000', 'income_estimate'] = np.random.randint(50000,74999,412)\n",
    "df18_19.loc[df18_19['income'] == '30 to under $40,000', 'income_estimate'] = np.random.randint(30000,39999,269)\n",
    "df18_19.loc[df18_19['income'] == '20 to under $30,000', 'income_estimate'] = np.random.randint(20000,29999,327)\n",
    "df18_19.loc[df18_19['income'] == '10 to under $20,000', 'income_estimate'] = np.random.randint(10000,19999,295)\n",
    "df18_19.loc[df18_19['income'] == '40 to under $50,000', 'income_estimate'] = np.random.randint(40000,49999,224)\n",
    "df18_19.loc[df18_19['income'] == 'Less than $10,000', 'income_estimate'] = np.random.randint(1000,9999,261)"
   ]
  },
  {
   "cell_type": "code",
   "execution_count": 15,
   "id": "1576c56b",
   "metadata": {},
   "outputs": [],
   "source": [
    "# make subset of all with imputed numbers (not don't know/refused)\n",
    "dfincome = df18_19[df18_19['income_estimate']>1]"
   ]
  },
  {
   "cell_type": "code",
   "execution_count": 16,
   "id": "5bd5c19e",
   "metadata": {},
   "outputs": [
    {
     "data": {
      "text/plain": [
       "count      2937.000000\n",
       "mean      71837.144365\n",
       "std       56302.890058\n",
       "min        1052.000000\n",
       "25%       25739.000000\n",
       "50%       54631.000000\n",
       "75%      107522.000000\n",
       "max      199853.000000\n",
       "Name: income_estimate, dtype: float64"
      ]
     },
     "execution_count": 16,
     "metadata": {},
     "output_type": "execute_result"
    }
   ],
   "source": [
    "dfincome['income_estimate'].describe()"
   ]
  },
  {
   "cell_type": "code",
   "execution_count": 17,
   "id": "8eb5ada8",
   "metadata": {},
   "outputs": [],
   "source": [
    "# impute don't know/refused with numbers in the interquartile range\n",
    "df18_19.loc[df18_19['income'] == \"(VOL) Don't know\", 'income_estimate'] = np.random.randint(25685,107412,177)\n",
    "df18_19.loc[df18_19['income'] == \"(VOL) Refused\", 'income_estimate'] = np.random.randint(25685,107412,390)"
   ]
  },
  {
   "cell_type": "code",
   "execution_count": 18,
   "id": "74ce6afc",
   "metadata": {},
   "outputs": [
    {
     "data": {
      "text/plain": [
       "count      3504.000000\n",
       "mean      70801.769406\n",
       "std       52488.955585\n",
       "min        1052.000000\n",
       "25%       28762.500000\n",
       "50%       57984.500000\n",
       "75%       98444.250000\n",
       "max      199853.000000\n",
       "Name: income_estimate, dtype: float64"
      ]
     },
     "execution_count": 18,
     "metadata": {},
     "output_type": "execute_result"
    }
   ],
   "source": [
    "df18_19['income_estimate'].describe()"
   ]
  },
  {
   "cell_type": "code",
   "execution_count": 19,
   "id": "9c3ecaaf",
   "metadata": {},
   "outputs": [],
   "source": [
    "# change to integer\n",
    "df18_19['income_estimate'] = df18_19['income_estimate'].astype('int')"
   ]
  },
  {
   "cell_type": "markdown",
   "id": "c71873c7",
   "metadata": {},
   "source": [
    "#### education"
   ]
  },
  {
   "cell_type": "code",
   "execution_count": 20,
   "id": "015a69d0",
   "metadata": {},
   "outputs": [
    {
     "data": {
      "text/plain": [
       "Four year college or university degree/Bachelor's degree (e.g., BS, BA, AB)                                                 875\n",
       "High school graduate (Grade 12 with diploma or GED certificate)                                                             798\n",
       "Some college, no degree (includes some community college)                                                                   535\n",
       "Two year associate degree from a college or university                                                                      368\n",
       "Some postgraduate or professional schooling, no postgraduate degree (e.g. some graduate school)                             361\n",
       "High school incomplete (Grades 9-11 or Grade 12 with NO diploma)                                                            183\n",
       "Postgraduate or professional degree, including master's, doctorate, medical or law degree                                   147\n",
       "Less than high school (Grades 1-8 or no formal schooling)                                                                   104\n",
       "Postgraduate or professional degree, including master's, doctorate, medical or law degree (e.g., MA, MS, PhD, MD, JD, gr     91\n",
       "(VOL) Refused                                                                                                                31\n",
       "(VOL) Don't know                                                                                                             11\n",
       "Name: level_of_education, dtype: int64"
      ]
     },
     "execution_count": 20,
     "metadata": {},
     "output_type": "execute_result"
    }
   ],
   "source": [
    "df18_19['level_of_education'].value_counts()"
   ]
  },
  {
   "cell_type": "code",
   "execution_count": 21,
   "id": "5298ed24",
   "metadata": {},
   "outputs": [
    {
     "data": {
      "text/plain": [
       "Bachelors degree           389\n",
       "High school graduate       313\n",
       "Postgraduate degree        274\n",
       "Some college, no degree    244\n",
       "Associate degree           156\n",
       "High school incomplete      44\n",
       "Some graduate school        42\n",
       "Refused                     20\n",
       "Less than high school       17\n",
       "Do not know                  3\n",
       "Name: education, dtype: int64"
      ]
     },
     "execution_count": 21,
     "metadata": {},
     "output_type": "execute_result"
    }
   ],
   "source": [
    "df21['education'].value_counts()"
   ]
  },
  {
   "cell_type": "code",
   "execution_count": 22,
   "id": "9c1e192a",
   "metadata": {},
   "outputs": [],
   "source": [
    "df18_19.loc[df18_19['level_of_education'] == \"Less than high school (Grades 1-8 or no formal schooling)\",\n",
    "            'education'] = 'Less than high school'\n",
    "df18_19.loc[df18_19['level_of_education'] == \"High school incomplete (Grades 9-11 or Grade 12 with NO diploma)\",\n",
    "            'education'] = 'High school incomplete' \n",
    "df18_19.loc[df18_19['level_of_education'] == \"High school graduate (Grade 12 with diploma or GED certificate)\",\n",
    "            'education'] = 'High school graduate'\n",
    "df18_19.loc[df18_19['level_of_education'] == \"Some college, no degree (includes some community college)\",\n",
    "            'education'] = 'Some college, no degree'\n",
    "df18_19.loc[df18_19['level_of_education'] == \"Two year associate degree from a college or university\",\n",
    "            'education'] = 'Associate degree'\n",
    "df18_19.loc[df18_19['level_of_education'] == \"Four year college or university degree/Bachelor's degree (e.g., BS, BA, AB)\",\n",
    "            'education'] = 'Bachelors degree'\n",
    "df18_19.loc[df18_19['level_of_education'] == \"Some postgraduate or professional schooling, no postgraduate degree (e.g. some graduate school)\",\n",
    "            'education'] = 'Some graduate school'\n",
    "df18_19.loc[df18_19['level_of_education'] == \"Postgraduate or professional degree, including master's, doctorate, medical or law degree\",\n",
    "            'education'] = 'Postgraduate degree'\n",
    "df18_19.loc[df18_19['level_of_education'] == \"(VOL) Don't know\", 'education'] = 'Do not know'\n",
    "df18_19.loc[df18_19['level_of_education'] == \"(VOL) Refused\", 'education'] = 'Refused'"
   ]
  },
  {
   "cell_type": "code",
   "execution_count": 23,
   "id": "de9ff9eb",
   "metadata": {},
   "outputs": [],
   "source": [
    "df18_19.loc[df18_19['level_of_education'] == \"Postgraduate or professional degree, including master's, doctorate, medical or law degree (e.g., MA, MS, PhD, MD, JD, gr\",\n",
    "            'education'] = 'Postgraduate degree'"
   ]
  },
  {
   "cell_type": "code",
   "execution_count": 24,
   "id": "852d9f8f",
   "metadata": {},
   "outputs": [
    {
     "data": {
      "text/plain": [
       "Bachelors degree           875\n",
       "High school graduate       798\n",
       "Some college, no degree    535\n",
       "Associate degree           368\n",
       "Some graduate school       361\n",
       "Postgraduate degree        238\n",
       "High school incomplete     183\n",
       "Less than high school      104\n",
       "Refused                     31\n",
       "Do not know                 11\n",
       "Name: education, dtype: int64"
      ]
     },
     "execution_count": 24,
     "metadata": {},
     "output_type": "execute_result"
    }
   ],
   "source": [
    "df18_19['education'].value_counts(dropna=False)"
   ]
  },
  {
   "cell_type": "code",
   "execution_count": 25,
   "id": "a7f9d07a",
   "metadata": {},
   "outputs": [],
   "source": [
    "# remove level of education column\n",
    "df18_19 = df18_19.drop(columns = ['level_of_education'])"
   ]
  },
  {
   "cell_type": "code",
   "execution_count": 26,
   "id": "2326a8bc",
   "metadata": {},
   "outputs": [
    {
     "data": {
      "text/plain": [
       "Index(['id', 'year', 'language', 'state', 'sex', 'age', 'marital',\n",
       "       'employment', 'hispanic', 'race', 'income', 'party',\n",
       "       'number_of_books_read', 'read_printed_books', 'read_audiobooks',\n",
       "       'read_e-books', 'income_estimate', 'education'],\n",
       "      dtype='object')"
      ]
     },
     "execution_count": 26,
     "metadata": {},
     "output_type": "execute_result"
    }
   ],
   "source": [
    "df18_19.columns"
   ]
  },
  {
   "cell_type": "code",
   "execution_count": 27,
   "id": "7f8ef060",
   "metadata": {},
   "outputs": [],
   "source": [
    "# create education group\n",
    "df18_19.loc[(df18_19['education'] == 'Less than high school') | \n",
    "       (df18_19['education'] == 'High school incomplete'),'education_group'] = 'Less than high school'\n",
    "df18_19.loc[df18_19['education'] == 'High school graduate','education_group'] = 'High school graduate'\n",
    "df18_19.loc[(df18_19['education'] == 'Associate degree') | \n",
    "       (df18_19['education'] == 'Some college, no degree'),'education_group'] = 'College < 4yr degree'\n",
    "df18_19.loc[df18_19['education'] == 'Bachelors degree','education_group'] = 'College 4yr degree'\n",
    "df18_19.loc[(df18_19['education'] == 'Some graduate school') | \n",
    "       (df18_19['education'] == 'Postgraduate degree'),'education_group'] = 'College > 4yr degree'"
   ]
  },
  {
   "cell_type": "code",
   "execution_count": 28,
   "id": "b9d6173a",
   "metadata": {},
   "outputs": [],
   "source": [
    "df18_19.loc[(df18_19['education'] == 'Refused') | \n",
    "       (df18_19['education'] == 'Do not know'),'education_group'] = 'Unknown'"
   ]
  },
  {
   "cell_type": "code",
   "execution_count": 29,
   "id": "c82c3af5",
   "metadata": {},
   "outputs": [
    {
     "data": {
      "text/plain": [
       "College < 4yr degree     903\n",
       "College 4yr degree       875\n",
       "High school graduate     798\n",
       "College > 4yr degree     599\n",
       "Less than high school    287\n",
       "Unknown                   42\n",
       "Name: education_group, dtype: int64"
      ]
     },
     "execution_count": 29,
     "metadata": {},
     "output_type": "execute_result"
    }
   ],
   "source": [
    "df18_19['education_group'].value_counts(dropna=False)"
   ]
  },
  {
   "cell_type": "markdown",
   "id": "b52d9545",
   "metadata": {},
   "source": [
    "#### reader category"
   ]
  },
  {
   "cell_type": "code",
   "execution_count": 30,
   "id": "d12382dd",
   "metadata": {},
   "outputs": [],
   "source": [
    "df18_19.loc[df18_19['number_of_books_read'] < 1, 'reader_category'] = 'Non-reader'\n",
    "df18_19.loc[(df18_19['number_of_books_read'] >= 1) & (df18_19['number_of_books_read'] <= 20), \n",
    "            'reader_category'] = 'Average reader'\n",
    "df18_19.loc[(df18_19['number_of_books_read'] > 20) & \n",
    "       (df18_19['number_of_books_read'] <= 50) , 'reader_category'] = 'Above average reader'\n",
    "df18_19.loc[df18_19['number_of_books_read'] > 50, 'reader_category'] = 'Prolific reader'"
   ]
  },
  {
   "cell_type": "code",
   "execution_count": 31,
   "id": "ac8b6d75",
   "metadata": {},
   "outputs": [
    {
     "data": {
      "text/plain": [
       "Average reader          2167\n",
       "Non-reader               783\n",
       "Above average reader     358\n",
       "Prolific reader          196\n",
       "Name: reader_category, dtype: int64"
      ]
     },
     "execution_count": 31,
     "metadata": {},
     "output_type": "execute_result"
    }
   ],
   "source": [
    "df18_19['reader_category'].value_counts(dropna=False)"
   ]
  },
  {
   "cell_type": "markdown",
   "id": "c39310dc",
   "metadata": {},
   "source": [
    "#### generation"
   ]
  },
  {
   "cell_type": "code",
   "execution_count": 32,
   "id": "bcd63470",
   "metadata": {},
   "outputs": [],
   "source": [
    "# I subtracted 2 years from each compared to 2021 since each generation would be 2 years younger in 2019,\n",
    "# it won't be exactly right for 2018 entries but that's okay\n",
    "df18_19.loc[df18_19['age'] <= 23, 'generation'] = 'Gen Z'\n",
    "df18_19.loc[(df18_19['age'] > 23) & (df18_19['age'] <= 39) , 'generation'] = 'Millenials'\n",
    "df18_19.loc[(df18_19['age'] > 39) & (df18_19['age'] <= 55) , 'generation'] = 'Gen X'\n",
    "df18_19.loc[(df18_19['age'] > 55) & (df18_19['age'] <= 74) , 'generation'] = 'Boomers'\n",
    "df18_19.loc[df18_19['age'] >= 75, 'generation'] = 'Silent Gen'"
   ]
  },
  {
   "cell_type": "code",
   "execution_count": 33,
   "id": "8b6d6080",
   "metadata": {},
   "outputs": [
    {
     "data": {
      "text/plain": [
       "Boomers       1193\n",
       "Gen X          890\n",
       "Millenials     791\n",
       "Silent Gen     323\n",
       "Gen Z          307\n",
       "Name: generation, dtype: int64"
      ]
     },
     "execution_count": 33,
     "metadata": {},
     "output_type": "execute_result"
    }
   ],
   "source": [
    "df18_19['generation'].value_counts(dropna=False)"
   ]
  },
  {
   "cell_type": "markdown",
   "id": "e3a0d38b",
   "metadata": {},
   "source": [
    "#### reading_type"
   ]
  },
  {
   "cell_type": "code",
   "execution_count": 34,
   "id": "9afbcd43",
   "metadata": {},
   "outputs": [],
   "source": [
    "df18_19.loc[(df18_19['read_printed_books'] == 'Yes') & (df18_19['read_audiobooks'] == 'No') &\n",
    "       (df18_19['read_e-books'] == 'No'), 'reading_type'] = 'Printed only'\n",
    "df18_19.loc[(df18_19['read_printed_books'] == 'No') & (df18_19['read_audiobooks'] == 'Yes') &\n",
    "       (df18_19['read_e-books'] == 'No'), 'reading_type'] = 'Audio only'\n",
    "df18_19.loc[(df18_19['read_printed_books'] == 'No') & (df18_19['read_audiobooks'] == 'No') &\n",
    "       (df18_19['read_e-books'] == 'Yes'), 'reading_type'] = 'E-books only'\n",
    "df18_19.loc[(df18_19['read_printed_books'] == 'Yes') & (df18_19['read_audiobooks'] == 'Yes') &\n",
    "       (df18_19['read_e-books'] == 'Yes'), 'reading_type'] = 'All forms'\n",
    "df18_19.loc[(df18_19['read_printed_books'] == 'No') & (df18_19['read_audiobooks'] == 'Yes') &\n",
    "       (df18_19['read_e-books'] == 'Yes'), 'reading_type'] = 'Audio and e-books'\n",
    "df18_19.loc[(df18_19['read_printed_books'] == 'Yes') & (df18_19['read_audiobooks'] == 'Yes') &\n",
    "       (df18_19['read_e-books'] == 'No'), 'reading_type'] = 'Printed and audio'\n",
    "df18_19.loc[(df18_19['read_printed_books'] == 'Yes') & (df18_19['read_audiobooks'] == 'No') &\n",
    "       (df18_19['read_e-books'] == 'Yes'), 'reading_type'] = 'Printed and e-books'\n",
    "df18_19.loc[(df18_19['read_printed_books'] == 'No') & (df18_19['read_audiobooks'] == 'No') &\n",
    "       (df18_19['read_e-books'] == 'No') & (df18_19['number_of_books_read'] > 0), 'reading_type'] = 'Unknown'\n",
    "df18_19.loc[(df18_19['number_of_books_read'] == 0), 'reading_type'] = 'Non-reader'"
   ]
  },
  {
   "cell_type": "code",
   "execution_count": 35,
   "id": "7c74d987",
   "metadata": {},
   "outputs": [
    {
     "data": {
      "text/plain": [
       "Printed only           1349\n",
       "Non-reader              783\n",
       "Printed and e-books     487\n",
       "All forms               294\n",
       "Printed and audio       275\n",
       "E-books only            115\n",
       "Unknown                  71\n",
       "Audio only               70\n",
       "Audio and e-books        60\n",
       "Name: reading_type, dtype: int64"
      ]
     },
     "execution_count": 35,
     "metadata": {},
     "output_type": "execute_result"
    }
   ],
   "source": [
    "df18_19['reading_type'].value_counts(dropna=False)"
   ]
  },
  {
   "cell_type": "markdown",
   "id": "b644d0cc",
   "metadata": {},
   "source": [
    "#### employed"
   ]
  },
  {
   "cell_type": "code",
   "execution_count": 36,
   "id": "b3b11e14",
   "metadata": {},
   "outputs": [],
   "source": [
    "df18_19.loc[(df18_19['employment'] == '(VOL) Disabled') | (df18_19['employment'] == '(VOL) Student') |\n",
    "       (df18_19['employment'] == 'Not employed for pay') | (df18_19['employment'] == 'Retired'),\n",
    "       'employed'] = 'Not employed'\n",
    "df18_19.loc[(df18_19['employment'] == '(VOL) Have own business/self-employed') | \n",
    "            (df18_19['employment'] == 'Employed full-time') | (df18_19['employment'] == 'Employed part-time'), \n",
    "            'employed'] = 'Employed'"
   ]
  },
  {
   "cell_type": "code",
   "execution_count": 37,
   "id": "0af7f7b2",
   "metadata": {},
   "outputs": [],
   "source": [
    "df18_19.loc[(df18_19['employment'] == '(VOL) Refused') | \n",
    "            (df18_19['employment'] == '(VOL) Other') | (df18_19['employment'] == \"(VOL) Don't know\"), \n",
    "            'employed'] = 'Unknown'"
   ]
  },
  {
   "cell_type": "code",
   "execution_count": 38,
   "id": "b4dcf491",
   "metadata": {},
   "outputs": [
    {
     "data": {
      "text/plain": [
       "Employed        2021\n",
       "Not employed    1419\n",
       "Unknown           64\n",
       "Name: employed, dtype: int64"
      ]
     },
     "execution_count": 38,
     "metadata": {},
     "output_type": "execute_result"
    }
   ],
   "source": [
    "df18_19['employed'].value_counts(dropna=False)"
   ]
  },
  {
   "cell_type": "code",
   "execution_count": 39,
   "id": "5beb8996",
   "metadata": {},
   "outputs": [
    {
     "data": {
      "text/plain": [
       "Employed full-time                       1539\n",
       "Retired                                   887\n",
       "Not employed for pay                      401\n",
       "Employed part-time                        376\n",
       "(VOL) Have own business/self-employed     106\n",
       "(VOL) Disabled                            100\n",
       "(VOL) Refused                              37\n",
       "(VOL) Student                              31\n",
       "(VOL) Other                                24\n",
       "(VOL) Don't know                            3\n",
       "Name: employment, dtype: int64"
      ]
     },
     "execution_count": 39,
     "metadata": {},
     "output_type": "execute_result"
    }
   ],
   "source": [
    "df18_19['employment'].value_counts()"
   ]
  },
  {
   "cell_type": "code",
   "execution_count": 40,
   "id": "855c7843",
   "metadata": {},
   "outputs": [],
   "source": [
    "# unknown are equal to don't know, refused, and other"
   ]
  },
  {
   "cell_type": "markdown",
   "id": "c525125d",
   "metadata": {},
   "source": [
    "# 5. Concatenate"
   ]
  },
  {
   "cell_type": "code",
   "execution_count": 41,
   "id": "7c7b91de",
   "metadata": {},
   "outputs": [
    {
     "data": {
      "text/plain": [
       "(3504, 23)"
      ]
     },
     "execution_count": 41,
     "metadata": {},
     "output_type": "execute_result"
    }
   ],
   "source": [
    "df18_19.shape"
   ]
  },
  {
   "cell_type": "code",
   "execution_count": 42,
   "id": "c53f25f7",
   "metadata": {},
   "outputs": [
    {
     "data": {
      "text/plain": [
       "(1502, 23)"
      ]
     },
     "execution_count": 42,
     "metadata": {},
     "output_type": "execute_result"
    }
   ],
   "source": [
    "df21.shape"
   ]
  },
  {
   "cell_type": "code",
   "execution_count": 43,
   "id": "5085cef5",
   "metadata": {},
   "outputs": [
    {
     "data": {
      "text/plain": [
       "Index(['id', 'year', 'language', 'state', 'sex', 'age', 'marital',\n",
       "       'employment', 'hispanic', 'race', 'income', 'party',\n",
       "       'number_of_books_read', 'read_printed_books', 'read_audiobooks',\n",
       "       'read_e-books', 'income_estimate', 'education', 'education_group',\n",
       "       'reader_category', 'generation', 'reading_type', 'employed'],\n",
       "      dtype='object')"
      ]
     },
     "execution_count": 43,
     "metadata": {},
     "output_type": "execute_result"
    }
   ],
   "source": [
    "df18_19.columns"
   ]
  },
  {
   "cell_type": "code",
   "execution_count": 44,
   "id": "2b3cee42",
   "metadata": {},
   "outputs": [
    {
     "data": {
      "text/plain": [
       "Index(['id', 'year', 'language', 'state', 'sex', 'age', 'marital', 'education',\n",
       "       'employment', 'hispanic', 'race', 'income', 'party',\n",
       "       'number_of_books_read', 'read_printed_books', 'read_audiobooks',\n",
       "       'read_e-books', 'income_estimate', 'reader_category', 'generation',\n",
       "       'reading_type', 'education_group', 'employed'],\n",
       "      dtype='object')"
      ]
     },
     "execution_count": 44,
     "metadata": {},
     "output_type": "execute_result"
    }
   ],
   "source": [
    "df21.columns"
   ]
  },
  {
   "cell_type": "code",
   "execution_count": 45,
   "id": "1e6404c0",
   "metadata": {},
   "outputs": [],
   "source": [
    "# reorder\n",
    "df18_19 = df18_19[['id', 'year', 'language', 'state', 'sex', 'age', 'marital', 'education',\n",
    "       'employment', 'hispanic', 'race', 'income', 'party',\n",
    "       'number_of_books_read', 'read_printed_books', 'read_audiobooks',\n",
    "       'read_e-books', 'income_estimate', 'reader_category', 'generation',\n",
    "       'reading_type', 'education_group', 'employed']]"
   ]
  },
  {
   "cell_type": "code",
   "execution_count": 46,
   "id": "f0a7b3f7",
   "metadata": {},
   "outputs": [],
   "source": [
    "df = pd.concat([df18_19, df21])"
   ]
  },
  {
   "cell_type": "code",
   "execution_count": 47,
   "id": "9283a873",
   "metadata": {},
   "outputs": [
    {
     "data": {
      "text/html": [
       "<div>\n",
       "<style scoped>\n",
       "    .dataframe tbody tr th:only-of-type {\n",
       "        vertical-align: middle;\n",
       "    }\n",
       "\n",
       "    .dataframe tbody tr th {\n",
       "        vertical-align: top;\n",
       "    }\n",
       "\n",
       "    .dataframe thead th {\n",
       "        text-align: right;\n",
       "    }\n",
       "</style>\n",
       "<table border=\"1\" class=\"dataframe\">\n",
       "  <thead>\n",
       "    <tr style=\"text-align: right;\">\n",
       "      <th></th>\n",
       "      <th>id</th>\n",
       "      <th>year</th>\n",
       "      <th>language</th>\n",
       "      <th>state</th>\n",
       "      <th>sex</th>\n",
       "      <th>age</th>\n",
       "      <th>marital</th>\n",
       "      <th>education</th>\n",
       "      <th>employment</th>\n",
       "      <th>hispanic</th>\n",
       "      <th>race</th>\n",
       "      <th>income</th>\n",
       "      <th>party</th>\n",
       "      <th>number_of_books_read</th>\n",
       "      <th>read_printed_books</th>\n",
       "      <th>read_audiobooks</th>\n",
       "      <th>read_e-books</th>\n",
       "      <th>income_estimate</th>\n",
       "      <th>reader_category</th>\n",
       "      <th>generation</th>\n",
       "      <th>reading_type</th>\n",
       "      <th>education_group</th>\n",
       "      <th>employed</th>\n",
       "    </tr>\n",
       "  </thead>\n",
       "  <tbody>\n",
       "    <tr>\n",
       "      <th>0</th>\n",
       "      <td>1</td>\n",
       "      <td>2018</td>\n",
       "      <td>English</td>\n",
       "      <td>PA</td>\n",
       "      <td>Female</td>\n",
       "      <td>33</td>\n",
       "      <td>Living with a partner</td>\n",
       "      <td>High school graduate</td>\n",
       "      <td>Employed full-time</td>\n",
       "      <td>No</td>\n",
       "      <td>White</td>\n",
       "      <td>50 to under $75,000</td>\n",
       "      <td>Democrat</td>\n",
       "      <td>1</td>\n",
       "      <td>Yes</td>\n",
       "      <td>No</td>\n",
       "      <td>No</td>\n",
       "      <td>68456</td>\n",
       "      <td>Average reader</td>\n",
       "      <td>Millenials</td>\n",
       "      <td>Printed only</td>\n",
       "      <td>High school graduate</td>\n",
       "      <td>Employed</td>\n",
       "    </tr>\n",
       "    <tr>\n",
       "      <th>1</th>\n",
       "      <td>2</td>\n",
       "      <td>2018</td>\n",
       "      <td>English</td>\n",
       "      <td>SC</td>\n",
       "      <td>Female</td>\n",
       "      <td>76</td>\n",
       "      <td>Married</td>\n",
       "      <td>Do not know</td>\n",
       "      <td>Retired</td>\n",
       "      <td>No</td>\n",
       "      <td>White</td>\n",
       "      <td>30 to under $40,000</td>\n",
       "      <td>Independent</td>\n",
       "      <td>5</td>\n",
       "      <td>Yes</td>\n",
       "      <td>No</td>\n",
       "      <td>No</td>\n",
       "      <td>32638</td>\n",
       "      <td>Average reader</td>\n",
       "      <td>Silent Gen</td>\n",
       "      <td>Printed only</td>\n",
       "      <td>Unknown</td>\n",
       "      <td>Not employed</td>\n",
       "    </tr>\n",
       "    <tr>\n",
       "      <th>2</th>\n",
       "      <td>3</td>\n",
       "      <td>2018</td>\n",
       "      <td>English</td>\n",
       "      <td>NJ</td>\n",
       "      <td>Female</td>\n",
       "      <td>24</td>\n",
       "      <td>Widowed</td>\n",
       "      <td>Associate degree</td>\n",
       "      <td>(VOL) Have own business/self-employed</td>\n",
       "      <td>No</td>\n",
       "      <td>White</td>\n",
       "      <td>30 to under $40,000</td>\n",
       "      <td>Republican</td>\n",
       "      <td>0</td>\n",
       "      <td>No</td>\n",
       "      <td>No</td>\n",
       "      <td>No</td>\n",
       "      <td>30281</td>\n",
       "      <td>Non-reader</td>\n",
       "      <td>Millenials</td>\n",
       "      <td>Non-reader</td>\n",
       "      <td>College &lt; 4yr degree</td>\n",
       "      <td>Employed</td>\n",
       "    </tr>\n",
       "    <tr>\n",
       "      <th>3</th>\n",
       "      <td>4</td>\n",
       "      <td>2018</td>\n",
       "      <td>English</td>\n",
       "      <td>MD</td>\n",
       "      <td>Female</td>\n",
       "      <td>60</td>\n",
       "      <td>Living with a partner</td>\n",
       "      <td>Associate degree</td>\n",
       "      <td>(VOL) Other</td>\n",
       "      <td>No</td>\n",
       "      <td>White</td>\n",
       "      <td>10 to under $20,000</td>\n",
       "      <td>Democrat</td>\n",
       "      <td>2</td>\n",
       "      <td>Yes</td>\n",
       "      <td>No</td>\n",
       "      <td>No</td>\n",
       "      <td>15844</td>\n",
       "      <td>Average reader</td>\n",
       "      <td>Boomers</td>\n",
       "      <td>Printed only</td>\n",
       "      <td>College &lt; 4yr degree</td>\n",
       "      <td>Unknown</td>\n",
       "    </tr>\n",
       "    <tr>\n",
       "      <th>4</th>\n",
       "      <td>5</td>\n",
       "      <td>2018</td>\n",
       "      <td>English</td>\n",
       "      <td>NH</td>\n",
       "      <td>Male</td>\n",
       "      <td>55</td>\n",
       "      <td>Married</td>\n",
       "      <td>Some college, no degree</td>\n",
       "      <td>Employed full-time</td>\n",
       "      <td>No</td>\n",
       "      <td>White</td>\n",
       "      <td>75 to under $100,000</td>\n",
       "      <td>Republican</td>\n",
       "      <td>6</td>\n",
       "      <td>Yes</td>\n",
       "      <td>No</td>\n",
       "      <td>Yes</td>\n",
       "      <td>86812</td>\n",
       "      <td>Average reader</td>\n",
       "      <td>Gen X</td>\n",
       "      <td>Printed and e-books</td>\n",
       "      <td>College &lt; 4yr degree</td>\n",
       "      <td>Employed</td>\n",
       "    </tr>\n",
       "  </tbody>\n",
       "</table>\n",
       "</div>"
      ],
      "text/plain": [
       "   id  year language state     sex  age                marital  \\\n",
       "0   1  2018  English    PA  Female   33  Living with a partner   \n",
       "1   2  2018  English    SC  Female   76                Married   \n",
       "2   3  2018  English    NJ  Female   24                Widowed   \n",
       "3   4  2018  English    MD  Female   60  Living with a partner   \n",
       "4   5  2018  English    NH    Male   55                Married   \n",
       "\n",
       "                 education                             employment hispanic  \\\n",
       "0     High school graduate                     Employed full-time       No   \n",
       "1              Do not know                                Retired       No   \n",
       "2         Associate degree  (VOL) Have own business/self-employed       No   \n",
       "3         Associate degree                            (VOL) Other       No   \n",
       "4  Some college, no degree                     Employed full-time       No   \n",
       "\n",
       "    race                income        party  number_of_books_read  \\\n",
       "0  White   50 to under $75,000     Democrat                     1   \n",
       "1  White   30 to under $40,000  Independent                     5   \n",
       "2  White   30 to under $40,000   Republican                     0   \n",
       "3  White   10 to under $20,000     Democrat                     2   \n",
       "4  White  75 to under $100,000   Republican                     6   \n",
       "\n",
       "  read_printed_books read_audiobooks read_e-books  income_estimate  \\\n",
       "0                Yes              No           No            68456   \n",
       "1                Yes              No           No            32638   \n",
       "2                 No              No           No            30281   \n",
       "3                Yes              No           No            15844   \n",
       "4                Yes              No          Yes            86812   \n",
       "\n",
       "  reader_category  generation         reading_type       education_group  \\\n",
       "0  Average reader  Millenials         Printed only  High school graduate   \n",
       "1  Average reader  Silent Gen         Printed only               Unknown   \n",
       "2      Non-reader  Millenials           Non-reader  College < 4yr degree   \n",
       "3  Average reader     Boomers         Printed only  College < 4yr degree   \n",
       "4  Average reader       Gen X  Printed and e-books  College < 4yr degree   \n",
       "\n",
       "       employed  \n",
       "0      Employed  \n",
       "1  Not employed  \n",
       "2      Employed  \n",
       "3       Unknown  \n",
       "4      Employed  "
      ]
     },
     "execution_count": 47,
     "metadata": {},
     "output_type": "execute_result"
    }
   ],
   "source": [
    "df.head()"
   ]
  },
  {
   "cell_type": "code",
   "execution_count": 48,
   "id": "b88ed3f8",
   "metadata": {},
   "outputs": [
    {
     "data": {
      "text/plain": [
       "id                         int64\n",
       "year                      object\n",
       "language                category\n",
       "state                   category\n",
       "sex                     category\n",
       "age                        int64\n",
       "marital                 category\n",
       "education                 object\n",
       "employment                object\n",
       "hispanic                category\n",
       "race                    category\n",
       "income                    object\n",
       "party                     object\n",
       "number_of_books_read       int64\n",
       "read_printed_books      category\n",
       "read_audiobooks         category\n",
       "read_e-books            category\n",
       "income_estimate            int64\n",
       "reader_category           object\n",
       "generation                object\n",
       "reading_type              object\n",
       "education_group           object\n",
       "employed                  object\n",
       "dtype: object"
      ]
     },
     "execution_count": 48,
     "metadata": {},
     "output_type": "execute_result"
    }
   ],
   "source": [
    "df.dtypes"
   ]
  },
  {
   "cell_type": "code",
   "execution_count": 49,
   "id": "56ee79c4",
   "metadata": {},
   "outputs": [
    {
     "data": {
      "text/plain": [
       "id                       0\n",
       "year                     0\n",
       "language                 0\n",
       "state                    0\n",
       "sex                      0\n",
       "age                      0\n",
       "marital                  0\n",
       "education                0\n",
       "employment               0\n",
       "hispanic                 0\n",
       "race                     0\n",
       "income                   0\n",
       "party                    0\n",
       "number_of_books_read     0\n",
       "read_printed_books       0\n",
       "read_audiobooks          0\n",
       "read_e-books             0\n",
       "income_estimate          0\n",
       "reader_category          0\n",
       "generation               0\n",
       "reading_type             0\n",
       "education_group         23\n",
       "employed                26\n",
       "dtype: int64"
      ]
     },
     "execution_count": 49,
     "metadata": {},
     "output_type": "execute_result"
    }
   ],
   "source": [
    "df.isnull().sum()"
   ]
  },
  {
   "cell_type": "code",
   "execution_count": 50,
   "id": "09b1bf2e",
   "metadata": {},
   "outputs": [],
   "source": [
    "# make subset of nulls\n",
    "nulls = df[df['employed'].isnull()==True]"
   ]
  },
  {
   "cell_type": "code",
   "execution_count": 51,
   "id": "156c73fb",
   "metadata": {},
   "outputs": [
    {
     "data": {
      "text/html": [
       "<div>\n",
       "<style scoped>\n",
       "    .dataframe tbody tr th:only-of-type {\n",
       "        vertical-align: middle;\n",
       "    }\n",
       "\n",
       "    .dataframe tbody tr th {\n",
       "        vertical-align: top;\n",
       "    }\n",
       "\n",
       "    .dataframe thead th {\n",
       "        text-align: right;\n",
       "    }\n",
       "</style>\n",
       "<table border=\"1\" class=\"dataframe\">\n",
       "  <thead>\n",
       "    <tr style=\"text-align: right;\">\n",
       "      <th></th>\n",
       "      <th>employment</th>\n",
       "      <th>employed</th>\n",
       "    </tr>\n",
       "  </thead>\n",
       "  <tbody>\n",
       "    <tr>\n",
       "      <th>28</th>\n",
       "      <td>(VOL) Refused</td>\n",
       "      <td>NaN</td>\n",
       "    </tr>\n",
       "    <tr>\n",
       "      <th>43</th>\n",
       "      <td>(VOL) Refused</td>\n",
       "      <td>NaN</td>\n",
       "    </tr>\n",
       "    <tr>\n",
       "      <th>52</th>\n",
       "      <td>(VOL) Refused</td>\n",
       "      <td>NaN</td>\n",
       "    </tr>\n",
       "    <tr>\n",
       "      <th>60</th>\n",
       "      <td>(VOL) Refused</td>\n",
       "      <td>NaN</td>\n",
       "    </tr>\n",
       "    <tr>\n",
       "      <th>81</th>\n",
       "      <td>(VOL) Refused</td>\n",
       "      <td>NaN</td>\n",
       "    </tr>\n",
       "    <tr>\n",
       "      <th>120</th>\n",
       "      <td>(VOL) Refused</td>\n",
       "      <td>NaN</td>\n",
       "    </tr>\n",
       "    <tr>\n",
       "      <th>243</th>\n",
       "      <td>(VOL) Refused</td>\n",
       "      <td>NaN</td>\n",
       "    </tr>\n",
       "    <tr>\n",
       "      <th>467</th>\n",
       "      <td>(VOL) Refused</td>\n",
       "      <td>NaN</td>\n",
       "    </tr>\n",
       "    <tr>\n",
       "      <th>478</th>\n",
       "      <td>(VOL) Refused</td>\n",
       "      <td>NaN</td>\n",
       "    </tr>\n",
       "    <tr>\n",
       "      <th>524</th>\n",
       "      <td>(VOL) Refused</td>\n",
       "      <td>NaN</td>\n",
       "    </tr>\n",
       "    <tr>\n",
       "      <th>546</th>\n",
       "      <td>(VOL) Other</td>\n",
       "      <td>NaN</td>\n",
       "    </tr>\n",
       "    <tr>\n",
       "      <th>569</th>\n",
       "      <td>(VOL) Refused</td>\n",
       "      <td>NaN</td>\n",
       "    </tr>\n",
       "    <tr>\n",
       "      <th>667</th>\n",
       "      <td>(VOL) Refused</td>\n",
       "      <td>NaN</td>\n",
       "    </tr>\n",
       "    <tr>\n",
       "      <th>719</th>\n",
       "      <td>(VOL) Refused</td>\n",
       "      <td>NaN</td>\n",
       "    </tr>\n",
       "    <tr>\n",
       "      <th>867</th>\n",
       "      <td>(VOL) Other</td>\n",
       "      <td>NaN</td>\n",
       "    </tr>\n",
       "    <tr>\n",
       "      <th>888</th>\n",
       "      <td>(VOL) Refused</td>\n",
       "      <td>NaN</td>\n",
       "    </tr>\n",
       "    <tr>\n",
       "      <th>961</th>\n",
       "      <td>(VOL) Other</td>\n",
       "      <td>NaN</td>\n",
       "    </tr>\n",
       "    <tr>\n",
       "      <th>969</th>\n",
       "      <td>(VOL) Refused</td>\n",
       "      <td>NaN</td>\n",
       "    </tr>\n",
       "    <tr>\n",
       "      <th>1185</th>\n",
       "      <td>(VOL) Other</td>\n",
       "      <td>NaN</td>\n",
       "    </tr>\n",
       "    <tr>\n",
       "      <th>1190</th>\n",
       "      <td>(VOL) Refused</td>\n",
       "      <td>NaN</td>\n",
       "    </tr>\n",
       "    <tr>\n",
       "      <th>1279</th>\n",
       "      <td>(VOL) Refused</td>\n",
       "      <td>NaN</td>\n",
       "    </tr>\n",
       "    <tr>\n",
       "      <th>1284</th>\n",
       "      <td>(VOL) Refused</td>\n",
       "      <td>NaN</td>\n",
       "    </tr>\n",
       "    <tr>\n",
       "      <th>1325</th>\n",
       "      <td>(VOL) Other</td>\n",
       "      <td>NaN</td>\n",
       "    </tr>\n",
       "    <tr>\n",
       "      <th>1366</th>\n",
       "      <td>(VOL) Refused</td>\n",
       "      <td>NaN</td>\n",
       "    </tr>\n",
       "    <tr>\n",
       "      <th>1417</th>\n",
       "      <td>(VOL) Refused</td>\n",
       "      <td>NaN</td>\n",
       "    </tr>\n",
       "    <tr>\n",
       "      <th>1436</th>\n",
       "      <td>(VOL) Refused</td>\n",
       "      <td>NaN</td>\n",
       "    </tr>\n",
       "  </tbody>\n",
       "</table>\n",
       "</div>"
      ],
      "text/plain": [
       "         employment employed\n",
       "28    (VOL) Refused      NaN\n",
       "43    (VOL) Refused      NaN\n",
       "52    (VOL) Refused      NaN\n",
       "60    (VOL) Refused      NaN\n",
       "81    (VOL) Refused      NaN\n",
       "120   (VOL) Refused      NaN\n",
       "243   (VOL) Refused      NaN\n",
       "467   (VOL) Refused      NaN\n",
       "478   (VOL) Refused      NaN\n",
       "524   (VOL) Refused      NaN\n",
       "546     (VOL) Other      NaN\n",
       "569   (VOL) Refused      NaN\n",
       "667   (VOL) Refused      NaN\n",
       "719   (VOL) Refused      NaN\n",
       "867     (VOL) Other      NaN\n",
       "888   (VOL) Refused      NaN\n",
       "961     (VOL) Other      NaN\n",
       "969   (VOL) Refused      NaN\n",
       "1185    (VOL) Other      NaN\n",
       "1190  (VOL) Refused      NaN\n",
       "1279  (VOL) Refused      NaN\n",
       "1284  (VOL) Refused      NaN\n",
       "1325    (VOL) Other      NaN\n",
       "1366  (VOL) Refused      NaN\n",
       "1417  (VOL) Refused      NaN\n",
       "1436  (VOL) Refused      NaN"
      ]
     },
     "execution_count": 51,
     "metadata": {},
     "output_type": "execute_result"
    }
   ],
   "source": [
    "nulls[['employment','employed']]"
   ]
  },
  {
   "cell_type": "code",
   "execution_count": 52,
   "id": "8a2d7440",
   "metadata": {},
   "outputs": [],
   "source": [
    "# fix the missed rows\n",
    "df.loc[(df['employment'] == '(VOL) Refused') | (df['employment'] == '(VOL) Other'),\n",
    "       'employed'] = 'Unknown'"
   ]
  },
  {
   "cell_type": "code",
   "execution_count": 53,
   "id": "6dc64f28",
   "metadata": {},
   "outputs": [],
   "source": [
    "nulls2 = df[df['education_group'].isnull()==True]"
   ]
  },
  {
   "cell_type": "code",
   "execution_count": 54,
   "id": "e3190fce",
   "metadata": {},
   "outputs": [
    {
     "data": {
      "text/html": [
       "<div>\n",
       "<style scoped>\n",
       "    .dataframe tbody tr th:only-of-type {\n",
       "        vertical-align: middle;\n",
       "    }\n",
       "\n",
       "    .dataframe tbody tr th {\n",
       "        vertical-align: top;\n",
       "    }\n",
       "\n",
       "    .dataframe thead th {\n",
       "        text-align: right;\n",
       "    }\n",
       "</style>\n",
       "<table border=\"1\" class=\"dataframe\">\n",
       "  <thead>\n",
       "    <tr style=\"text-align: right;\">\n",
       "      <th></th>\n",
       "      <th>education</th>\n",
       "      <th>education_group</th>\n",
       "    </tr>\n",
       "  </thead>\n",
       "  <tbody>\n",
       "    <tr>\n",
       "      <th>28</th>\n",
       "      <td>Refused</td>\n",
       "      <td>NaN</td>\n",
       "    </tr>\n",
       "    <tr>\n",
       "      <th>43</th>\n",
       "      <td>Refused</td>\n",
       "      <td>NaN</td>\n",
       "    </tr>\n",
       "    <tr>\n",
       "      <th>52</th>\n",
       "      <td>Refused</td>\n",
       "      <td>NaN</td>\n",
       "    </tr>\n",
       "    <tr>\n",
       "      <th>60</th>\n",
       "      <td>Refused</td>\n",
       "      <td>NaN</td>\n",
       "    </tr>\n",
       "    <tr>\n",
       "      <th>81</th>\n",
       "      <td>Refused</td>\n",
       "      <td>NaN</td>\n",
       "    </tr>\n",
       "    <tr>\n",
       "      <th>120</th>\n",
       "      <td>Refused</td>\n",
       "      <td>NaN</td>\n",
       "    </tr>\n",
       "    <tr>\n",
       "      <th>243</th>\n",
       "      <td>Refused</td>\n",
       "      <td>NaN</td>\n",
       "    </tr>\n",
       "    <tr>\n",
       "      <th>478</th>\n",
       "      <td>Refused</td>\n",
       "      <td>NaN</td>\n",
       "    </tr>\n",
       "    <tr>\n",
       "      <th>524</th>\n",
       "      <td>Refused</td>\n",
       "      <td>NaN</td>\n",
       "    </tr>\n",
       "    <tr>\n",
       "      <th>527</th>\n",
       "      <td>Refused</td>\n",
       "      <td>NaN</td>\n",
       "    </tr>\n",
       "    <tr>\n",
       "      <th>569</th>\n",
       "      <td>Refused</td>\n",
       "      <td>NaN</td>\n",
       "    </tr>\n",
       "    <tr>\n",
       "      <th>667</th>\n",
       "      <td>Refused</td>\n",
       "      <td>NaN</td>\n",
       "    </tr>\n",
       "    <tr>\n",
       "      <th>888</th>\n",
       "      <td>Refused</td>\n",
       "      <td>NaN</td>\n",
       "    </tr>\n",
       "    <tr>\n",
       "      <th>894</th>\n",
       "      <td>Do not know</td>\n",
       "      <td>NaN</td>\n",
       "    </tr>\n",
       "    <tr>\n",
       "      <th>1017</th>\n",
       "      <td>Do not know</td>\n",
       "      <td>NaN</td>\n",
       "    </tr>\n",
       "    <tr>\n",
       "      <th>1190</th>\n",
       "      <td>Refused</td>\n",
       "      <td>NaN</td>\n",
       "    </tr>\n",
       "    <tr>\n",
       "      <th>1279</th>\n",
       "      <td>Refused</td>\n",
       "      <td>NaN</td>\n",
       "    </tr>\n",
       "    <tr>\n",
       "      <th>1284</th>\n",
       "      <td>Refused</td>\n",
       "      <td>NaN</td>\n",
       "    </tr>\n",
       "    <tr>\n",
       "      <th>1329</th>\n",
       "      <td>Refused</td>\n",
       "      <td>NaN</td>\n",
       "    </tr>\n",
       "    <tr>\n",
       "      <th>1361</th>\n",
       "      <td>Do not know</td>\n",
       "      <td>NaN</td>\n",
       "    </tr>\n",
       "    <tr>\n",
       "      <th>1366</th>\n",
       "      <td>Refused</td>\n",
       "      <td>NaN</td>\n",
       "    </tr>\n",
       "    <tr>\n",
       "      <th>1417</th>\n",
       "      <td>Refused</td>\n",
       "      <td>NaN</td>\n",
       "    </tr>\n",
       "    <tr>\n",
       "      <th>1440</th>\n",
       "      <td>Refused</td>\n",
       "      <td>NaN</td>\n",
       "    </tr>\n",
       "  </tbody>\n",
       "</table>\n",
       "</div>"
      ],
      "text/plain": [
       "        education education_group\n",
       "28        Refused             NaN\n",
       "43        Refused             NaN\n",
       "52        Refused             NaN\n",
       "60        Refused             NaN\n",
       "81        Refused             NaN\n",
       "120       Refused             NaN\n",
       "243       Refused             NaN\n",
       "478       Refused             NaN\n",
       "524       Refused             NaN\n",
       "527       Refused             NaN\n",
       "569       Refused             NaN\n",
       "667       Refused             NaN\n",
       "888       Refused             NaN\n",
       "894   Do not know             NaN\n",
       "1017  Do not know             NaN\n",
       "1190      Refused             NaN\n",
       "1279      Refused             NaN\n",
       "1284      Refused             NaN\n",
       "1329      Refused             NaN\n",
       "1361  Do not know             NaN\n",
       "1366      Refused             NaN\n",
       "1417      Refused             NaN\n",
       "1440      Refused             NaN"
      ]
     },
     "execution_count": 54,
     "metadata": {},
     "output_type": "execute_result"
    }
   ],
   "source": [
    "nulls2[['education','education_group']]"
   ]
  },
  {
   "cell_type": "code",
   "execution_count": 55,
   "id": "754b52d7",
   "metadata": {},
   "outputs": [],
   "source": [
    "df.loc[(df['education'] == 'Refused') | (df['education'] == 'Do not know'),\n",
    "       'education_group'] = 'Unknown'"
   ]
  },
  {
   "cell_type": "code",
   "execution_count": 56,
   "id": "8e0b5376",
   "metadata": {},
   "outputs": [
    {
     "data": {
      "text/plain": [
       "id                      0\n",
       "year                    0\n",
       "language                0\n",
       "state                   0\n",
       "sex                     0\n",
       "age                     0\n",
       "marital                 0\n",
       "education               0\n",
       "employment              0\n",
       "hispanic                0\n",
       "race                    0\n",
       "income                  0\n",
       "party                   0\n",
       "number_of_books_read    0\n",
       "read_printed_books      0\n",
       "read_audiobooks         0\n",
       "read_e-books            0\n",
       "income_estimate         0\n",
       "reader_category         0\n",
       "generation              0\n",
       "reading_type            0\n",
       "education_group         0\n",
       "employed                0\n",
       "dtype: int64"
      ]
     },
     "execution_count": 56,
     "metadata": {},
     "output_type": "execute_result"
    }
   ],
   "source": [
    "df.isnull().sum()"
   ]
  },
  {
   "cell_type": "markdown",
   "id": "c61fbe5c",
   "metadata": {},
   "source": [
    "# 7. Export"
   ]
  },
  {
   "cell_type": "code",
   "execution_count": 57,
   "id": "ceeb4c5e",
   "metadata": {},
   "outputs": [],
   "source": [
    "df.to_pickle(os.path.join(path, '02 Data','Prepared Data', 'df_all3years.pkl'))"
   ]
  },
  {
   "cell_type": "code",
   "execution_count": 58,
   "id": "8964f54a",
   "metadata": {},
   "outputs": [],
   "source": [
    "df.to_csv(os.path.join(path, '02 Data','Prepared Data', 'df_all3years.csv'))"
   ]
  },
  {
   "cell_type": "code",
   "execution_count": null,
   "id": "f81979ba",
   "metadata": {},
   "outputs": [],
   "source": []
  }
 ],
 "metadata": {
  "kernelspec": {
   "display_name": "Python 3 (ipykernel)",
   "language": "python",
   "name": "python3"
  },
  "language_info": {
   "codemirror_mode": {
    "name": "ipython",
    "version": 3
   },
   "file_extension": ".py",
   "mimetype": "text/x-python",
   "name": "python",
   "nbconvert_exporter": "python",
   "pygments_lexer": "ipython3",
   "version": "3.9.12"
  }
 },
 "nbformat": 4,
 "nbformat_minor": 5
}
