{
 "cells": [
  {
   "cell_type": "markdown",
   "metadata": {},
   "source": [
    "## 6.5 Machine Learning Part 2"
   ]
  },
  {
   "cell_type": "markdown",
   "metadata": {},
   "source": [
    "### This script contains the following:\n",
    "\n",
    "#### 1. Importing libraries and data and renaming columns\n",
    "#### 2. The elbow technique\n",
    "#### 3. k-means clustering"
   ]
  },
  {
   "cell_type": "markdown",
   "metadata": {},
   "source": [
    "### Importing libraries and data and renaming columns"
   ]
  },
  {
   "cell_type": "code",
   "execution_count": 1,
   "metadata": {},
   "outputs": [],
   "source": [
    "import pandas as pd\n",
    "import numpy as np\n",
    "import seaborn as sns\n",
    "import matplotlib\n",
    "import matplotlib.pyplot as plt\n",
    "import os\n",
    "import sklearn\n",
    "from sklearn.cluster import KMeans # Here is where you import the k-means algorithm from scikit-learn.\n",
    "import pylab as pl # PyLab is a convenience module that bulk imports matplotlib."
   ]
  },
  {
   "cell_type": "code",
   "execution_count": 2,
   "metadata": {},
   "outputs": [],
   "source": [
    "# This option ensures the graphs you create are displayed in your notebook without the need to \"call\" them specifically.\n",
    "\n",
    "%matplotlib inline"
   ]
  },
  {
   "cell_type": "code",
   "execution_count": 3,
   "metadata": {},
   "outputs": [],
   "source": [
    "path = '/Users/dana/Documents/Pew Research Reading Project'"
   ]
  },
  {
   "cell_type": "code",
   "execution_count": 4,
   "metadata": {},
   "outputs": [],
   "source": [
    "df = pd.read_pickle(os.path.join(path, '02 Data', 'Prepared Data', 'df_all3years.pkl'))"
   ]
  },
  {
   "cell_type": "code",
   "execution_count": 5,
   "metadata": {},
   "outputs": [
    {
     "data": {
      "text/plain": [
       "(5006, 23)"
      ]
     },
     "execution_count": 5,
     "metadata": {},
     "output_type": "execute_result"
    }
   ],
   "source": [
    "df.shape"
   ]
  },
  {
   "cell_type": "code",
   "execution_count": 6,
   "metadata": {
    "scrolled": true
   },
   "outputs": [
    {
     "data": {
      "text/html": [
       "<div>\n",
       "<style scoped>\n",
       "    .dataframe tbody tr th:only-of-type {\n",
       "        vertical-align: middle;\n",
       "    }\n",
       "\n",
       "    .dataframe tbody tr th {\n",
       "        vertical-align: top;\n",
       "    }\n",
       "\n",
       "    .dataframe thead th {\n",
       "        text-align: right;\n",
       "    }\n",
       "</style>\n",
       "<table border=\"1\" class=\"dataframe\">\n",
       "  <thead>\n",
       "    <tr style=\"text-align: right;\">\n",
       "      <th></th>\n",
       "      <th>id</th>\n",
       "      <th>year</th>\n",
       "      <th>language</th>\n",
       "      <th>state</th>\n",
       "      <th>sex</th>\n",
       "      <th>age</th>\n",
       "      <th>marital</th>\n",
       "      <th>education</th>\n",
       "      <th>employment</th>\n",
       "      <th>hispanic</th>\n",
       "      <th>...</th>\n",
       "      <th>number_of_books_read</th>\n",
       "      <th>read_printed_books</th>\n",
       "      <th>read_audiobooks</th>\n",
       "      <th>read_e-books</th>\n",
       "      <th>income_estimate</th>\n",
       "      <th>reader_category</th>\n",
       "      <th>generation</th>\n",
       "      <th>reading_type</th>\n",
       "      <th>education_group</th>\n",
       "      <th>employed</th>\n",
       "    </tr>\n",
       "  </thead>\n",
       "  <tbody>\n",
       "    <tr>\n",
       "      <th>0</th>\n",
       "      <td>1</td>\n",
       "      <td>2018</td>\n",
       "      <td>English</td>\n",
       "      <td>PA</td>\n",
       "      <td>Female</td>\n",
       "      <td>33</td>\n",
       "      <td>Living with a partner</td>\n",
       "      <td>High school graduate</td>\n",
       "      <td>Employed full-time</td>\n",
       "      <td>No</td>\n",
       "      <td>...</td>\n",
       "      <td>1</td>\n",
       "      <td>Yes</td>\n",
       "      <td>No</td>\n",
       "      <td>No</td>\n",
       "      <td>63829</td>\n",
       "      <td>Average reader</td>\n",
       "      <td>Millenials</td>\n",
       "      <td>Printed only</td>\n",
       "      <td>High school graduate</td>\n",
       "      <td>Employed</td>\n",
       "    </tr>\n",
       "    <tr>\n",
       "      <th>1</th>\n",
       "      <td>2</td>\n",
       "      <td>2018</td>\n",
       "      <td>English</td>\n",
       "      <td>SC</td>\n",
       "      <td>Female</td>\n",
       "      <td>76</td>\n",
       "      <td>Married</td>\n",
       "      <td>Do not know</td>\n",
       "      <td>Retired</td>\n",
       "      <td>No</td>\n",
       "      <td>...</td>\n",
       "      <td>5</td>\n",
       "      <td>Yes</td>\n",
       "      <td>No</td>\n",
       "      <td>No</td>\n",
       "      <td>35603</td>\n",
       "      <td>Average reader</td>\n",
       "      <td>Silent Gen</td>\n",
       "      <td>Printed only</td>\n",
       "      <td>Unknown</td>\n",
       "      <td>Not employed</td>\n",
       "    </tr>\n",
       "    <tr>\n",
       "      <th>2</th>\n",
       "      <td>3</td>\n",
       "      <td>2018</td>\n",
       "      <td>English</td>\n",
       "      <td>NJ</td>\n",
       "      <td>Female</td>\n",
       "      <td>24</td>\n",
       "      <td>Widowed</td>\n",
       "      <td>Associate degree</td>\n",
       "      <td>(VOL) Have own business/self-employed</td>\n",
       "      <td>No</td>\n",
       "      <td>...</td>\n",
       "      <td>0</td>\n",
       "      <td>No</td>\n",
       "      <td>No</td>\n",
       "      <td>No</td>\n",
       "      <td>30636</td>\n",
       "      <td>Non-reader</td>\n",
       "      <td>Millenials</td>\n",
       "      <td>Non-reader</td>\n",
       "      <td>College &lt; 4yr degree</td>\n",
       "      <td>Employed</td>\n",
       "    </tr>\n",
       "    <tr>\n",
       "      <th>3</th>\n",
       "      <td>4</td>\n",
       "      <td>2018</td>\n",
       "      <td>English</td>\n",
       "      <td>MD</td>\n",
       "      <td>Female</td>\n",
       "      <td>60</td>\n",
       "      <td>Living with a partner</td>\n",
       "      <td>Associate degree</td>\n",
       "      <td>(VOL) Other</td>\n",
       "      <td>No</td>\n",
       "      <td>...</td>\n",
       "      <td>2</td>\n",
       "      <td>Yes</td>\n",
       "      <td>No</td>\n",
       "      <td>No</td>\n",
       "      <td>10057</td>\n",
       "      <td>Average reader</td>\n",
       "      <td>Boomers</td>\n",
       "      <td>Printed only</td>\n",
       "      <td>College &lt; 4yr degree</td>\n",
       "      <td>Unknown</td>\n",
       "    </tr>\n",
       "    <tr>\n",
       "      <th>4</th>\n",
       "      <td>5</td>\n",
       "      <td>2018</td>\n",
       "      <td>English</td>\n",
       "      <td>NH</td>\n",
       "      <td>Male</td>\n",
       "      <td>55</td>\n",
       "      <td>Married</td>\n",
       "      <td>Some college, no degree</td>\n",
       "      <td>Employed full-time</td>\n",
       "      <td>No</td>\n",
       "      <td>...</td>\n",
       "      <td>6</td>\n",
       "      <td>Yes</td>\n",
       "      <td>No</td>\n",
       "      <td>Yes</td>\n",
       "      <td>87803</td>\n",
       "      <td>Average reader</td>\n",
       "      <td>Gen X</td>\n",
       "      <td>Printed and e-books</td>\n",
       "      <td>College &lt; 4yr degree</td>\n",
       "      <td>Employed</td>\n",
       "    </tr>\n",
       "  </tbody>\n",
       "</table>\n",
       "<p>5 rows × 23 columns</p>\n",
       "</div>"
      ],
      "text/plain": [
       "   id  year language state     sex  age                marital  \\\n",
       "0   1  2018  English    PA  Female   33  Living with a partner   \n",
       "1   2  2018  English    SC  Female   76                Married   \n",
       "2   3  2018  English    NJ  Female   24                Widowed   \n",
       "3   4  2018  English    MD  Female   60  Living with a partner   \n",
       "4   5  2018  English    NH    Male   55                Married   \n",
       "\n",
       "                 education                             employment hispanic  \\\n",
       "0     High school graduate                     Employed full-time       No   \n",
       "1              Do not know                                Retired       No   \n",
       "2         Associate degree  (VOL) Have own business/self-employed       No   \n",
       "3         Associate degree                            (VOL) Other       No   \n",
       "4  Some college, no degree                     Employed full-time       No   \n",
       "\n",
       "   ... number_of_books_read read_printed_books read_audiobooks  read_e-books  \\\n",
       "0  ...                    1                Yes              No            No   \n",
       "1  ...                    5                Yes              No            No   \n",
       "2  ...                    0                 No              No            No   \n",
       "3  ...                    2                Yes              No            No   \n",
       "4  ...                    6                Yes              No           Yes   \n",
       "\n",
       "  income_estimate reader_category  generation         reading_type  \\\n",
       "0           63829  Average reader  Millenials         Printed only   \n",
       "1           35603  Average reader  Silent Gen         Printed only   \n",
       "2           30636      Non-reader  Millenials           Non-reader   \n",
       "3           10057  Average reader     Boomers         Printed only   \n",
       "4           87803  Average reader       Gen X  Printed and e-books   \n",
       "\n",
       "        education_group      employed  \n",
       "0  High school graduate      Employed  \n",
       "1               Unknown  Not employed  \n",
       "2  College < 4yr degree      Employed  \n",
       "3  College < 4yr degree       Unknown  \n",
       "4  College < 4yr degree      Employed  \n",
       "\n",
       "[5 rows x 23 columns]"
      ]
     },
     "execution_count": 6,
     "metadata": {},
     "output_type": "execute_result"
    }
   ],
   "source": [
    "df.head()"
   ]
  },
  {
   "cell_type": "code",
   "execution_count": 7,
   "metadata": {},
   "outputs": [
    {
     "data": {
      "text/plain": [
       "Index(['id', 'year', 'language', 'state', 'sex', 'age', 'marital', 'education',\n",
       "       'employment', 'hispanic', 'race', 'income', 'party',\n",
       "       'number_of_books_read', 'read_printed_books', 'read_audiobooks',\n",
       "       'read_e-books', 'income_estimate', 'reader_category', 'generation',\n",
       "       'reading_type', 'education_group', 'employed'],\n",
       "      dtype='object')"
      ]
     },
     "execution_count": 7,
     "metadata": {},
     "output_type": "execute_result"
    }
   ],
   "source": [
    "df.columns"
   ]
  },
  {
   "cell_type": "code",
   "execution_count": 8,
   "metadata": {},
   "outputs": [
    {
     "data": {
      "text/plain": [
       "College < 4yr degree     1303\n",
       "College 4yr degree       1264\n",
       "High school graduate     1111\n",
       "College > 4yr degree      915\n",
       "Less than high school     348\n",
       "Unknown                    65\n",
       "Name: education_group, dtype: int64"
      ]
     },
     "execution_count": 8,
     "metadata": {},
     "output_type": "execute_result"
    }
   ],
   "source": [
    "df['education_group'].value_counts()"
   ]
  },
  {
   "cell_type": "code",
   "execution_count": 9,
   "metadata": {},
   "outputs": [],
   "source": [
    "# assign numbers to education groups\n",
    "df = df.replace({'education_group': {'Unknown': 0, 'Less than high school': 1, 'High school graduate': 2,\n",
    "                               'College < 4yr degree': 3, 'College 4yr degree': 4, 'College > 4yr degree': 5}})"
   ]
  },
  {
   "cell_type": "code",
   "execution_count": 10,
   "metadata": {},
   "outputs": [
    {
     "data": {
      "text/plain": [
       "3    1303\n",
       "4    1264\n",
       "2    1111\n",
       "5     915\n",
       "1     348\n",
       "0      65\n",
       "Name: education_group, dtype: int64"
      ]
     },
     "execution_count": 10,
     "metadata": {},
     "output_type": "execute_result"
    }
   ],
   "source": [
    "df['education_group'].value_counts()"
   ]
  },
  {
   "cell_type": "code",
   "execution_count": 11,
   "metadata": {},
   "outputs": [],
   "source": [
    "# create dummy variables for the book forms\n",
    "dummies = pd.get_dummies(df[['read_printed_books','read_audiobooks','read_e-books']])\n",
    "df = pd.concat([df, dummies], axis=1)"
   ]
  },
  {
   "cell_type": "code",
   "execution_count": 12,
   "metadata": {},
   "outputs": [
    {
     "data": {
      "text/html": [
       "<div>\n",
       "<style scoped>\n",
       "    .dataframe tbody tr th:only-of-type {\n",
       "        vertical-align: middle;\n",
       "    }\n",
       "\n",
       "    .dataframe tbody tr th {\n",
       "        vertical-align: top;\n",
       "    }\n",
       "\n",
       "    .dataframe thead th {\n",
       "        text-align: right;\n",
       "    }\n",
       "</style>\n",
       "<table border=\"1\" class=\"dataframe\">\n",
       "  <thead>\n",
       "    <tr style=\"text-align: right;\">\n",
       "      <th></th>\n",
       "      <th>id</th>\n",
       "      <th>year</th>\n",
       "      <th>language</th>\n",
       "      <th>state</th>\n",
       "      <th>sex</th>\n",
       "      <th>age</th>\n",
       "      <th>marital</th>\n",
       "      <th>education</th>\n",
       "      <th>employment</th>\n",
       "      <th>hispanic</th>\n",
       "      <th>...</th>\n",
       "      <th>generation</th>\n",
       "      <th>reading_type</th>\n",
       "      <th>education_group</th>\n",
       "      <th>employed</th>\n",
       "      <th>read_printed_books_No</th>\n",
       "      <th>read_printed_books_Yes</th>\n",
       "      <th>read_audiobooks_No</th>\n",
       "      <th>read_audiobooks_Yes</th>\n",
       "      <th>read_e-books_No</th>\n",
       "      <th>read_e-books_Yes</th>\n",
       "    </tr>\n",
       "  </thead>\n",
       "  <tbody>\n",
       "    <tr>\n",
       "      <th>0</th>\n",
       "      <td>1</td>\n",
       "      <td>2018</td>\n",
       "      <td>English</td>\n",
       "      <td>PA</td>\n",
       "      <td>Female</td>\n",
       "      <td>33</td>\n",
       "      <td>Living with a partner</td>\n",
       "      <td>High school graduate</td>\n",
       "      <td>Employed full-time</td>\n",
       "      <td>No</td>\n",
       "      <td>...</td>\n",
       "      <td>Millenials</td>\n",
       "      <td>Printed only</td>\n",
       "      <td>2</td>\n",
       "      <td>Employed</td>\n",
       "      <td>0</td>\n",
       "      <td>1</td>\n",
       "      <td>1</td>\n",
       "      <td>0</td>\n",
       "      <td>1</td>\n",
       "      <td>0</td>\n",
       "    </tr>\n",
       "    <tr>\n",
       "      <th>1</th>\n",
       "      <td>2</td>\n",
       "      <td>2018</td>\n",
       "      <td>English</td>\n",
       "      <td>SC</td>\n",
       "      <td>Female</td>\n",
       "      <td>76</td>\n",
       "      <td>Married</td>\n",
       "      <td>Do not know</td>\n",
       "      <td>Retired</td>\n",
       "      <td>No</td>\n",
       "      <td>...</td>\n",
       "      <td>Silent Gen</td>\n",
       "      <td>Printed only</td>\n",
       "      <td>0</td>\n",
       "      <td>Not employed</td>\n",
       "      <td>0</td>\n",
       "      <td>1</td>\n",
       "      <td>1</td>\n",
       "      <td>0</td>\n",
       "      <td>1</td>\n",
       "      <td>0</td>\n",
       "    </tr>\n",
       "    <tr>\n",
       "      <th>2</th>\n",
       "      <td>3</td>\n",
       "      <td>2018</td>\n",
       "      <td>English</td>\n",
       "      <td>NJ</td>\n",
       "      <td>Female</td>\n",
       "      <td>24</td>\n",
       "      <td>Widowed</td>\n",
       "      <td>Associate degree</td>\n",
       "      <td>(VOL) Have own business/self-employed</td>\n",
       "      <td>No</td>\n",
       "      <td>...</td>\n",
       "      <td>Millenials</td>\n",
       "      <td>Non-reader</td>\n",
       "      <td>3</td>\n",
       "      <td>Employed</td>\n",
       "      <td>1</td>\n",
       "      <td>0</td>\n",
       "      <td>1</td>\n",
       "      <td>0</td>\n",
       "      <td>1</td>\n",
       "      <td>0</td>\n",
       "    </tr>\n",
       "    <tr>\n",
       "      <th>3</th>\n",
       "      <td>4</td>\n",
       "      <td>2018</td>\n",
       "      <td>English</td>\n",
       "      <td>MD</td>\n",
       "      <td>Female</td>\n",
       "      <td>60</td>\n",
       "      <td>Living with a partner</td>\n",
       "      <td>Associate degree</td>\n",
       "      <td>(VOL) Other</td>\n",
       "      <td>No</td>\n",
       "      <td>...</td>\n",
       "      <td>Boomers</td>\n",
       "      <td>Printed only</td>\n",
       "      <td>3</td>\n",
       "      <td>Unknown</td>\n",
       "      <td>0</td>\n",
       "      <td>1</td>\n",
       "      <td>1</td>\n",
       "      <td>0</td>\n",
       "      <td>1</td>\n",
       "      <td>0</td>\n",
       "    </tr>\n",
       "    <tr>\n",
       "      <th>4</th>\n",
       "      <td>5</td>\n",
       "      <td>2018</td>\n",
       "      <td>English</td>\n",
       "      <td>NH</td>\n",
       "      <td>Male</td>\n",
       "      <td>55</td>\n",
       "      <td>Married</td>\n",
       "      <td>Some college, no degree</td>\n",
       "      <td>Employed full-time</td>\n",
       "      <td>No</td>\n",
       "      <td>...</td>\n",
       "      <td>Gen X</td>\n",
       "      <td>Printed and e-books</td>\n",
       "      <td>3</td>\n",
       "      <td>Employed</td>\n",
       "      <td>0</td>\n",
       "      <td>1</td>\n",
       "      <td>1</td>\n",
       "      <td>0</td>\n",
       "      <td>0</td>\n",
       "      <td>1</td>\n",
       "    </tr>\n",
       "  </tbody>\n",
       "</table>\n",
       "<p>5 rows × 29 columns</p>\n",
       "</div>"
      ],
      "text/plain": [
       "   id  year language state     sex  age                marital  \\\n",
       "0   1  2018  English    PA  Female   33  Living with a partner   \n",
       "1   2  2018  English    SC  Female   76                Married   \n",
       "2   3  2018  English    NJ  Female   24                Widowed   \n",
       "3   4  2018  English    MD  Female   60  Living with a partner   \n",
       "4   5  2018  English    NH    Male   55                Married   \n",
       "\n",
       "                 education                             employment hispanic  \\\n",
       "0     High school graduate                     Employed full-time       No   \n",
       "1              Do not know                                Retired       No   \n",
       "2         Associate degree  (VOL) Have own business/self-employed       No   \n",
       "3         Associate degree                            (VOL) Other       No   \n",
       "4  Some college, no degree                     Employed full-time       No   \n",
       "\n",
       "   ...  generation         reading_type education_group      employed  \\\n",
       "0  ...  Millenials         Printed only               2      Employed   \n",
       "1  ...  Silent Gen         Printed only               0  Not employed   \n",
       "2  ...  Millenials           Non-reader               3      Employed   \n",
       "3  ...     Boomers         Printed only               3       Unknown   \n",
       "4  ...       Gen X  Printed and e-books               3      Employed   \n",
       "\n",
       "  read_printed_books_No read_printed_books_Yes read_audiobooks_No  \\\n",
       "0                     0                      1                  1   \n",
       "1                     0                      1                  1   \n",
       "2                     1                      0                  1   \n",
       "3                     0                      1                  1   \n",
       "4                     0                      1                  1   \n",
       "\n",
       "   read_audiobooks_Yes read_e-books_No read_e-books_Yes  \n",
       "0                    0               1                0  \n",
       "1                    0               1                0  \n",
       "2                    0               1                0  \n",
       "3                    0               1                0  \n",
       "4                    0               0                1  \n",
       "\n",
       "[5 rows x 29 columns]"
      ]
     },
     "execution_count": 12,
     "metadata": {},
     "output_type": "execute_result"
    }
   ],
   "source": [
    "df.head()"
   ]
  },
  {
   "cell_type": "code",
   "execution_count": 13,
   "metadata": {},
   "outputs": [
    {
     "data": {
      "text/plain": [
       "Index(['id', 'year', 'language', 'state', 'sex', 'age', 'marital', 'education',\n",
       "       'employment', 'hispanic', 'race', 'income', 'party',\n",
       "       'number_of_books_read', 'read_printed_books', 'read_audiobooks',\n",
       "       'read_e-books', 'income_estimate', 'reader_category', 'generation',\n",
       "       'reading_type', 'education_group', 'employed', 'read_printed_books_No',\n",
       "       'read_printed_books_Yes', 'read_audiobooks_No', 'read_audiobooks_Yes',\n",
       "       'read_e-books_No', 'read_e-books_Yes'],\n",
       "      dtype='object')"
      ]
     },
     "execution_count": 13,
     "metadata": {},
     "output_type": "execute_result"
    }
   ],
   "source": [
    "df.columns"
   ]
  },
  {
   "cell_type": "code",
   "execution_count": 14,
   "metadata": {},
   "outputs": [],
   "source": [
    "# keep only the ones I need\n",
    "df = df[['number_of_books_read','education_group',\n",
    "        'read_printed_books_Yes','read_audiobooks_Yes','read_e-books_Yes']]"
   ]
  },
  {
   "cell_type": "code",
   "execution_count": 15,
   "metadata": {},
   "outputs": [],
   "source": [
    "# rename columns\n",
    "df.rename(columns={'read_printed_books_Yes':'read printed books','read_audiobooks_Yes':'read audiobooks',\n",
    "                   'read_e-books_Yes':'read e-books'}, inplace=True)"
   ]
  },
  {
   "cell_type": "code",
   "execution_count": 16,
   "metadata": {},
   "outputs": [
    {
     "data": {
      "text/html": [
       "<div>\n",
       "<style scoped>\n",
       "    .dataframe tbody tr th:only-of-type {\n",
       "        vertical-align: middle;\n",
       "    }\n",
       "\n",
       "    .dataframe tbody tr th {\n",
       "        vertical-align: top;\n",
       "    }\n",
       "\n",
       "    .dataframe thead th {\n",
       "        text-align: right;\n",
       "    }\n",
       "</style>\n",
       "<table border=\"1\" class=\"dataframe\">\n",
       "  <thead>\n",
       "    <tr style=\"text-align: right;\">\n",
       "      <th></th>\n",
       "      <th>number_of_books_read</th>\n",
       "      <th>education_group</th>\n",
       "      <th>read printed books</th>\n",
       "      <th>read audiobooks</th>\n",
       "      <th>read e-books</th>\n",
       "    </tr>\n",
       "  </thead>\n",
       "  <tbody>\n",
       "    <tr>\n",
       "      <th>0</th>\n",
       "      <td>1</td>\n",
       "      <td>2</td>\n",
       "      <td>1</td>\n",
       "      <td>0</td>\n",
       "      <td>0</td>\n",
       "    </tr>\n",
       "    <tr>\n",
       "      <th>1</th>\n",
       "      <td>5</td>\n",
       "      <td>0</td>\n",
       "      <td>1</td>\n",
       "      <td>0</td>\n",
       "      <td>0</td>\n",
       "    </tr>\n",
       "    <tr>\n",
       "      <th>2</th>\n",
       "      <td>0</td>\n",
       "      <td>3</td>\n",
       "      <td>0</td>\n",
       "      <td>0</td>\n",
       "      <td>0</td>\n",
       "    </tr>\n",
       "    <tr>\n",
       "      <th>3</th>\n",
       "      <td>2</td>\n",
       "      <td>3</td>\n",
       "      <td>1</td>\n",
       "      <td>0</td>\n",
       "      <td>0</td>\n",
       "    </tr>\n",
       "    <tr>\n",
       "      <th>4</th>\n",
       "      <td>6</td>\n",
       "      <td>3</td>\n",
       "      <td>1</td>\n",
       "      <td>0</td>\n",
       "      <td>1</td>\n",
       "    </tr>\n",
       "  </tbody>\n",
       "</table>\n",
       "</div>"
      ],
      "text/plain": [
       "   number_of_books_read  education_group  read printed books  read audiobooks  \\\n",
       "0                     1                2                   1                0   \n",
       "1                     5                0                   1                0   \n",
       "2                     0                3                   0                0   \n",
       "3                     2                3                   1                0   \n",
       "4                     6                3                   1                0   \n",
       "\n",
       "   read e-books  \n",
       "0             0  \n",
       "1             0  \n",
       "2             0  \n",
       "3             0  \n",
       "4             1  "
      ]
     },
     "execution_count": 16,
     "metadata": {},
     "output_type": "execute_result"
    }
   ],
   "source": [
    "df.head()"
   ]
  },
  {
   "cell_type": "code",
   "execution_count": 17,
   "metadata": {},
   "outputs": [],
   "source": [
    "# remove outliers\n",
    "df = df.loc[df['number_of_books_read'] < 60]"
   ]
  },
  {
   "cell_type": "code",
   "execution_count": 18,
   "metadata": {},
   "outputs": [
    {
     "data": {
      "text/plain": [
       "(4711, 5)"
      ]
     },
     "execution_count": 18,
     "metadata": {},
     "output_type": "execute_result"
    }
   ],
   "source": [
    "df.shape"
   ]
  },
  {
   "cell_type": "code",
   "execution_count": 19,
   "metadata": {},
   "outputs": [
    {
     "data": {
      "text/html": [
       "<div>\n",
       "<style scoped>\n",
       "    .dataframe tbody tr th:only-of-type {\n",
       "        vertical-align: middle;\n",
       "    }\n",
       "\n",
       "    .dataframe tbody tr th {\n",
       "        vertical-align: top;\n",
       "    }\n",
       "\n",
       "    .dataframe thead th {\n",
       "        text-align: right;\n",
       "    }\n",
       "</style>\n",
       "<table border=\"1\" class=\"dataframe\">\n",
       "  <thead>\n",
       "    <tr style=\"text-align: right;\">\n",
       "      <th></th>\n",
       "      <th>number_of_books_read</th>\n",
       "      <th>education_group</th>\n",
       "      <th>read printed books</th>\n",
       "      <th>read audiobooks</th>\n",
       "      <th>read e-books</th>\n",
       "    </tr>\n",
       "  </thead>\n",
       "  <tbody>\n",
       "    <tr>\n",
       "      <th>0</th>\n",
       "      <td>0.018182</td>\n",
       "      <td>0.4</td>\n",
       "      <td>1.0</td>\n",
       "      <td>0.0</td>\n",
       "      <td>0.0</td>\n",
       "    </tr>\n",
       "    <tr>\n",
       "      <th>1</th>\n",
       "      <td>0.090909</td>\n",
       "      <td>0.0</td>\n",
       "      <td>1.0</td>\n",
       "      <td>0.0</td>\n",
       "      <td>0.0</td>\n",
       "    </tr>\n",
       "    <tr>\n",
       "      <th>2</th>\n",
       "      <td>0.000000</td>\n",
       "      <td>0.6</td>\n",
       "      <td>0.0</td>\n",
       "      <td>0.0</td>\n",
       "      <td>0.0</td>\n",
       "    </tr>\n",
       "    <tr>\n",
       "      <th>3</th>\n",
       "      <td>0.036364</td>\n",
       "      <td>0.6</td>\n",
       "      <td>1.0</td>\n",
       "      <td>0.0</td>\n",
       "      <td>0.0</td>\n",
       "    </tr>\n",
       "    <tr>\n",
       "      <th>4</th>\n",
       "      <td>0.109091</td>\n",
       "      <td>0.6</td>\n",
       "      <td>1.0</td>\n",
       "      <td>0.0</td>\n",
       "      <td>1.0</td>\n",
       "    </tr>\n",
       "    <tr>\n",
       "      <th>...</th>\n",
       "      <td>...</td>\n",
       "      <td>...</td>\n",
       "      <td>...</td>\n",
       "      <td>...</td>\n",
       "      <td>...</td>\n",
       "    </tr>\n",
       "    <tr>\n",
       "      <th>1497</th>\n",
       "      <td>0.090909</td>\n",
       "      <td>0.6</td>\n",
       "      <td>1.0</td>\n",
       "      <td>1.0</td>\n",
       "      <td>0.0</td>\n",
       "    </tr>\n",
       "    <tr>\n",
       "      <th>1498</th>\n",
       "      <td>0.054545</td>\n",
       "      <td>0.6</td>\n",
       "      <td>1.0</td>\n",
       "      <td>0.0</td>\n",
       "      <td>1.0</td>\n",
       "    </tr>\n",
       "    <tr>\n",
       "      <th>1499</th>\n",
       "      <td>0.036364</td>\n",
       "      <td>0.4</td>\n",
       "      <td>1.0</td>\n",
       "      <td>1.0</td>\n",
       "      <td>0.0</td>\n",
       "    </tr>\n",
       "    <tr>\n",
       "      <th>1500</th>\n",
       "      <td>0.018182</td>\n",
       "      <td>0.4</td>\n",
       "      <td>1.0</td>\n",
       "      <td>0.0</td>\n",
       "      <td>0.0</td>\n",
       "    </tr>\n",
       "    <tr>\n",
       "      <th>1501</th>\n",
       "      <td>0.272727</td>\n",
       "      <td>0.4</td>\n",
       "      <td>1.0</td>\n",
       "      <td>1.0</td>\n",
       "      <td>0.0</td>\n",
       "    </tr>\n",
       "  </tbody>\n",
       "</table>\n",
       "<p>4711 rows × 5 columns</p>\n",
       "</div>"
      ],
      "text/plain": [
       "      number_of_books_read  education_group  read printed books  \\\n",
       "0                 0.018182              0.4                 1.0   \n",
       "1                 0.090909              0.0                 1.0   \n",
       "2                 0.000000              0.6                 0.0   \n",
       "3                 0.036364              0.6                 1.0   \n",
       "4                 0.109091              0.6                 1.0   \n",
       "...                    ...              ...                 ...   \n",
       "1497              0.090909              0.6                 1.0   \n",
       "1498              0.054545              0.6                 1.0   \n",
       "1499              0.036364              0.4                 1.0   \n",
       "1500              0.018182              0.4                 1.0   \n",
       "1501              0.272727              0.4                 1.0   \n",
       "\n",
       "      read audiobooks  read e-books  \n",
       "0                 0.0           0.0  \n",
       "1                 0.0           0.0  \n",
       "2                 0.0           0.0  \n",
       "3                 0.0           0.0  \n",
       "4                 0.0           1.0  \n",
       "...               ...           ...  \n",
       "1497              1.0           0.0  \n",
       "1498              0.0           1.0  \n",
       "1499              1.0           0.0  \n",
       "1500              0.0           0.0  \n",
       "1501              1.0           0.0  \n",
       "\n",
       "[4711 rows x 5 columns]"
      ]
     },
     "metadata": {},
     "output_type": "display_data"
    }
   ],
   "source": [
    "# normalize the data\n",
    "\n",
    "# copy the data\n",
    "df = df.copy()\n",
    "  \n",
    "# apply normalization techniques\n",
    "for column in df.columns:\n",
    "    df[column] = df[column]  / df[column].abs().max()\n",
    "      \n",
    "# view normalized data\n",
    "display(df)"
   ]
  },
  {
   "cell_type": "markdown",
   "metadata": {},
   "source": [
    "### 2. The elbow technique"
   ]
  },
  {
   "cell_type": "code",
   "execution_count": 20,
   "metadata": {},
   "outputs": [],
   "source": [
    "num_cl = range(1, 10) # Defines the range of potential clusters in the data.\n",
    "kmeans = [KMeans(n_clusters=i) for i in num_cl] # Defines k-means clusters in the range assigned above."
   ]
  },
  {
   "cell_type": "code",
   "execution_count": 21,
   "metadata": {},
   "outputs": [
    {
     "data": {
      "text/plain": [
       "[-3212.539711699888,\n",
       " -2090.4436027100905,\n",
       " -1329.159285127227,\n",
       " -928.5237856144707,\n",
       " -689.9523809394791,\n",
       " -543.5065238511419,\n",
       " -452.4160594495557,\n",
       " -381.5623840850309,\n",
       " -336.5762468807273]"
      ]
     },
     "execution_count": 21,
     "metadata": {},
     "output_type": "execute_result"
    }
   ],
   "source": [
    "score = [kmeans[i].fit(df).score(df) for i in range(len(kmeans))] # Creates a score that represents \n",
    "# a rate of variation for the given cluster option.\n",
    "\n",
    "score"
   ]
  },
  {
   "cell_type": "code",
   "execution_count": 22,
   "metadata": {},
   "outputs": [
    {
     "data": {
      "image/png": "[encoded data removed]",
      "text/plain": [
       "<Figure size 432x288 with 1 Axes>"
      ]
     },
     "metadata": {
      "needs_background": "light"
     },
     "output_type": "display_data"
    }
   ],
   "source": [
    "# Plot the elbow curve using PyLab.\n",
    "\n",
    "pl.plot(num_cl,score)\n",
    "pl.xlabel('Number of Clusters')\n",
    "pl.ylabel('Score')\n",
    "pl.title('Elbow Curve')\n",
    "pl.show()"
   ]
  },
  {
   "cell_type": "code",
   "execution_count": 23,
   "metadata": {},
   "outputs": [
    {
     "name": "stdout",
     "output_type": "stream",
     "text": [
      "Silhouette score for k(clusters) = 2 is 0.41977234458495866\n",
      "Silhouette score for k(clusters) = 3 is 0.5031388939539923\n",
      "Silhouette score for k(clusters) = 4 is 0.5660775274847846\n",
      "Silhouette score for k(clusters) = 5 is 0.6226198739644654\n",
      "Silhouette score for k(clusters) = 6 is 0.6466274598721656\n",
      "Silhouette score for k(clusters) = 7 is 0.6689511239734036\n",
      "Silhouette score for k(clusters) = 8 is 0.5822631237519018\n",
      "Silhouette score for k(clusters) = 9 is 0.5972322645943625\n"
     ]
    }
   ],
   "source": [
    "# try silhouette score method\n",
    "\n",
    "import sklearn.cluster as cluster\n",
    "import sklearn.metrics as metrics\n",
    "for i in range(2,10):\n",
    "    labels=cluster.KMeans(n_clusters=i,init=\"k-means++\",random_state=200).fit(df).labels_\n",
    "    print (\"Silhouette score for k(clusters) = \"+str(i)+\" is \"\n",
    "           +str(metrics.silhouette_score(df,labels,metric=\"euclidean\",sample_size=1000,random_state=200)))"
   ]
  },
  {
   "cell_type": "code",
   "execution_count": 24,
   "metadata": {},
   "outputs": [],
   "source": [
    "# 7 is best"
   ]
  },
  {
   "cell_type": "markdown",
   "metadata": {},
   "source": [
    "### 3. k-means clustering"
   ]
  },
  {
   "cell_type": "code",
   "execution_count": 25,
   "metadata": {},
   "outputs": [],
   "source": [
    "# Create the k-means object.\n",
    "\n",
    "kmeans = KMeans(n_clusters = 7) \n"
   ]
  },
  {
   "cell_type": "code",
   "execution_count": 26,
   "metadata": {},
   "outputs": [
    {
     "data": {
      "text/plain": [
       "KMeans(n_clusters=7)"
      ]
     },
     "execution_count": 26,
     "metadata": {},
     "output_type": "execute_result"
    }
   ],
   "source": [
    "# Fit the k-means object to the data.\n",
    "\n",
    "kmeans.fit(df)"
   ]
  },
  {
   "cell_type": "code",
   "execution_count": 27,
   "metadata": {},
   "outputs": [],
   "source": [
    "df['clusters'] = kmeans.fit_predict(df)"
   ]
  },
  {
   "cell_type": "code",
   "execution_count": 28,
   "metadata": {},
   "outputs": [
    {
     "data": {
      "text/html": [
       "<div>\n",
       "<style scoped>\n",
       "    .dataframe tbody tr th:only-of-type {\n",
       "        vertical-align: middle;\n",
       "    }\n",
       "\n",
       "    .dataframe tbody tr th {\n",
       "        vertical-align: top;\n",
       "    }\n",
       "\n",
       "    .dataframe thead th {\n",
       "        text-align: right;\n",
       "    }\n",
       "</style>\n",
       "<table border=\"1\" class=\"dataframe\">\n",
       "  <thead>\n",
       "    <tr style=\"text-align: right;\">\n",
       "      <th></th>\n",
       "      <th>number_of_books_read</th>\n",
       "      <th>education_group</th>\n",
       "      <th>read printed books</th>\n",
       "      <th>read audiobooks</th>\n",
       "      <th>read e-books</th>\n",
       "      <th>clusters</th>\n",
       "    </tr>\n",
       "  </thead>\n",
       "  <tbody>\n",
       "    <tr>\n",
       "      <th>0</th>\n",
       "      <td>0.018182</td>\n",
       "      <td>0.4</td>\n",
       "      <td>1.0</td>\n",
       "      <td>0.0</td>\n",
       "      <td>0.0</td>\n",
       "      <td>0</td>\n",
       "    </tr>\n",
       "    <tr>\n",
       "      <th>1</th>\n",
       "      <td>0.090909</td>\n",
       "      <td>0.0</td>\n",
       "      <td>1.0</td>\n",
       "      <td>0.0</td>\n",
       "      <td>0.0</td>\n",
       "      <td>0</td>\n",
       "    </tr>\n",
       "    <tr>\n",
       "      <th>2</th>\n",
       "      <td>0.000000</td>\n",
       "      <td>0.6</td>\n",
       "      <td>0.0</td>\n",
       "      <td>0.0</td>\n",
       "      <td>0.0</td>\n",
       "      <td>1</td>\n",
       "    </tr>\n",
       "    <tr>\n",
       "      <th>3</th>\n",
       "      <td>0.036364</td>\n",
       "      <td>0.6</td>\n",
       "      <td>1.0</td>\n",
       "      <td>0.0</td>\n",
       "      <td>0.0</td>\n",
       "      <td>0</td>\n",
       "    </tr>\n",
       "    <tr>\n",
       "      <th>4</th>\n",
       "      <td>0.109091</td>\n",
       "      <td>0.6</td>\n",
       "      <td>1.0</td>\n",
       "      <td>0.0</td>\n",
       "      <td>1.0</td>\n",
       "      <td>5</td>\n",
       "    </tr>\n",
       "  </tbody>\n",
       "</table>\n",
       "</div>"
      ],
      "text/plain": [
       "   number_of_books_read  education_group  read printed books  read audiobooks  \\\n",
       "0              0.018182              0.4                 1.0              0.0   \n",
       "1              0.090909              0.0                 1.0              0.0   \n",
       "2              0.000000              0.6                 0.0              0.0   \n",
       "3              0.036364              0.6                 1.0              0.0   \n",
       "4              0.109091              0.6                 1.0              0.0   \n",
       "\n",
       "   read e-books  clusters  \n",
       "0           0.0         0  \n",
       "1           0.0         0  \n",
       "2           0.0         1  \n",
       "3           0.0         0  \n",
       "4           1.0         5  "
      ]
     },
     "execution_count": 28,
     "metadata": {},
     "output_type": "execute_result"
    }
   ],
   "source": [
    "df.head()"
   ]
  },
  {
   "cell_type": "code",
   "execution_count": 29,
   "metadata": {
    "scrolled": false
   },
   "outputs": [
    {
     "data": {
      "text/plain": [
       "0    1780\n",
       "1    1164\n",
       "5     642\n",
       "4     399\n",
       "2     379\n",
       "6     183\n",
       "3     164\n",
       "Name: clusters, dtype: int64"
      ]
     },
     "execution_count": 29,
     "metadata": {},
     "output_type": "execute_result"
    }
   ],
   "source": [
    "df['clusters'].value_counts()"
   ]
  },
  {
   "cell_type": "code",
   "execution_count": 30,
   "metadata": {
    "scrolled": false
   },
   "outputs": [
    {
     "data": {
      "image/png": "[encoded data removed]",
      "text/plain": [
       "<Figure size 864x576 with 1 Axes>"
      ]
     },
     "metadata": {
      "needs_background": "light"
     },
     "output_type": "display_data"
    }
   ],
   "source": [
    "# Plot the clusters for education and number of books\n",
    "\n",
    "plt.figure(figsize=(12,8))\n",
    "ax = sns.scatterplot(x=df['education_group'], y=df['number_of_books_read'], hue=kmeans.labels_, s=100, \n",
    "                     palette='tab10') \n",
    "\n",
    "ax.grid(False) # This removes the grid from the background.\n",
    "plt.xlabel('Education') # Label x-axis.\n",
    "plt.ylabel('Number of Books Read') # Label y-axis.\n",
    "plt.show()"
   ]
  },
  {
   "cell_type": "code",
   "execution_count": 35,
   "metadata": {},
   "outputs": [],
   "source": [
    "df.loc[df['clusters'] == 0, 'cluster'] = 'blue'\n",
    "df.loc[df['clusters'] == 1, 'cluster'] = 'orange'\n",
    "df.loc[df['clusters'] == 2, 'cluster'] = 'green'\n",
    "df.loc[df['clusters'] == 3, 'cluster'] = 'red'\n",
    "df.loc[df['clusters'] == 4, 'cluster'] = 'purple'\n",
    "df.loc[df['clusters'] == 5, 'cluster'] = 'brown'\n",
    "df.loc[df['clusters'] == 6, 'cluster'] = 'pink'"
   ]
  },
  {
   "cell_type": "code",
   "execution_count": 36,
   "metadata": {},
   "outputs": [
    {
     "data": {
      "text/plain": [
       "<AxesSubplot:xlabel='education_group', ylabel='number_of_books_read'>"
      ]
     },
     "execution_count": 36,
     "metadata": {},
     "output_type": "execute_result"
    },
    {
     "data": {
      "image/png": "[encoded data removed]",
      "text/plain": [
       "<Figure size 432x288 with 1 Axes>"
      ]
     },
     "metadata": {
      "needs_background": "light"
     },
     "output_type": "display_data"
    }
   ],
   "source": [
    "sns.barplot(x=df['education_group'],y=df['number_of_books_read'],hue=df['clusters'],errwidth=0,palette='tab10')"
   ]
  },
  {
   "cell_type": "code",
   "execution_count": 37,
   "metadata": {},
   "outputs": [
    {
     "data": {
      "text/html": [
       "<div>\n",
       "<style scoped>\n",
       "    .dataframe tbody tr th:only-of-type {\n",
       "        vertical-align: middle;\n",
       "    }\n",
       "\n",
       "    .dataframe tbody tr th {\n",
       "        vertical-align: top;\n",
       "    }\n",
       "\n",
       "    .dataframe thead tr th {\n",
       "        text-align: left;\n",
       "    }\n",
       "\n",
       "    .dataframe thead tr:last-of-type th {\n",
       "        text-align: right;\n",
       "    }\n",
       "</style>\n",
       "<table border=\"1\" class=\"dataframe\">\n",
       "  <thead>\n",
       "    <tr>\n",
       "      <th></th>\n",
       "      <th colspan=\"2\" halign=\"left\">read e-books</th>\n",
       "      <th colspan=\"2\" halign=\"left\">read printed books</th>\n",
       "      <th colspan=\"2\" halign=\"left\">read audiobooks</th>\n",
       "      <th colspan=\"2\" halign=\"left\">education_group</th>\n",
       "      <th colspan=\"2\" halign=\"left\">number_of_books_read</th>\n",
       "    </tr>\n",
       "    <tr>\n",
       "      <th></th>\n",
       "      <th>mean</th>\n",
       "      <th>median</th>\n",
       "      <th>mean</th>\n",
       "      <th>median</th>\n",
       "      <th>mean</th>\n",
       "      <th>median</th>\n",
       "      <th>mean</th>\n",
       "      <th>median</th>\n",
       "      <th>mean</th>\n",
       "      <th>median</th>\n",
       "    </tr>\n",
       "    <tr>\n",
       "      <th>cluster</th>\n",
       "      <th></th>\n",
       "      <th></th>\n",
       "      <th></th>\n",
       "      <th></th>\n",
       "      <th></th>\n",
       "      <th></th>\n",
       "      <th></th>\n",
       "      <th></th>\n",
       "      <th></th>\n",
       "      <th></th>\n",
       "    </tr>\n",
       "  </thead>\n",
       "  <tbody>\n",
       "    <tr>\n",
       "      <th>blue</th>\n",
       "      <td>0.000000</td>\n",
       "      <td>0.0</td>\n",
       "      <td>1.0</td>\n",
       "      <td>1.0</td>\n",
       "      <td>0.0</td>\n",
       "      <td>0.0</td>\n",
       "      <td>0.654719</td>\n",
       "      <td>0.6</td>\n",
       "      <td>0.167160</td>\n",
       "      <td>0.090909</td>\n",
       "    </tr>\n",
       "    <tr>\n",
       "      <th>brown</th>\n",
       "      <td>1.000000</td>\n",
       "      <td>1.0</td>\n",
       "      <td>1.0</td>\n",
       "      <td>1.0</td>\n",
       "      <td>0.0</td>\n",
       "      <td>0.0</td>\n",
       "      <td>0.746729</td>\n",
       "      <td>0.8</td>\n",
       "      <td>0.262673</td>\n",
       "      <td>0.181818</td>\n",
       "    </tr>\n",
       "    <tr>\n",
       "      <th>green</th>\n",
       "      <td>1.000000</td>\n",
       "      <td>1.0</td>\n",
       "      <td>1.0</td>\n",
       "      <td>1.0</td>\n",
       "      <td>1.0</td>\n",
       "      <td>1.0</td>\n",
       "      <td>0.769921</td>\n",
       "      <td>0.8</td>\n",
       "      <td>0.329336</td>\n",
       "      <td>0.272727</td>\n",
       "    </tr>\n",
       "    <tr>\n",
       "      <th>orange</th>\n",
       "      <td>0.000000</td>\n",
       "      <td>0.0</td>\n",
       "      <td>0.0</td>\n",
       "      <td>0.0</td>\n",
       "      <td>0.0</td>\n",
       "      <td>0.0</td>\n",
       "      <td>0.488488</td>\n",
       "      <td>0.4</td>\n",
       "      <td>0.008060</td>\n",
       "      <td>0.000000</td>\n",
       "    </tr>\n",
       "    <tr>\n",
       "      <th>pink</th>\n",
       "      <td>0.431694</td>\n",
       "      <td>0.0</td>\n",
       "      <td>0.0</td>\n",
       "      <td>0.0</td>\n",
       "      <td>1.0</td>\n",
       "      <td>1.0</td>\n",
       "      <td>0.676503</td>\n",
       "      <td>0.6</td>\n",
       "      <td>0.177844</td>\n",
       "      <td>0.090909</td>\n",
       "    </tr>\n",
       "    <tr>\n",
       "      <th>purple</th>\n",
       "      <td>0.000000</td>\n",
       "      <td>0.0</td>\n",
       "      <td>1.0</td>\n",
       "      <td>1.0</td>\n",
       "      <td>1.0</td>\n",
       "      <td>1.0</td>\n",
       "      <td>0.696742</td>\n",
       "      <td>0.8</td>\n",
       "      <td>0.223650</td>\n",
       "      <td>0.163636</td>\n",
       "    </tr>\n",
       "    <tr>\n",
       "      <th>red</th>\n",
       "      <td>1.000000</td>\n",
       "      <td>1.0</td>\n",
       "      <td>0.0</td>\n",
       "      <td>0.0</td>\n",
       "      <td>0.0</td>\n",
       "      <td>0.0</td>\n",
       "      <td>0.673171</td>\n",
       "      <td>0.6</td>\n",
       "      <td>0.174945</td>\n",
       "      <td>0.090909</td>\n",
       "    </tr>\n",
       "  </tbody>\n",
       "</table>\n",
       "</div>"
      ],
      "text/plain": [
       "        read e-books        read printed books        read audiobooks         \\\n",
       "                mean median               mean median            mean median   \n",
       "cluster                                                                        \n",
       "blue        0.000000    0.0                1.0    1.0             0.0    0.0   \n",
       "brown       1.000000    1.0                1.0    1.0             0.0    0.0   \n",
       "green       1.000000    1.0                1.0    1.0             1.0    1.0   \n",
       "orange      0.000000    0.0                0.0    0.0             0.0    0.0   \n",
       "pink        0.431694    0.0                0.0    0.0             1.0    1.0   \n",
       "purple      0.000000    0.0                1.0    1.0             1.0    1.0   \n",
       "red         1.000000    1.0                0.0    0.0             0.0    0.0   \n",
       "\n",
       "        education_group        number_of_books_read            \n",
       "                   mean median                 mean    median  \n",
       "cluster                                                        \n",
       "blue           0.654719    0.6             0.167160  0.090909  \n",
       "brown          0.746729    0.8             0.262673  0.181818  \n",
       "green          0.769921    0.8             0.329336  0.272727  \n",
       "orange         0.488488    0.4             0.008060  0.000000  \n",
       "pink           0.676503    0.6             0.177844  0.090909  \n",
       "purple         0.696742    0.8             0.223650  0.163636  \n",
       "red            0.673171    0.6             0.174945  0.090909  "
      ]
     },
     "execution_count": 37,
     "metadata": {},
     "output_type": "execute_result"
    }
   ],
   "source": [
    "df.groupby('cluster').agg({'read e-books':['mean', 'median'], \n",
    "                           'read printed books':['mean', 'median'],\n",
    "                           'read audiobooks':['mean', 'median'],\n",
    "                         'education_group':['mean', 'median'], \n",
    "                         'number_of_books_read':['mean', 'median']})"
   ]
  },
  {
   "cell_type": "code",
   "execution_count": 34,
   "metadata": {
    "scrolled": false
   },
   "outputs": [
    {
     "data": {
      "text/plain": [
       "<seaborn.axisgrid.FacetGrid at 0x7ff6b04e0af0>"
      ]
     },
     "execution_count": 34,
     "metadata": {},
     "output_type": "execute_result"
    },
    {
     "data": {
      "image/png": "[encoded data removed]",
      "text/plain": [
       "<Figure size 767.375x720 with 4 Axes>"
      ]
     },
     "metadata": {
      "needs_background": "light"
     },
     "output_type": "display_data"
    }
   ],
   "source": [
    "sns.catplot(\n",
    "    data=df, x=\"education_group\", y=\"number_of_books_read\",hue='clusters',\n",
    "     col=\"read e-books\",palette='tab10',row='read printed books'\n",
    ")"
   ]
  },
  {
   "cell_type": "code",
   "execution_count": null,
   "metadata": {},
   "outputs": [],
   "source": []
  }
 ],
 "metadata": {
  "kernelspec": {
   "display_name": "Python 3 (ipykernel)",
   "language": "python",
   "name": "python3"
  },
  "language_info": {
   "codemirror_mode": {
    "name": "ipython",
    "version": 3
   },
   "file_extension": ".py",
   "mimetype": "text/x-python",
   "name": "python",
   "nbconvert_exporter": "python",
   "pygments_lexer": "ipython3",
   "version": "3.9.12"
  }
 },
 "nbformat": 4,
 "nbformat_minor": 4
}
