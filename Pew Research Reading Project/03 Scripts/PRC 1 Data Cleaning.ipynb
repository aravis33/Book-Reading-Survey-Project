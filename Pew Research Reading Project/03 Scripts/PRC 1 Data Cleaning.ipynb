{
 "cells": [
  {
   "cell_type": "markdown",
   "id": "09ca2a33",
   "metadata": {},
   "source": [
    "# Notebook Contents:"
   ]
  },
  {
   "cell_type": "markdown",
   "id": "973f0308",
   "metadata": {},
   "source": [
    "## 01 Import Libraries"
   ]
  },
  {
   "cell_type": "markdown",
   "id": "68833c1c",
   "metadata": {},
   "source": [
    "## 02 Import Data"
   ]
  },
  {
   "cell_type": "markdown",
   "id": "927f554b",
   "metadata": {},
   "source": [
    "## 03 Data Exploration"
   ]
  },
  {
   "cell_type": "markdown",
   "id": "ca2d0fb6",
   "metadata": {},
   "source": [
    "## 04 Data Cleaning"
   ]
  },
  {
   "cell_type": "markdown",
   "id": "d80011a5",
   "metadata": {},
   "source": [
    "#### 1. Get rid of some columns"
   ]
  },
  {
   "cell_type": "markdown",
   "id": "12fd4bb8",
   "metadata": {},
   "source": [
    "#### 2. Make columns easier to read"
   ]
  },
  {
   "cell_type": "markdown",
   "id": "6492acd7",
   "metadata": {},
   "source": [
    "#### 3. Change data types"
   ]
  },
  {
   "cell_type": "markdown",
   "id": "b088433b",
   "metadata": {},
   "source": [
    "#### 4. Deriving new variable"
   ]
  },
  {
   "cell_type": "markdown",
   "id": "f46f4eff",
   "metadata": {},
   "source": [
    "#### 5. Fix mixed types"
   ]
  },
  {
   "cell_type": "markdown",
   "id": "23a685d8",
   "metadata": {},
   "source": [
    "#### 6. Clean values with codes rather than integers"
   ]
  },
  {
   "cell_type": "markdown",
   "id": "f4ed56a4",
   "metadata": {},
   "source": [
    "#### 7. Final checks"
   ]
  },
  {
   "cell_type": "markdown",
   "id": "91f64d0a",
   "metadata": {},
   "source": [
    "## 05 Export Data"
   ]
  },
  {
   "cell_type": "markdown",
   "id": "a70c0d8c",
   "metadata": {},
   "source": [
    "# 01 Import Libraries"
   ]
  },
  {
   "cell_type": "code",
   "execution_count": 1,
   "id": "c13bedf2",
   "metadata": {
    "scrolled": true
   },
   "outputs": [],
   "source": [
    "# Import libraries\n",
    "import pandas as pd\n",
    "import numpy as np\n",
    "import os"
   ]
  },
  {
   "cell_type": "markdown",
   "id": "8d526ab5",
   "metadata": {},
   "source": [
    "# 02 Import Data"
   ]
  },
  {
   "cell_type": "code",
   "execution_count": 2,
   "id": "e593e7e0",
   "metadata": {
    "scrolled": true
   },
   "outputs": [],
   "source": [
    "# Create path\n",
    "path = r'/Users/dana/Documents/Pew Research Reading Project/'\n",
    "\n",
    "# import data\n",
    "df = pd.read_spss(os.path.join(path,'02 Data','Original Data','Jan 25-Feb 8, 2021 - Core Trends Survey - SPSS.sav'))"
   ]
  },
  {
   "cell_type": "markdown",
   "id": "500e7504",
   "metadata": {},
   "source": [
    "# 03 Data Exploration"
   ]
  },
  {
   "cell_type": "code",
   "execution_count": 3,
   "id": "130ca1d7",
   "metadata": {},
   "outputs": [
    {
     "data": {
      "text/plain": [
       "(1502, 90)"
      ]
     },
     "execution_count": 3,
     "metadata": {},
     "output_type": "execute_result"
    }
   ],
   "source": [
    "df.shape"
   ]
  },
  {
   "cell_type": "code",
   "execution_count": 4,
   "id": "bb42561f",
   "metadata": {},
   "outputs": [],
   "source": [
    "# show all rows\n",
    "pd.set_option('display.max_rows', None)"
   ]
  },
  {
   "cell_type": "code",
   "execution_count": 5,
   "id": "5e6032b2",
   "metadata": {},
   "outputs": [],
   "source": [
    "# show all columns\n",
    "pd.set_option('display.max_columns', None)"
   ]
  },
  {
   "cell_type": "code",
   "execution_count": 6,
   "id": "de9eb7c3",
   "metadata": {},
   "outputs": [
    {
     "data": {
      "text/html": [
       "<div>\n",
       "<style scoped>\n",
       "    .dataframe tbody tr th:only-of-type {\n",
       "        vertical-align: middle;\n",
       "    }\n",
       "\n",
       "    .dataframe tbody tr th {\n",
       "        vertical-align: top;\n",
       "    }\n",
       "\n",
       "    .dataframe thead th {\n",
       "        text-align: right;\n",
       "    }\n",
       "</style>\n",
       "<table border=\"1\" class=\"dataframe\">\n",
       "  <thead>\n",
       "    <tr style=\"text-align: right;\">\n",
       "      <th></th>\n",
       "      <th>respid</th>\n",
       "      <th>sample</th>\n",
       "      <th>comp</th>\n",
       "      <th>int_date</th>\n",
       "      <th>lang</th>\n",
       "      <th>cregion</th>\n",
       "      <th>state</th>\n",
       "      <th>density</th>\n",
       "      <th>usr</th>\n",
       "      <th>qs1</th>\n",
       "      <th>sex</th>\n",
       "      <th>eminuse</th>\n",
       "      <th>intmob</th>\n",
       "      <th>intfreq</th>\n",
       "      <th>snsint2</th>\n",
       "      <th>home4nw</th>\n",
       "      <th>bbhome1</th>\n",
       "      <th>bbhome2</th>\n",
       "      <th>device1a</th>\n",
       "      <th>smart2</th>\n",
       "      <th>bbsmart2</th>\n",
       "      <th>bbsmart3a</th>\n",
       "      <th>bbsmart3b</th>\n",
       "      <th>bbsmart3c</th>\n",
       "      <th>bbsmart3d</th>\n",
       "      <th>bbsmart3e</th>\n",
       "      <th>bbsmart3f</th>\n",
       "      <th>bbsmart3f_1_other</th>\n",
       "      <th>bbsmart4</th>\n",
       "      <th>cable1</th>\n",
       "      <th>cable2</th>\n",
       "      <th>cable3a</th>\n",
       "      <th>cable3b</th>\n",
       "      <th>cable3c</th>\n",
       "      <th>web1a</th>\n",
       "      <th>web1b</th>\n",
       "      <th>web1c</th>\n",
       "      <th>web1d</th>\n",
       "      <th>web1e</th>\n",
       "      <th>web1f</th>\n",
       "      <th>web1g</th>\n",
       "      <th>web1h</th>\n",
       "      <th>web1i</th>\n",
       "      <th>web1j</th>\n",
       "      <th>web1k</th>\n",
       "      <th>sns2a</th>\n",
       "      <th>sns2b</th>\n",
       "      <th>sns2c</th>\n",
       "      <th>sns2d</th>\n",
       "      <th>sns2e</th>\n",
       "      <th>paya</th>\n",
       "      <th>payb</th>\n",
       "      <th>payc</th>\n",
       "      <th>prob</th>\n",
       "      <th>coviddisa</th>\n",
       "      <th>coviddisb</th>\n",
       "      <th>coviddisc</th>\n",
       "      <th>coviddisd</th>\n",
       "      <th>coviddise</th>\n",
       "      <th>device1b</th>\n",
       "      <th>device1c</th>\n",
       "      <th>device1d</th>\n",
       "      <th>books1</th>\n",
       "      <th>books2a</th>\n",
       "      <th>books2b</th>\n",
       "      <th>books2c</th>\n",
       "      <th>gender</th>\n",
       "      <th>age</th>\n",
       "      <th>marital</th>\n",
       "      <th>par</th>\n",
       "      <th>educ2</th>\n",
       "      <th>emplnw</th>\n",
       "      <th>disa</th>\n",
       "      <th>hisp</th>\n",
       "      <th>racem1</th>\n",
       "      <th>racem2</th>\n",
       "      <th>racem3</th>\n",
       "      <th>racem4</th>\n",
       "      <th>racecmb</th>\n",
       "      <th>birth_hisp</th>\n",
       "      <th>income</th>\n",
       "      <th>party</th>\n",
       "      <th>partyln</th>\n",
       "      <th>hh1</th>\n",
       "      <th>hh3</th>\n",
       "      <th>ql1</th>\n",
       "      <th>ql1a</th>\n",
       "      <th>qc1</th>\n",
       "      <th>weight</th>\n",
       "      <th>cellweight</th>\n",
       "    </tr>\n",
       "  </thead>\n",
       "  <tbody>\n",
       "    <tr>\n",
       "      <th>0</th>\n",
       "      <td>798.0</td>\n",
       "      <td>Landline</td>\n",
       "      <td>Complete</td>\n",
       "      <td>2021-01-26</td>\n",
       "      <td>English</td>\n",
       "      <td>South</td>\n",
       "      <td>VA</td>\n",
       "      <td>Highest</td>\n",
       "      <td>S</td>\n",
       "      <td>NaN</td>\n",
       "      <td>Female</td>\n",
       "      <td>Yes</td>\n",
       "      <td>Yes</td>\n",
       "      <td>About once a day</td>\n",
       "      <td>No</td>\n",
       "      <td>Yes</td>\n",
       "      <td>Higher-speed</td>\n",
       "      <td>NaN</td>\n",
       "      <td>Yes</td>\n",
       "      <td>No, not a smartphone</td>\n",
       "      <td>NaN</td>\n",
       "      <td>NaN</td>\n",
       "      <td>NaN</td>\n",
       "      <td>NaN</td>\n",
       "      <td>NaN</td>\n",
       "      <td>NaN</td>\n",
       "      <td>NaN</td>\n",
       "      <td></td>\n",
       "      <td>NaN</td>\n",
       "      <td>Yes</td>\n",
       "      <td>NaN</td>\n",
       "      <td>NaN</td>\n",
       "      <td>NaN</td>\n",
       "      <td>NaN</td>\n",
       "      <td>No, do not do this</td>\n",
       "      <td>No, do not do this</td>\n",
       "      <td>No, do not do this</td>\n",
       "      <td>No, do not do this</td>\n",
       "      <td>No, do not do this</td>\n",
       "      <td>No, do not do this</td>\n",
       "      <td>No, do not do this</td>\n",
       "      <td>No, do not do this</td>\n",
       "      <td>No, do not do this</td>\n",
       "      <td>No, do not do this</td>\n",
       "      <td>No, do not do this</td>\n",
       "      <td>NaN</td>\n",
       "      <td>NaN</td>\n",
       "      <td>NaN</td>\n",
       "      <td>NaN</td>\n",
       "      <td>NaN</td>\n",
       "      <td>No, have not had trouble</td>\n",
       "      <td>No, have not had trouble</td>\n",
       "      <td>No, have not had trouble</td>\n",
       "      <td>Rarely</td>\n",
       "      <td>At a minor disadvantage</td>\n",
       "      <td>At a minor disadvantage</td>\n",
       "      <td>At a major disadvantage</td>\n",
       "      <td>At a major disadvantage</td>\n",
       "      <td>At a minor disadvantage</td>\n",
       "      <td>Yes</td>\n",
       "      <td>Yes</td>\n",
       "      <td>No</td>\n",
       "      <td>50.0</td>\n",
       "      <td>Yes</td>\n",
       "      <td>No</td>\n",
       "      <td>No</td>\n",
       "      <td>A woman</td>\n",
       "      <td>77.0</td>\n",
       "      <td>Widowed</td>\n",
       "      <td>No</td>\n",
       "      <td>4.0</td>\n",
       "      <td>Retired</td>\n",
       "      <td>Yes</td>\n",
       "      <td>No</td>\n",
       "      <td>White (e.g., Caucasian, European, Irish, Itali...</td>\n",
       "      <td>NaN</td>\n",
       "      <td>NaN</td>\n",
       "      <td>NaN</td>\n",
       "      <td>White</td>\n",
       "      <td>NaN</td>\n",
       "      <td>50 to under $75,000</td>\n",
       "      <td>Democrat</td>\n",
       "      <td>NaN</td>\n",
       "      <td>1.0</td>\n",
       "      <td>NaN</td>\n",
       "      <td>Yes, have cell phone</td>\n",
       "      <td>NaN</td>\n",
       "      <td>NaN</td>\n",
       "      <td>0.557187</td>\n",
       "      <td>NaN</td>\n",
       "    </tr>\n",
       "    <tr>\n",
       "      <th>1</th>\n",
       "      <td>1017.0</td>\n",
       "      <td>Landline</td>\n",
       "      <td>Complete</td>\n",
       "      <td>2021-01-25</td>\n",
       "      <td>English</td>\n",
       "      <td>Midwest</td>\n",
       "      <td>OH</td>\n",
       "      <td>2.0</td>\n",
       "      <td>S</td>\n",
       "      <td>NaN</td>\n",
       "      <td>Male</td>\n",
       "      <td>Yes</td>\n",
       "      <td>Yes</td>\n",
       "      <td>Several times a day</td>\n",
       "      <td>Yes</td>\n",
       "      <td>Yes</td>\n",
       "      <td>Higher-speed</td>\n",
       "      <td>NaN</td>\n",
       "      <td>Yes</td>\n",
       "      <td>Yes, smartphone</td>\n",
       "      <td>NaN</td>\n",
       "      <td>NaN</td>\n",
       "      <td>NaN</td>\n",
       "      <td>NaN</td>\n",
       "      <td>NaN</td>\n",
       "      <td>NaN</td>\n",
       "      <td>NaN</td>\n",
       "      <td></td>\n",
       "      <td>NaN</td>\n",
       "      <td>Yes</td>\n",
       "      <td>NaN</td>\n",
       "      <td>NaN</td>\n",
       "      <td>NaN</td>\n",
       "      <td>NaN</td>\n",
       "      <td>No, do not do this</td>\n",
       "      <td>No, do not do this</td>\n",
       "      <td>Yes, do this</td>\n",
       "      <td>No, do not do this</td>\n",
       "      <td>Yes, do this</td>\n",
       "      <td>No, do not do this</td>\n",
       "      <td>No, do not do this</td>\n",
       "      <td>No, do not do this</td>\n",
       "      <td>No, do not do this</td>\n",
       "      <td>No, do not do this</td>\n",
       "      <td>No, do not do this</td>\n",
       "      <td>NaN</td>\n",
       "      <td>NaN</td>\n",
       "      <td>Several times a day</td>\n",
       "      <td>NaN</td>\n",
       "      <td>A few times a week</td>\n",
       "      <td>No, have not had trouble</td>\n",
       "      <td>No, have not had trouble</td>\n",
       "      <td>No, have not had trouble</td>\n",
       "      <td>Sometimes</td>\n",
       "      <td>At a minor disadvantage</td>\n",
       "      <td>At a minor disadvantage</td>\n",
       "      <td>At a minor disadvantage</td>\n",
       "      <td>At a minor disadvantage</td>\n",
       "      <td>At a minor disadvantage</td>\n",
       "      <td>No</td>\n",
       "      <td>No</td>\n",
       "      <td>No</td>\n",
       "      <td>1.0</td>\n",
       "      <td>Yes</td>\n",
       "      <td>No</td>\n",
       "      <td>No</td>\n",
       "      <td>A man</td>\n",
       "      <td>59.0</td>\n",
       "      <td>Never been married</td>\n",
       "      <td>No</td>\n",
       "      <td>3.0</td>\n",
       "      <td>Employed part-time</td>\n",
       "      <td>No</td>\n",
       "      <td>No</td>\n",
       "      <td>White (e.g., Caucasian, European, Irish, Itali...</td>\n",
       "      <td>NaN</td>\n",
       "      <td>NaN</td>\n",
       "      <td>NaN</td>\n",
       "      <td>White</td>\n",
       "      <td>NaN</td>\n",
       "      <td>40 to under $50,000</td>\n",
       "      <td>Republican</td>\n",
       "      <td>NaN</td>\n",
       "      <td>2.0</td>\n",
       "      <td>2.0</td>\n",
       "      <td>Yes, have cell phone</td>\n",
       "      <td>NaN</td>\n",
       "      <td>NaN</td>\n",
       "      <td>0.987209</td>\n",
       "      <td>NaN</td>\n",
       "    </tr>\n",
       "    <tr>\n",
       "      <th>2</th>\n",
       "      <td>1181.0</td>\n",
       "      <td>Landline</td>\n",
       "      <td>Complete</td>\n",
       "      <td>2021-01-25</td>\n",
       "      <td>English</td>\n",
       "      <td>West</td>\n",
       "      <td>NV</td>\n",
       "      <td>2.0</td>\n",
       "      <td>U</td>\n",
       "      <td>NaN</td>\n",
       "      <td>Female</td>\n",
       "      <td>Yes</td>\n",
       "      <td>Yes</td>\n",
       "      <td>Several times a week, OR</td>\n",
       "      <td>Yes</td>\n",
       "      <td>Yes</td>\n",
       "      <td>Higher-speed</td>\n",
       "      <td>NaN</td>\n",
       "      <td>Yes</td>\n",
       "      <td>Yes, smartphone</td>\n",
       "      <td>NaN</td>\n",
       "      <td>NaN</td>\n",
       "      <td>NaN</td>\n",
       "      <td>NaN</td>\n",
       "      <td>NaN</td>\n",
       "      <td>NaN</td>\n",
       "      <td>NaN</td>\n",
       "      <td></td>\n",
       "      <td>NaN</td>\n",
       "      <td>Yes</td>\n",
       "      <td>NaN</td>\n",
       "      <td>NaN</td>\n",
       "      <td>NaN</td>\n",
       "      <td>NaN</td>\n",
       "      <td>Yes, do this</td>\n",
       "      <td>No, do not do this</td>\n",
       "      <td>Yes, do this</td>\n",
       "      <td>No, do not do this</td>\n",
       "      <td>No, do not do this</td>\n",
       "      <td>No, do not do this</td>\n",
       "      <td>No, do not do this</td>\n",
       "      <td>No, do not do this</td>\n",
       "      <td>No, do not do this</td>\n",
       "      <td>No, do not do this</td>\n",
       "      <td>No, do not do this</td>\n",
       "      <td>A few times a week</td>\n",
       "      <td>NaN</td>\n",
       "      <td>A few times a week</td>\n",
       "      <td>NaN</td>\n",
       "      <td>NaN</td>\n",
       "      <td>No, have not had trouble</td>\n",
       "      <td>No, have not had trouble</td>\n",
       "      <td>No, have not had trouble</td>\n",
       "      <td>Rarely</td>\n",
       "      <td>At a minor disadvantage</td>\n",
       "      <td>Not at a disadvantage</td>\n",
       "      <td>At a minor disadvantage</td>\n",
       "      <td>At a minor disadvantage</td>\n",
       "      <td>At a minor disadvantage</td>\n",
       "      <td>Yes</td>\n",
       "      <td>Yes</td>\n",
       "      <td>Yes</td>\n",
       "      <td>3.0</td>\n",
       "      <td>Yes</td>\n",
       "      <td>No</td>\n",
       "      <td>No</td>\n",
       "      <td>A woman</td>\n",
       "      <td>60.0</td>\n",
       "      <td>Married</td>\n",
       "      <td>No</td>\n",
       "      <td>4.0</td>\n",
       "      <td>Retired</td>\n",
       "      <td>No</td>\n",
       "      <td>No</td>\n",
       "      <td>White (e.g., Caucasian, European, Irish, Itali...</td>\n",
       "      <td>NaN</td>\n",
       "      <td>NaN</td>\n",
       "      <td>NaN</td>\n",
       "      <td>White</td>\n",
       "      <td>NaN</td>\n",
       "      <td>100 to under $150,000</td>\n",
       "      <td>Independent</td>\n",
       "      <td>Democrat</td>\n",
       "      <td>2.0</td>\n",
       "      <td>2.0</td>\n",
       "      <td>Yes, have cell phone</td>\n",
       "      <td>NaN</td>\n",
       "      <td>NaN</td>\n",
       "      <td>0.925147</td>\n",
       "      <td>NaN</td>\n",
       "    </tr>\n",
       "    <tr>\n",
       "      <th>3</th>\n",
       "      <td>1388.0</td>\n",
       "      <td>Landline</td>\n",
       "      <td>Complete</td>\n",
       "      <td>2021-01-25</td>\n",
       "      <td>English</td>\n",
       "      <td>West</td>\n",
       "      <td>AZ</td>\n",
       "      <td>3.0</td>\n",
       "      <td>U</td>\n",
       "      <td>NaN</td>\n",
       "      <td>Male</td>\n",
       "      <td>Yes</td>\n",
       "      <td>Yes</td>\n",
       "      <td>Several times a day</td>\n",
       "      <td>Yes</td>\n",
       "      <td>Yes</td>\n",
       "      <td>Higher-speed</td>\n",
       "      <td>NaN</td>\n",
       "      <td>Yes</td>\n",
       "      <td>Yes, smartphone</td>\n",
       "      <td>NaN</td>\n",
       "      <td>NaN</td>\n",
       "      <td>NaN</td>\n",
       "      <td>NaN</td>\n",
       "      <td>NaN</td>\n",
       "      <td>NaN</td>\n",
       "      <td>NaN</td>\n",
       "      <td></td>\n",
       "      <td>NaN</td>\n",
       "      <td>Yes</td>\n",
       "      <td>NaN</td>\n",
       "      <td>NaN</td>\n",
       "      <td>NaN</td>\n",
       "      <td>NaN</td>\n",
       "      <td>No, do not do this</td>\n",
       "      <td>No, do not do this</td>\n",
       "      <td>Yes, do this</td>\n",
       "      <td>No, do not do this</td>\n",
       "      <td>Yes, do this</td>\n",
       "      <td>Yes, do this</td>\n",
       "      <td>No, do not do this</td>\n",
       "      <td>No, do not do this</td>\n",
       "      <td>No, do not do this</td>\n",
       "      <td>No, do not do this</td>\n",
       "      <td>Yes, do this</td>\n",
       "      <td>NaN</td>\n",
       "      <td>NaN</td>\n",
       "      <td>About once a day</td>\n",
       "      <td>NaN</td>\n",
       "      <td>A few times a week</td>\n",
       "      <td>No, have not had trouble</td>\n",
       "      <td>No, have not had trouble</td>\n",
       "      <td>No, have not had trouble</td>\n",
       "      <td>Rarely</td>\n",
       "      <td>At a minor disadvantage</td>\n",
       "      <td>At a major disadvantage</td>\n",
       "      <td>At a major disadvantage</td>\n",
       "      <td>At a major disadvantage</td>\n",
       "      <td>At a major disadvantage</td>\n",
       "      <td>No</td>\n",
       "      <td>Yes</td>\n",
       "      <td>No</td>\n",
       "      <td>30.0</td>\n",
       "      <td>Yes</td>\n",
       "      <td>Yes</td>\n",
       "      <td>No</td>\n",
       "      <td>A man</td>\n",
       "      <td>73.0</td>\n",
       "      <td>Never been married</td>\n",
       "      <td>No</td>\n",
       "      <td>8.0</td>\n",
       "      <td>Employed part-time</td>\n",
       "      <td>No</td>\n",
       "      <td>No</td>\n",
       "      <td>White (e.g., Caucasian, European, Irish, Itali...</td>\n",
       "      <td>NaN</td>\n",
       "      <td>NaN</td>\n",
       "      <td>NaN</td>\n",
       "      <td>White</td>\n",
       "      <td>NaN</td>\n",
       "      <td>100 to under $150,000</td>\n",
       "      <td>Democrat</td>\n",
       "      <td>NaN</td>\n",
       "      <td>1.0</td>\n",
       "      <td>NaN</td>\n",
       "      <td>Yes, have cell phone</td>\n",
       "      <td>NaN</td>\n",
       "      <td>NaN</td>\n",
       "      <td>0.311080</td>\n",
       "      <td>NaN</td>\n",
       "    </tr>\n",
       "    <tr>\n",
       "      <th>4</th>\n",
       "      <td>1664.0</td>\n",
       "      <td>Landline</td>\n",
       "      <td>Complete</td>\n",
       "      <td>2021-01-26</td>\n",
       "      <td>English</td>\n",
       "      <td>South</td>\n",
       "      <td>FL</td>\n",
       "      <td>2.0</td>\n",
       "      <td>S</td>\n",
       "      <td>NaN</td>\n",
       "      <td>Female</td>\n",
       "      <td>Yes</td>\n",
       "      <td>Yes</td>\n",
       "      <td>Almost constantly</td>\n",
       "      <td>Yes</td>\n",
       "      <td>Yes</td>\n",
       "      <td>(VOL) Both Slow-speed/Dial-up and Higher-speed...</td>\n",
       "      <td>NaN</td>\n",
       "      <td>Yes</td>\n",
       "      <td>Yes, smartphone</td>\n",
       "      <td>NaN</td>\n",
       "      <td>NaN</td>\n",
       "      <td>NaN</td>\n",
       "      <td>NaN</td>\n",
       "      <td>NaN</td>\n",
       "      <td>NaN</td>\n",
       "      <td>NaN</td>\n",
       "      <td></td>\n",
       "      <td>NaN</td>\n",
       "      <td>Yes</td>\n",
       "      <td>NaN</td>\n",
       "      <td>NaN</td>\n",
       "      <td>NaN</td>\n",
       "      <td>NaN</td>\n",
       "      <td>No, do not do this</td>\n",
       "      <td>Yes, do this</td>\n",
       "      <td>Yes, do this</td>\n",
       "      <td>No, do not do this</td>\n",
       "      <td>Yes, do this</td>\n",
       "      <td>Yes, do this</td>\n",
       "      <td>Yes, do this</td>\n",
       "      <td>Yes, do this</td>\n",
       "      <td>No, do not do this</td>\n",
       "      <td>No, do not do this</td>\n",
       "      <td>No, do not do this</td>\n",
       "      <td>NaN</td>\n",
       "      <td>A few times a week</td>\n",
       "      <td>A few times a week</td>\n",
       "      <td>NaN</td>\n",
       "      <td>Every few weeks or</td>\n",
       "      <td>No, have not had trouble</td>\n",
       "      <td>No, have not had trouble</td>\n",
       "      <td>No, have not had trouble</td>\n",
       "      <td>Rarely</td>\n",
       "      <td>At a major disadvantage</td>\n",
       "      <td>At a major disadvantage</td>\n",
       "      <td>At a major disadvantage</td>\n",
       "      <td>At a major disadvantage</td>\n",
       "      <td>At a major disadvantage</td>\n",
       "      <td>Yes</td>\n",
       "      <td>Yes</td>\n",
       "      <td>No</td>\n",
       "      <td>40.0</td>\n",
       "      <td>Yes</td>\n",
       "      <td>No</td>\n",
       "      <td>Yes</td>\n",
       "      <td>A woman</td>\n",
       "      <td>65.0</td>\n",
       "      <td>Married</td>\n",
       "      <td>No</td>\n",
       "      <td>8.0</td>\n",
       "      <td>Retired</td>\n",
       "      <td>No</td>\n",
       "      <td>No</td>\n",
       "      <td>White (e.g., Caucasian, European, Irish, Itali...</td>\n",
       "      <td>NaN</td>\n",
       "      <td>NaN</td>\n",
       "      <td>NaN</td>\n",
       "      <td>White</td>\n",
       "      <td>NaN</td>\n",
       "      <td>75 to under $100,000</td>\n",
       "      <td>Democrat</td>\n",
       "      <td>NaN</td>\n",
       "      <td>2.0</td>\n",
       "      <td>2.0</td>\n",
       "      <td>Yes, have cell phone</td>\n",
       "      <td>NaN</td>\n",
       "      <td>NaN</td>\n",
       "      <td>0.396548</td>\n",
       "      <td>NaN</td>\n",
       "    </tr>\n",
       "  </tbody>\n",
       "</table>\n",
       "</div>"
      ],
      "text/plain": [
       "   respid    sample      comp    int_date     lang  cregion state  density  \\\n",
       "0   798.0  Landline  Complete  2021-01-26  English    South    VA  Highest   \n",
       "1  1017.0  Landline  Complete  2021-01-25  English  Midwest    OH      2.0   \n",
       "2  1181.0  Landline  Complete  2021-01-25  English     West    NV      2.0   \n",
       "3  1388.0  Landline  Complete  2021-01-25  English     West    AZ      3.0   \n",
       "4  1664.0  Landline  Complete  2021-01-26  English    South    FL      2.0   \n",
       "\n",
       "  usr  qs1     sex eminuse intmob                   intfreq snsint2 home4nw  \\\n",
       "0   S  NaN  Female     Yes    Yes          About once a day      No     Yes   \n",
       "1   S  NaN    Male     Yes    Yes       Several times a day     Yes     Yes   \n",
       "2   U  NaN  Female     Yes    Yes  Several times a week, OR     Yes     Yes   \n",
       "3   U  NaN    Male     Yes    Yes       Several times a day     Yes     Yes   \n",
       "4   S  NaN  Female     Yes    Yes         Almost constantly     Yes     Yes   \n",
       "\n",
       "                                             bbhome1 bbhome2 device1a  \\\n",
       "0                                       Higher-speed     NaN      Yes   \n",
       "1                                       Higher-speed     NaN      Yes   \n",
       "2                                       Higher-speed     NaN      Yes   \n",
       "3                                       Higher-speed     NaN      Yes   \n",
       "4  (VOL) Both Slow-speed/Dial-up and Higher-speed...     NaN      Yes   \n",
       "\n",
       "                 smart2 bbsmart2 bbsmart3a bbsmart3b bbsmart3c bbsmart3d  \\\n",
       "0  No, not a smartphone      NaN       NaN       NaN       NaN       NaN   \n",
       "1       Yes, smartphone      NaN       NaN       NaN       NaN       NaN   \n",
       "2       Yes, smartphone      NaN       NaN       NaN       NaN       NaN   \n",
       "3       Yes, smartphone      NaN       NaN       NaN       NaN       NaN   \n",
       "4       Yes, smartphone      NaN       NaN       NaN       NaN       NaN   \n",
       "\n",
       "  bbsmart3e bbsmart3f bbsmart3f_1_other bbsmart4 cable1 cable2 cable3a  \\\n",
       "0       NaN       NaN                        NaN    Yes    NaN     NaN   \n",
       "1       NaN       NaN                        NaN    Yes    NaN     NaN   \n",
       "2       NaN       NaN                        NaN    Yes    NaN     NaN   \n",
       "3       NaN       NaN                        NaN    Yes    NaN     NaN   \n",
       "4       NaN       NaN                        NaN    Yes    NaN     NaN   \n",
       "\n",
       "  cable3b cable3c               web1a               web1b               web1c  \\\n",
       "0     NaN     NaN  No, do not do this  No, do not do this  No, do not do this   \n",
       "1     NaN     NaN  No, do not do this  No, do not do this        Yes, do this   \n",
       "2     NaN     NaN        Yes, do this  No, do not do this        Yes, do this   \n",
       "3     NaN     NaN  No, do not do this  No, do not do this        Yes, do this   \n",
       "4     NaN     NaN  No, do not do this        Yes, do this        Yes, do this   \n",
       "\n",
       "                web1d               web1e               web1f  \\\n",
       "0  No, do not do this  No, do not do this  No, do not do this   \n",
       "1  No, do not do this        Yes, do this  No, do not do this   \n",
       "2  No, do not do this  No, do not do this  No, do not do this   \n",
       "3  No, do not do this        Yes, do this        Yes, do this   \n",
       "4  No, do not do this        Yes, do this        Yes, do this   \n",
       "\n",
       "                web1g               web1h               web1i  \\\n",
       "0  No, do not do this  No, do not do this  No, do not do this   \n",
       "1  No, do not do this  No, do not do this  No, do not do this   \n",
       "2  No, do not do this  No, do not do this  No, do not do this   \n",
       "3  No, do not do this  No, do not do this  No, do not do this   \n",
       "4        Yes, do this        Yes, do this  No, do not do this   \n",
       "\n",
       "                web1j               web1k               sns2a  \\\n",
       "0  No, do not do this  No, do not do this                 NaN   \n",
       "1  No, do not do this  No, do not do this                 NaN   \n",
       "2  No, do not do this  No, do not do this  A few times a week   \n",
       "3  No, do not do this        Yes, do this                 NaN   \n",
       "4  No, do not do this  No, do not do this                 NaN   \n",
       "\n",
       "                sns2b                sns2c sns2d               sns2e  \\\n",
       "0                 NaN                  NaN   NaN                 NaN   \n",
       "1                 NaN  Several times a day   NaN  A few times a week   \n",
       "2                 NaN   A few times a week   NaN                 NaN   \n",
       "3                 NaN     About once a day   NaN  A few times a week   \n",
       "4  A few times a week   A few times a week   NaN  Every few weeks or   \n",
       "\n",
       "                       paya                      payb  \\\n",
       "0  No, have not had trouble  No, have not had trouble   \n",
       "1  No, have not had trouble  No, have not had trouble   \n",
       "2  No, have not had trouble  No, have not had trouble   \n",
       "3  No, have not had trouble  No, have not had trouble   \n",
       "4  No, have not had trouble  No, have not had trouble   \n",
       "\n",
       "                       payc       prob                coviddisa  \\\n",
       "0  No, have not had trouble     Rarely  At a minor disadvantage   \n",
       "1  No, have not had trouble  Sometimes  At a minor disadvantage   \n",
       "2  No, have not had trouble     Rarely  At a minor disadvantage   \n",
       "3  No, have not had trouble     Rarely  At a minor disadvantage   \n",
       "4  No, have not had trouble     Rarely  At a major disadvantage   \n",
       "\n",
       "                 coviddisb                coviddisc                coviddisd  \\\n",
       "0  At a minor disadvantage  At a major disadvantage  At a major disadvantage   \n",
       "1  At a minor disadvantage  At a minor disadvantage  At a minor disadvantage   \n",
       "2    Not at a disadvantage  At a minor disadvantage  At a minor disadvantage   \n",
       "3  At a major disadvantage  At a major disadvantage  At a major disadvantage   \n",
       "4  At a major disadvantage  At a major disadvantage  At a major disadvantage   \n",
       "\n",
       "                 coviddise device1b device1c device1d  books1 books2a books2b  \\\n",
       "0  At a minor disadvantage      Yes      Yes       No    50.0     Yes      No   \n",
       "1  At a minor disadvantage       No       No       No     1.0     Yes      No   \n",
       "2  At a minor disadvantage      Yes      Yes      Yes     3.0     Yes      No   \n",
       "3  At a major disadvantage       No      Yes       No    30.0     Yes     Yes   \n",
       "4  At a major disadvantage      Yes      Yes       No    40.0     Yes      No   \n",
       "\n",
       "  books2c   gender   age             marital par  educ2              emplnw  \\\n",
       "0      No  A woman  77.0             Widowed  No    4.0             Retired   \n",
       "1      No    A man  59.0  Never been married  No    3.0  Employed part-time   \n",
       "2      No  A woman  60.0             Married  No    4.0             Retired   \n",
       "3      No    A man  73.0  Never been married  No    8.0  Employed part-time   \n",
       "4     Yes  A woman  65.0             Married  No    8.0             Retired   \n",
       "\n",
       "  disa hisp                                             racem1 racem2 racem3  \\\n",
       "0  Yes   No  White (e.g., Caucasian, European, Irish, Itali...    NaN    NaN   \n",
       "1   No   No  White (e.g., Caucasian, European, Irish, Itali...    NaN    NaN   \n",
       "2   No   No  White (e.g., Caucasian, European, Irish, Itali...    NaN    NaN   \n",
       "3   No   No  White (e.g., Caucasian, European, Irish, Itali...    NaN    NaN   \n",
       "4   No   No  White (e.g., Caucasian, European, Irish, Itali...    NaN    NaN   \n",
       "\n",
       "  racem4 racecmb birth_hisp                 income        party   partyln  \\\n",
       "0    NaN   White        NaN    50 to under $75,000     Democrat       NaN   \n",
       "1    NaN   White        NaN    40 to under $50,000   Republican       NaN   \n",
       "2    NaN   White        NaN  100 to under $150,000  Independent  Democrat   \n",
       "3    NaN   White        NaN  100 to under $150,000     Democrat       NaN   \n",
       "4    NaN   White        NaN   75 to under $100,000     Democrat       NaN   \n",
       "\n",
       "   hh1  hh3                   ql1 ql1a  qc1    weight  cellweight  \n",
       "0  1.0  NaN  Yes, have cell phone  NaN  NaN  0.557187         NaN  \n",
       "1  2.0  2.0  Yes, have cell phone  NaN  NaN  0.987209         NaN  \n",
       "2  2.0  2.0  Yes, have cell phone  NaN  NaN  0.925147         NaN  \n",
       "3  1.0  NaN  Yes, have cell phone  NaN  NaN  0.311080         NaN  \n",
       "4  2.0  2.0  Yes, have cell phone  NaN  NaN  0.396548         NaN  "
      ]
     },
     "execution_count": 6,
     "metadata": {},
     "output_type": "execute_result"
    }
   ],
   "source": [
    "df.head()"
   ]
  },
  {
   "cell_type": "code",
   "execution_count": 7,
   "id": "4a550477",
   "metadata": {
    "scrolled": true
   },
   "outputs": [
    {
     "data": {
      "text/plain": [
       "respid                float64\n",
       "sample               category\n",
       "comp                 category\n",
       "int_date               object\n",
       "lang                 category\n",
       "cregion              category\n",
       "state                category\n",
       "density              category\n",
       "usr                    object\n",
       "qs1                  category\n",
       "sex                  category\n",
       "eminuse              category\n",
       "intmob               category\n",
       "intfreq              category\n",
       "snsint2              category\n",
       "home4nw              category\n",
       "bbhome1              category\n",
       "bbhome2              category\n",
       "device1a             category\n",
       "smart2               category\n",
       "bbsmart2             category\n",
       "bbsmart3a            category\n",
       "bbsmart3b            category\n",
       "bbsmart3c            category\n",
       "bbsmart3d            category\n",
       "bbsmart3e            category\n",
       "bbsmart3f            category\n",
       "bbsmart3f_1_other      object\n",
       "bbsmart4             category\n",
       "cable1               category\n",
       "cable2               category\n",
       "cable3a              category\n",
       "cable3b              category\n",
       "cable3c              category\n",
       "web1a                category\n",
       "web1b                category\n",
       "web1c                category\n",
       "web1d                category\n",
       "web1e                category\n",
       "web1f                category\n",
       "web1g                category\n",
       "web1h                category\n",
       "web1i                category\n",
       "web1j                category\n",
       "web1k                category\n",
       "sns2a                category\n",
       "sns2b                category\n",
       "sns2c                category\n",
       "sns2d                category\n",
       "sns2e                category\n",
       "paya                 category\n",
       "payb                 category\n",
       "payc                 category\n",
       "prob                 category\n",
       "coviddisa            category\n",
       "coviddisb            category\n",
       "coviddisc            category\n",
       "coviddisd            category\n",
       "coviddise            category\n",
       "device1b             category\n",
       "device1c             category\n",
       "device1d             category\n",
       "books1                float64\n",
       "books2a              category\n",
       "books2b              category\n",
       "books2c              category\n",
       "gender               category\n",
       "age                   float64\n",
       "marital              category\n",
       "par                  category\n",
       "educ2                 float64\n",
       "emplnw               category\n",
       "disa                 category\n",
       "hisp                 category\n",
       "racem1               category\n",
       "racem2               category\n",
       "racem3               category\n",
       "racem4               category\n",
       "racecmb              category\n",
       "birth_hisp           category\n",
       "income               category\n",
       "party                category\n",
       "partyln              category\n",
       "hh1                   float64\n",
       "hh3                   float64\n",
       "ql1                  category\n",
       "ql1a                 category\n",
       "qc1                  category\n",
       "weight                float64\n",
       "cellweight            float64\n",
       "dtype: object"
      ]
     },
     "execution_count": 7,
     "metadata": {},
     "output_type": "execute_result"
    }
   ],
   "source": [
    "df.dtypes"
   ]
  },
  {
   "cell_type": "code",
   "execution_count": 8,
   "id": "84f12490",
   "metadata": {
    "scrolled": true
   },
   "outputs": [
    {
     "data": {
      "text/html": [
       "<div>\n",
       "<style scoped>\n",
       "    .dataframe tbody tr th:only-of-type {\n",
       "        vertical-align: middle;\n",
       "    }\n",
       "\n",
       "    .dataframe tbody tr th {\n",
       "        vertical-align: top;\n",
       "    }\n",
       "\n",
       "    .dataframe thead th {\n",
       "        text-align: right;\n",
       "    }\n",
       "</style>\n",
       "<table border=\"1\" class=\"dataframe\">\n",
       "  <thead>\n",
       "    <tr style=\"text-align: right;\">\n",
       "      <th></th>\n",
       "      <th>respid</th>\n",
       "      <th>books1</th>\n",
       "      <th>age</th>\n",
       "      <th>educ2</th>\n",
       "      <th>hh1</th>\n",
       "      <th>hh3</th>\n",
       "      <th>weight</th>\n",
       "      <th>cellweight</th>\n",
       "    </tr>\n",
       "  </thead>\n",
       "  <tbody>\n",
       "    <tr>\n",
       "      <th>count</th>\n",
       "      <td>1502.000000</td>\n",
       "      <td>1502.000000</td>\n",
       "      <td>1502.000000</td>\n",
       "      <td>1502.000000</td>\n",
       "      <td>1502.000000</td>\n",
       "      <td>1171.000000</td>\n",
       "      <td>1502.000000</td>\n",
       "      <td>1202.000000</td>\n",
       "    </tr>\n",
       "    <tr>\n",
       "      <th>mean</th>\n",
       "      <td>134280.018642</td>\n",
       "      <td>16.918109</td>\n",
       "      <td>53.567244</td>\n",
       "      <td>6.587217</td>\n",
       "      <td>2.833555</td>\n",
       "      <td>2.718190</td>\n",
       "      <td>1.000000</td>\n",
       "      <td>1.000000</td>\n",
       "    </tr>\n",
       "    <tr>\n",
       "      <th>std</th>\n",
       "      <td>64625.388500</td>\n",
       "      <td>26.477888</td>\n",
       "      <td>20.367652</td>\n",
       "      <td>11.660021</td>\n",
       "      <td>1.888354</td>\n",
       "      <td>1.652505</td>\n",
       "      <td>0.586059</td>\n",
       "      <td>0.513156</td>\n",
       "    </tr>\n",
       "    <tr>\n",
       "      <th>min</th>\n",
       "      <td>798.000000</td>\n",
       "      <td>0.000000</td>\n",
       "      <td>18.000000</td>\n",
       "      <td>1.000000</td>\n",
       "      <td>1.000000</td>\n",
       "      <td>1.000000</td>\n",
       "      <td>0.311080</td>\n",
       "      <td>0.394665</td>\n",
       "    </tr>\n",
       "    <tr>\n",
       "      <th>25%</th>\n",
       "      <td>106243.500000</td>\n",
       "      <td>1.250000</td>\n",
       "      <td>37.000000</td>\n",
       "      <td>4.000000</td>\n",
       "      <td>2.000000</td>\n",
       "      <td>2.000000</td>\n",
       "      <td>0.562129</td>\n",
       "      <td>0.649259</td>\n",
       "    </tr>\n",
       "    <tr>\n",
       "      <th>50%</th>\n",
       "      <td>139521.000000</td>\n",
       "      <td>5.000000</td>\n",
       "      <td>55.000000</td>\n",
       "      <td>5.000000</td>\n",
       "      <td>2.000000</td>\n",
       "      <td>2.000000</td>\n",
       "      <td>0.864068</td>\n",
       "      <td>0.857891</td>\n",
       "    </tr>\n",
       "    <tr>\n",
       "      <th>75%</th>\n",
       "      <td>172600.750000</td>\n",
       "      <td>20.000000</td>\n",
       "      <td>68.000000</td>\n",
       "      <td>6.000000</td>\n",
       "      <td>4.000000</td>\n",
       "      <td>3.000000</td>\n",
       "      <td>1.283513</td>\n",
       "      <td>1.227047</td>\n",
       "    </tr>\n",
       "    <tr>\n",
       "      <th>max</th>\n",
       "      <td>311426.000000</td>\n",
       "      <td>99.000000</td>\n",
       "      <td>99.000000</td>\n",
       "      <td>99.000000</td>\n",
       "      <td>9.000000</td>\n",
       "      <td>9.000000</td>\n",
       "      <td>2.459681</td>\n",
       "      <td>2.272367</td>\n",
       "    </tr>\n",
       "  </tbody>\n",
       "</table>\n",
       "</div>"
      ],
      "text/plain": [
       "              respid       books1          age        educ2          hh1  \\\n",
       "count    1502.000000  1502.000000  1502.000000  1502.000000  1502.000000   \n",
       "mean   134280.018642    16.918109    53.567244     6.587217     2.833555   \n",
       "std     64625.388500    26.477888    20.367652    11.660021     1.888354   \n",
       "min       798.000000     0.000000    18.000000     1.000000     1.000000   \n",
       "25%    106243.500000     1.250000    37.000000     4.000000     2.000000   \n",
       "50%    139521.000000     5.000000    55.000000     5.000000     2.000000   \n",
       "75%    172600.750000    20.000000    68.000000     6.000000     4.000000   \n",
       "max    311426.000000    99.000000    99.000000    99.000000     9.000000   \n",
       "\n",
       "               hh3       weight   cellweight  \n",
       "count  1171.000000  1502.000000  1202.000000  \n",
       "mean      2.718190     1.000000     1.000000  \n",
       "std       1.652505     0.586059     0.513156  \n",
       "min       1.000000     0.311080     0.394665  \n",
       "25%       2.000000     0.562129     0.649259  \n",
       "50%       2.000000     0.864068     0.857891  \n",
       "75%       3.000000     1.283513     1.227047  \n",
       "max       9.000000     2.459681     2.272367  "
      ]
     },
     "execution_count": 8,
     "metadata": {},
     "output_type": "execute_result"
    }
   ],
   "source": [
    "df.describe()"
   ]
  },
  {
   "cell_type": "code",
   "execution_count": 9,
   "id": "78653f5f",
   "metadata": {
    "scrolled": true
   },
   "outputs": [
    {
     "data": {
      "text/plain": [
       "respid                  0\n",
       "sample                  0\n",
       "comp                    0\n",
       "int_date                0\n",
       "lang                    0\n",
       "cregion                 0\n",
       "state                   0\n",
       "density                 0\n",
       "usr                     0\n",
       "qs1                   300\n",
       "sex                     0\n",
       "eminuse                 0\n",
       "intmob                  0\n",
       "intfreq                89\n",
       "snsint2                 0\n",
       "home4nw                 0\n",
       "bbhome1               214\n",
       "bbhome2              1482\n",
       "device1a             1202\n",
       "smart2                 34\n",
       "bbsmart2             1217\n",
       "bbsmart3a            1217\n",
       "bbsmart3b            1217\n",
       "bbsmart3c            1327\n",
       "bbsmart3d            1217\n",
       "bbsmart3e            1217\n",
       "bbsmart3f            1217\n",
       "bbsmart3f_1_other       0\n",
       "bbsmart4             1309\n",
       "cable1                  0\n",
       "cable2                919\n",
       "cable3a               919\n",
       "cable3b               919\n",
       "cable3c               919\n",
       "web1a                   0\n",
       "web1b                   0\n",
       "web1c                   0\n",
       "web1d                   0\n",
       "web1e                   0\n",
       "web1f                   0\n",
       "web1g                   0\n",
       "web1h                   0\n",
       "web1i                   0\n",
       "web1j                   0\n",
       "web1k                   0\n",
       "sns2a                1156\n",
       "sns2b                 972\n",
       "sns2c                 514\n",
       "sns2d                1195\n",
       "sns2e                 299\n",
       "paya                   34\n",
       "payb                  285\n",
       "payc                  583\n",
       "prob                   89\n",
       "coviddisa               0\n",
       "coviddisb               0\n",
       "coviddisc               0\n",
       "coviddisd               0\n",
       "coviddise               0\n",
       "device1b                0\n",
       "device1c                0\n",
       "device1d                0\n",
       "books1                  0\n",
       "books2a               301\n",
       "books2b               301\n",
       "books2c               301\n",
       "gender                  0\n",
       "age                     0\n",
       "marital                 0\n",
       "par                     0\n",
       "educ2                   0\n",
       "emplnw                  0\n",
       "disa                    0\n",
       "hisp                    0\n",
       "racem1                  0\n",
       "racem2               1443\n",
       "racem3               1495\n",
       "racem4               1502\n",
       "racecmb                 0\n",
       "birth_hisp           1340\n",
       "income                  0\n",
       "party                   0\n",
       "partyln               841\n",
       "hh1                     0\n",
       "hh3                   331\n",
       "ql1                  1202\n",
       "ql1a                 1475\n",
       "qc1                   300\n",
       "weight                  0\n",
       "cellweight            300\n",
       "dtype: int64"
      ]
     },
     "execution_count": 9,
     "metadata": {},
     "output_type": "execute_result"
    }
   ],
   "source": [
    "df.isnull().sum()"
   ]
  },
  {
   "cell_type": "code",
   "execution_count": 10,
   "id": "17a01f52",
   "metadata": {},
   "outputs": [
    {
     "name": "stdout",
     "output_type": "stream",
     "text": [
      "density\n",
      "qs1\n",
      "intfreq\n",
      "bbhome1\n",
      "bbhome2\n",
      "device1a\n",
      "smart2\n",
      "bbsmart2\n",
      "bbsmart3a\n",
      "bbsmart3b\n",
      "bbsmart3c\n",
      "bbsmart3d\n",
      "bbsmart3e\n",
      "bbsmart3f\n",
      "bbsmart4\n",
      "cable2\n",
      "cable3a\n",
      "cable3b\n",
      "cable3c\n",
      "sns2a\n",
      "sns2b\n",
      "sns2c\n",
      "sns2d\n",
      "sns2e\n",
      "paya\n",
      "payb\n",
      "payc\n",
      "prob\n",
      "books2a\n",
      "books2b\n",
      "books2c\n",
      "racem2\n",
      "racem3\n",
      "racem4\n",
      "birth_hisp\n",
      "partyln\n",
      "ql1\n",
      "ql1a\n",
      "qc1\n"
     ]
    }
   ],
   "source": [
    "# check for mixed types\n",
    "for col in df.columns.tolist():\n",
    "  weird = (df[[col]].applymap(type) != df[[col]].iloc[0].apply(type)).any(axis = 1)\n",
    "  if len (df[weird]) > 0:\n",
    "    print (col)"
   ]
  },
  {
   "cell_type": "markdown",
   "id": "a40545f4",
   "metadata": {},
   "source": [
    "# 04 Data Cleaning"
   ]
  },
  {
   "cell_type": "markdown",
   "id": "8a0a81c0",
   "metadata": {},
   "source": [
    "### 1. Get rid of some columns"
   ]
  },
  {
   "cell_type": "code",
   "execution_count": 11,
   "id": "729a8799",
   "metadata": {},
   "outputs": [
    {
     "data": {
      "text/plain": [
       "Index(['respid', 'sample', 'comp', 'int_date', 'lang', 'cregion', 'state',\n",
       "       'density', 'usr', 'qs1', 'sex', 'eminuse', 'intmob', 'intfreq',\n",
       "       'snsint2', 'home4nw', 'bbhome1', 'bbhome2', 'device1a', 'smart2',\n",
       "       'bbsmart2', 'bbsmart3a', 'bbsmart3b', 'bbsmart3c', 'bbsmart3d',\n",
       "       'bbsmart3e', 'bbsmart3f', 'bbsmart3f_1_other', 'bbsmart4', 'cable1',\n",
       "       'cable2', 'cable3a', 'cable3b', 'cable3c', 'web1a', 'web1b', 'web1c',\n",
       "       'web1d', 'web1e', 'web1f', 'web1g', 'web1h', 'web1i', 'web1j', 'web1k',\n",
       "       'sns2a', 'sns2b', 'sns2c', 'sns2d', 'sns2e', 'paya', 'payb', 'payc',\n",
       "       'prob', 'coviddisa', 'coviddisb', 'coviddisc', 'coviddisd', 'coviddise',\n",
       "       'device1b', 'device1c', 'device1d', 'books1', 'books2a', 'books2b',\n",
       "       'books2c', 'gender', 'age', 'marital', 'par', 'educ2', 'emplnw', 'disa',\n",
       "       'hisp', 'racem1', 'racem2', 'racem3', 'racem4', 'racecmb', 'birth_hisp',\n",
       "       'income', 'party', 'partyln', 'hh1', 'hh3', 'ql1', 'ql1a', 'qc1',\n",
       "       'weight', 'cellweight'],\n",
       "      dtype='object')"
      ]
     },
     "execution_count": 11,
     "metadata": {},
     "output_type": "execute_result"
    }
   ],
   "source": [
    "# get column list\n",
    "df.columns"
   ]
  },
  {
   "cell_type": "code",
   "execution_count": 12,
   "id": "5265a28d",
   "metadata": {},
   "outputs": [],
   "source": [
    "# make a subset with only questions related to books and the demographics\n",
    "dfbooks = df[['respid', 'sample', 'comp', 'int_date', 'lang', 'state', 'density',\n",
    "       'usr', 'qs1', 'sex','books1', 'books2a', 'books2b',\n",
    "       'books2c', 'gender', 'age', 'marital', 'par', 'educ2', 'emplnw', 'disa',\n",
    "       'hisp', 'racem1', 'racem2', 'racem3', 'racem4', 'racecmb', 'birth_hisp',\n",
    "       'income', 'party', 'partyln']]"
   ]
  },
  {
   "cell_type": "code",
   "execution_count": 13,
   "id": "92934062",
   "metadata": {},
   "outputs": [
    {
     "data": {
      "text/html": [
       "<div>\n",
       "<style scoped>\n",
       "    .dataframe tbody tr th:only-of-type {\n",
       "        vertical-align: middle;\n",
       "    }\n",
       "\n",
       "    .dataframe tbody tr th {\n",
       "        vertical-align: top;\n",
       "    }\n",
       "\n",
       "    .dataframe thead th {\n",
       "        text-align: right;\n",
       "    }\n",
       "</style>\n",
       "<table border=\"1\" class=\"dataframe\">\n",
       "  <thead>\n",
       "    <tr style=\"text-align: right;\">\n",
       "      <th></th>\n",
       "      <th>respid</th>\n",
       "      <th>sample</th>\n",
       "      <th>comp</th>\n",
       "      <th>int_date</th>\n",
       "      <th>lang</th>\n",
       "      <th>state</th>\n",
       "      <th>density</th>\n",
       "      <th>usr</th>\n",
       "      <th>qs1</th>\n",
       "      <th>sex</th>\n",
       "      <th>books1</th>\n",
       "      <th>books2a</th>\n",
       "      <th>books2b</th>\n",
       "      <th>books2c</th>\n",
       "      <th>gender</th>\n",
       "      <th>age</th>\n",
       "      <th>marital</th>\n",
       "      <th>par</th>\n",
       "      <th>educ2</th>\n",
       "      <th>emplnw</th>\n",
       "      <th>disa</th>\n",
       "      <th>hisp</th>\n",
       "      <th>racem1</th>\n",
       "      <th>racem2</th>\n",
       "      <th>racem3</th>\n",
       "      <th>racem4</th>\n",
       "      <th>racecmb</th>\n",
       "      <th>birth_hisp</th>\n",
       "      <th>income</th>\n",
       "      <th>party</th>\n",
       "      <th>partyln</th>\n",
       "    </tr>\n",
       "  </thead>\n",
       "  <tbody>\n",
       "    <tr>\n",
       "      <th>0</th>\n",
       "      <td>798.0</td>\n",
       "      <td>Landline</td>\n",
       "      <td>Complete</td>\n",
       "      <td>2021-01-26</td>\n",
       "      <td>English</td>\n",
       "      <td>VA</td>\n",
       "      <td>Highest</td>\n",
       "      <td>S</td>\n",
       "      <td>NaN</td>\n",
       "      <td>Female</td>\n",
       "      <td>50.0</td>\n",
       "      <td>Yes</td>\n",
       "      <td>No</td>\n",
       "      <td>No</td>\n",
       "      <td>A woman</td>\n",
       "      <td>77.0</td>\n",
       "      <td>Widowed</td>\n",
       "      <td>No</td>\n",
       "      <td>4.0</td>\n",
       "      <td>Retired</td>\n",
       "      <td>Yes</td>\n",
       "      <td>No</td>\n",
       "      <td>White (e.g., Caucasian, European, Irish, Itali...</td>\n",
       "      <td>NaN</td>\n",
       "      <td>NaN</td>\n",
       "      <td>NaN</td>\n",
       "      <td>White</td>\n",
       "      <td>NaN</td>\n",
       "      <td>50 to under $75,000</td>\n",
       "      <td>Democrat</td>\n",
       "      <td>NaN</td>\n",
       "    </tr>\n",
       "    <tr>\n",
       "      <th>1</th>\n",
       "      <td>1017.0</td>\n",
       "      <td>Landline</td>\n",
       "      <td>Complete</td>\n",
       "      <td>2021-01-25</td>\n",
       "      <td>English</td>\n",
       "      <td>OH</td>\n",
       "      <td>2.0</td>\n",
       "      <td>S</td>\n",
       "      <td>NaN</td>\n",
       "      <td>Male</td>\n",
       "      <td>1.0</td>\n",
       "      <td>Yes</td>\n",
       "      <td>No</td>\n",
       "      <td>No</td>\n",
       "      <td>A man</td>\n",
       "      <td>59.0</td>\n",
       "      <td>Never been married</td>\n",
       "      <td>No</td>\n",
       "      <td>3.0</td>\n",
       "      <td>Employed part-time</td>\n",
       "      <td>No</td>\n",
       "      <td>No</td>\n",
       "      <td>White (e.g., Caucasian, European, Irish, Itali...</td>\n",
       "      <td>NaN</td>\n",
       "      <td>NaN</td>\n",
       "      <td>NaN</td>\n",
       "      <td>White</td>\n",
       "      <td>NaN</td>\n",
       "      <td>40 to under $50,000</td>\n",
       "      <td>Republican</td>\n",
       "      <td>NaN</td>\n",
       "    </tr>\n",
       "    <tr>\n",
       "      <th>2</th>\n",
       "      <td>1181.0</td>\n",
       "      <td>Landline</td>\n",
       "      <td>Complete</td>\n",
       "      <td>2021-01-25</td>\n",
       "      <td>English</td>\n",
       "      <td>NV</td>\n",
       "      <td>2.0</td>\n",
       "      <td>U</td>\n",
       "      <td>NaN</td>\n",
       "      <td>Female</td>\n",
       "      <td>3.0</td>\n",
       "      <td>Yes</td>\n",
       "      <td>No</td>\n",
       "      <td>No</td>\n",
       "      <td>A woman</td>\n",
       "      <td>60.0</td>\n",
       "      <td>Married</td>\n",
       "      <td>No</td>\n",
       "      <td>4.0</td>\n",
       "      <td>Retired</td>\n",
       "      <td>No</td>\n",
       "      <td>No</td>\n",
       "      <td>White (e.g., Caucasian, European, Irish, Itali...</td>\n",
       "      <td>NaN</td>\n",
       "      <td>NaN</td>\n",
       "      <td>NaN</td>\n",
       "      <td>White</td>\n",
       "      <td>NaN</td>\n",
       "      <td>100 to under $150,000</td>\n",
       "      <td>Independent</td>\n",
       "      <td>Democrat</td>\n",
       "    </tr>\n",
       "    <tr>\n",
       "      <th>3</th>\n",
       "      <td>1388.0</td>\n",
       "      <td>Landline</td>\n",
       "      <td>Complete</td>\n",
       "      <td>2021-01-25</td>\n",
       "      <td>English</td>\n",
       "      <td>AZ</td>\n",
       "      <td>3.0</td>\n",
       "      <td>U</td>\n",
       "      <td>NaN</td>\n",
       "      <td>Male</td>\n",
       "      <td>30.0</td>\n",
       "      <td>Yes</td>\n",
       "      <td>Yes</td>\n",
       "      <td>No</td>\n",
       "      <td>A man</td>\n",
       "      <td>73.0</td>\n",
       "      <td>Never been married</td>\n",
       "      <td>No</td>\n",
       "      <td>8.0</td>\n",
       "      <td>Employed part-time</td>\n",
       "      <td>No</td>\n",
       "      <td>No</td>\n",
       "      <td>White (e.g., Caucasian, European, Irish, Itali...</td>\n",
       "      <td>NaN</td>\n",
       "      <td>NaN</td>\n",
       "      <td>NaN</td>\n",
       "      <td>White</td>\n",
       "      <td>NaN</td>\n",
       "      <td>100 to under $150,000</td>\n",
       "      <td>Democrat</td>\n",
       "      <td>NaN</td>\n",
       "    </tr>\n",
       "    <tr>\n",
       "      <th>4</th>\n",
       "      <td>1664.0</td>\n",
       "      <td>Landline</td>\n",
       "      <td>Complete</td>\n",
       "      <td>2021-01-26</td>\n",
       "      <td>English</td>\n",
       "      <td>FL</td>\n",
       "      <td>2.0</td>\n",
       "      <td>S</td>\n",
       "      <td>NaN</td>\n",
       "      <td>Female</td>\n",
       "      <td>40.0</td>\n",
       "      <td>Yes</td>\n",
       "      <td>No</td>\n",
       "      <td>Yes</td>\n",
       "      <td>A woman</td>\n",
       "      <td>65.0</td>\n",
       "      <td>Married</td>\n",
       "      <td>No</td>\n",
       "      <td>8.0</td>\n",
       "      <td>Retired</td>\n",
       "      <td>No</td>\n",
       "      <td>No</td>\n",
       "      <td>White (e.g., Caucasian, European, Irish, Itali...</td>\n",
       "      <td>NaN</td>\n",
       "      <td>NaN</td>\n",
       "      <td>NaN</td>\n",
       "      <td>White</td>\n",
       "      <td>NaN</td>\n",
       "      <td>75 to under $100,000</td>\n",
       "      <td>Democrat</td>\n",
       "      <td>NaN</td>\n",
       "    </tr>\n",
       "  </tbody>\n",
       "</table>\n",
       "</div>"
      ],
      "text/plain": [
       "   respid    sample      comp    int_date     lang state  density usr  qs1  \\\n",
       "0   798.0  Landline  Complete  2021-01-26  English    VA  Highest   S  NaN   \n",
       "1  1017.0  Landline  Complete  2021-01-25  English    OH      2.0   S  NaN   \n",
       "2  1181.0  Landline  Complete  2021-01-25  English    NV      2.0   U  NaN   \n",
       "3  1388.0  Landline  Complete  2021-01-25  English    AZ      3.0   U  NaN   \n",
       "4  1664.0  Landline  Complete  2021-01-26  English    FL      2.0   S  NaN   \n",
       "\n",
       "      sex  books1 books2a books2b books2c   gender   age             marital  \\\n",
       "0  Female    50.0     Yes      No      No  A woman  77.0             Widowed   \n",
       "1    Male     1.0     Yes      No      No    A man  59.0  Never been married   \n",
       "2  Female     3.0     Yes      No      No  A woman  60.0             Married   \n",
       "3    Male    30.0     Yes     Yes      No    A man  73.0  Never been married   \n",
       "4  Female    40.0     Yes      No     Yes  A woman  65.0             Married   \n",
       "\n",
       "  par  educ2              emplnw disa hisp  \\\n",
       "0  No    4.0             Retired  Yes   No   \n",
       "1  No    3.0  Employed part-time   No   No   \n",
       "2  No    4.0             Retired   No   No   \n",
       "3  No    8.0  Employed part-time   No   No   \n",
       "4  No    8.0             Retired   No   No   \n",
       "\n",
       "                                              racem1 racem2 racem3 racem4  \\\n",
       "0  White (e.g., Caucasian, European, Irish, Itali...    NaN    NaN    NaN   \n",
       "1  White (e.g., Caucasian, European, Irish, Itali...    NaN    NaN    NaN   \n",
       "2  White (e.g., Caucasian, European, Irish, Itali...    NaN    NaN    NaN   \n",
       "3  White (e.g., Caucasian, European, Irish, Itali...    NaN    NaN    NaN   \n",
       "4  White (e.g., Caucasian, European, Irish, Itali...    NaN    NaN    NaN   \n",
       "\n",
       "  racecmb birth_hisp                 income        party   partyln  \n",
       "0   White        NaN    50 to under $75,000     Democrat       NaN  \n",
       "1   White        NaN    40 to under $50,000   Republican       NaN  \n",
       "2   White        NaN  100 to under $150,000  Independent  Democrat  \n",
       "3   White        NaN  100 to under $150,000     Democrat       NaN  \n",
       "4   White        NaN   75 to under $100,000     Democrat       NaN  "
      ]
     },
     "execution_count": 13,
     "metadata": {},
     "output_type": "execute_result"
    }
   ],
   "source": [
    "dfbooks.head()"
   ]
  },
  {
   "cell_type": "markdown",
   "id": "fd67176a",
   "metadata": {},
   "source": [
    "### 2. Make columns easier to read"
   ]
  },
  {
   "cell_type": "code",
   "execution_count": 14,
   "id": "ff64debb",
   "metadata": {},
   "outputs": [],
   "source": [
    "# rename columns\n",
    "dfbooks = dfbooks.rename(columns = {'respid':'response_id','lang':'language','books1':'number_of_books_read',\n",
    "                          'books2a':'read_printed_books','books2b':'read_audiobooks','books2c':'read_e-books',\n",
    "                          'par':'parent','educ2':'level_of_education','emplnw':'employment','disa':'disability',\n",
    "                         'hisp':'hispanic','racecmb':'race','partyln':'dem_or_rep_leaning'})"
   ]
  },
  {
   "cell_type": "code",
   "execution_count": 15,
   "id": "133a1237",
   "metadata": {},
   "outputs": [],
   "source": [
    "# remove more unneeded columns\n",
    "dfbooks = dfbooks[['response_id', 'language', 'state', 'sex','number_of_books_read', 'read_printed_books', \n",
    "                   'read_audiobooks','read_e-books', 'gender', 'age', 'marital', 'parent', 'level_of_education',\n",
    "                   'employment', 'disability','hispanic', 'race','income', 'party', 'dem_or_rep_leaning']]"
   ]
  },
  {
   "cell_type": "code",
   "execution_count": 16,
   "id": "1007208c",
   "metadata": {},
   "outputs": [
    {
     "data": {
      "text/html": [
       "<div>\n",
       "<style scoped>\n",
       "    .dataframe tbody tr th:only-of-type {\n",
       "        vertical-align: middle;\n",
       "    }\n",
       "\n",
       "    .dataframe tbody tr th {\n",
       "        vertical-align: top;\n",
       "    }\n",
       "\n",
       "    .dataframe thead th {\n",
       "        text-align: right;\n",
       "    }\n",
       "</style>\n",
       "<table border=\"1\" class=\"dataframe\">\n",
       "  <thead>\n",
       "    <tr style=\"text-align: right;\">\n",
       "      <th></th>\n",
       "      <th>response_id</th>\n",
       "      <th>language</th>\n",
       "      <th>state</th>\n",
       "      <th>sex</th>\n",
       "      <th>number_of_books_read</th>\n",
       "      <th>read_printed_books</th>\n",
       "      <th>read_audiobooks</th>\n",
       "      <th>read_e-books</th>\n",
       "      <th>gender</th>\n",
       "      <th>age</th>\n",
       "      <th>marital</th>\n",
       "      <th>parent</th>\n",
       "      <th>level_of_education</th>\n",
       "      <th>employment</th>\n",
       "      <th>disability</th>\n",
       "      <th>hispanic</th>\n",
       "      <th>race</th>\n",
       "      <th>income</th>\n",
       "      <th>party</th>\n",
       "      <th>dem_or_rep_leaning</th>\n",
       "    </tr>\n",
       "  </thead>\n",
       "  <tbody>\n",
       "    <tr>\n",
       "      <th>0</th>\n",
       "      <td>798.0</td>\n",
       "      <td>English</td>\n",
       "      <td>VA</td>\n",
       "      <td>Female</td>\n",
       "      <td>50.0</td>\n",
       "      <td>Yes</td>\n",
       "      <td>No</td>\n",
       "      <td>No</td>\n",
       "      <td>A woman</td>\n",
       "      <td>77.0</td>\n",
       "      <td>Widowed</td>\n",
       "      <td>No</td>\n",
       "      <td>4.0</td>\n",
       "      <td>Retired</td>\n",
       "      <td>Yes</td>\n",
       "      <td>No</td>\n",
       "      <td>White</td>\n",
       "      <td>50 to under $75,000</td>\n",
       "      <td>Democrat</td>\n",
       "      <td>NaN</td>\n",
       "    </tr>\n",
       "    <tr>\n",
       "      <th>1</th>\n",
       "      <td>1017.0</td>\n",
       "      <td>English</td>\n",
       "      <td>OH</td>\n",
       "      <td>Male</td>\n",
       "      <td>1.0</td>\n",
       "      <td>Yes</td>\n",
       "      <td>No</td>\n",
       "      <td>No</td>\n",
       "      <td>A man</td>\n",
       "      <td>59.0</td>\n",
       "      <td>Never been married</td>\n",
       "      <td>No</td>\n",
       "      <td>3.0</td>\n",
       "      <td>Employed part-time</td>\n",
       "      <td>No</td>\n",
       "      <td>No</td>\n",
       "      <td>White</td>\n",
       "      <td>40 to under $50,000</td>\n",
       "      <td>Republican</td>\n",
       "      <td>NaN</td>\n",
       "    </tr>\n",
       "    <tr>\n",
       "      <th>2</th>\n",
       "      <td>1181.0</td>\n",
       "      <td>English</td>\n",
       "      <td>NV</td>\n",
       "      <td>Female</td>\n",
       "      <td>3.0</td>\n",
       "      <td>Yes</td>\n",
       "      <td>No</td>\n",
       "      <td>No</td>\n",
       "      <td>A woman</td>\n",
       "      <td>60.0</td>\n",
       "      <td>Married</td>\n",
       "      <td>No</td>\n",
       "      <td>4.0</td>\n",
       "      <td>Retired</td>\n",
       "      <td>No</td>\n",
       "      <td>No</td>\n",
       "      <td>White</td>\n",
       "      <td>100 to under $150,000</td>\n",
       "      <td>Independent</td>\n",
       "      <td>Democrat</td>\n",
       "    </tr>\n",
       "    <tr>\n",
       "      <th>3</th>\n",
       "      <td>1388.0</td>\n",
       "      <td>English</td>\n",
       "      <td>AZ</td>\n",
       "      <td>Male</td>\n",
       "      <td>30.0</td>\n",
       "      <td>Yes</td>\n",
       "      <td>Yes</td>\n",
       "      <td>No</td>\n",
       "      <td>A man</td>\n",
       "      <td>73.0</td>\n",
       "      <td>Never been married</td>\n",
       "      <td>No</td>\n",
       "      <td>8.0</td>\n",
       "      <td>Employed part-time</td>\n",
       "      <td>No</td>\n",
       "      <td>No</td>\n",
       "      <td>White</td>\n",
       "      <td>100 to under $150,000</td>\n",
       "      <td>Democrat</td>\n",
       "      <td>NaN</td>\n",
       "    </tr>\n",
       "    <tr>\n",
       "      <th>4</th>\n",
       "      <td>1664.0</td>\n",
       "      <td>English</td>\n",
       "      <td>FL</td>\n",
       "      <td>Female</td>\n",
       "      <td>40.0</td>\n",
       "      <td>Yes</td>\n",
       "      <td>No</td>\n",
       "      <td>Yes</td>\n",
       "      <td>A woman</td>\n",
       "      <td>65.0</td>\n",
       "      <td>Married</td>\n",
       "      <td>No</td>\n",
       "      <td>8.0</td>\n",
       "      <td>Retired</td>\n",
       "      <td>No</td>\n",
       "      <td>No</td>\n",
       "      <td>White</td>\n",
       "      <td>75 to under $100,000</td>\n",
       "      <td>Democrat</td>\n",
       "      <td>NaN</td>\n",
       "    </tr>\n",
       "  </tbody>\n",
       "</table>\n",
       "</div>"
      ],
      "text/plain": [
       "   response_id language state     sex  number_of_books_read  \\\n",
       "0        798.0  English    VA  Female                  50.0   \n",
       "1       1017.0  English    OH    Male                   1.0   \n",
       "2       1181.0  English    NV  Female                   3.0   \n",
       "3       1388.0  English    AZ    Male                  30.0   \n",
       "4       1664.0  English    FL  Female                  40.0   \n",
       "\n",
       "  read_printed_books read_audiobooks read_e-books   gender   age  \\\n",
       "0                Yes              No           No  A woman  77.0   \n",
       "1                Yes              No           No    A man  59.0   \n",
       "2                Yes              No           No  A woman  60.0   \n",
       "3                Yes             Yes           No    A man  73.0   \n",
       "4                Yes              No          Yes  A woman  65.0   \n",
       "\n",
       "              marital parent  level_of_education          employment  \\\n",
       "0             Widowed     No                 4.0             Retired   \n",
       "1  Never been married     No                 3.0  Employed part-time   \n",
       "2             Married     No                 4.0             Retired   \n",
       "3  Never been married     No                 8.0  Employed part-time   \n",
       "4             Married     No                 8.0             Retired   \n",
       "\n",
       "  disability hispanic   race                 income        party  \\\n",
       "0        Yes       No  White    50 to under $75,000     Democrat   \n",
       "1         No       No  White    40 to under $50,000   Republican   \n",
       "2         No       No  White  100 to under $150,000  Independent   \n",
       "3         No       No  White  100 to under $150,000     Democrat   \n",
       "4         No       No  White   75 to under $100,000     Democrat   \n",
       "\n",
       "  dem_or_rep_leaning  \n",
       "0                NaN  \n",
       "1                NaN  \n",
       "2           Democrat  \n",
       "3                NaN  \n",
       "4                NaN  "
      ]
     },
     "execution_count": 16,
     "metadata": {},
     "output_type": "execute_result"
    }
   ],
   "source": [
    "dfbooks.head()"
   ]
  },
  {
   "cell_type": "markdown",
   "id": "a909c6e6",
   "metadata": {},
   "source": [
    "### 3. Change data types"
   ]
  },
  {
   "cell_type": "code",
   "execution_count": 17,
   "id": "51692a98",
   "metadata": {},
   "outputs": [
    {
     "data": {
      "text/plain": [
       "response_id              float64\n",
       "language                category\n",
       "state                   category\n",
       "sex                     category\n",
       "number_of_books_read     float64\n",
       "read_printed_books      category\n",
       "read_audiobooks         category\n",
       "read_e-books            category\n",
       "gender                  category\n",
       "age                      float64\n",
       "marital                 category\n",
       "parent                  category\n",
       "level_of_education       float64\n",
       "employment              category\n",
       "disability              category\n",
       "hispanic                category\n",
       "race                    category\n",
       "income                  category\n",
       "party                   category\n",
       "dem_or_rep_leaning      category\n",
       "dtype: object"
      ]
     },
     "execution_count": 17,
     "metadata": {},
     "output_type": "execute_result"
    }
   ],
   "source": [
    "dfbooks.dtypes"
   ]
  },
  {
   "cell_type": "code",
   "execution_count": 18,
   "id": "6fdec86e",
   "metadata": {},
   "outputs": [],
   "source": [
    "# change datatypes\n",
    "dfbooks['response_id'] = dfbooks['response_id'].astype('str')\n",
    "dfbooks['number_of_books_read'] = dfbooks['number_of_books_read'].astype('int')\n",
    "dfbooks['age'] = dfbooks['age'].astype('int')\n",
    "dfbooks['level_of_education'] = dfbooks['level_of_education'].astype('int')"
   ]
  },
  {
   "cell_type": "markdown",
   "id": "f6931100",
   "metadata": {},
   "source": [
    "### 4. Derive new variables"
   ]
  },
  {
   "cell_type": "code",
   "execution_count": 19,
   "id": "78a29a92",
   "metadata": {},
   "outputs": [],
   "source": [
    "# make new column for describing level of education\n",
    "dfbooks.loc[dfbooks['level_of_education'] == 1, 'education'] = 'Less than high school'\n",
    "dfbooks.loc[dfbooks['level_of_education'] == 2, 'education'] = 'High school incomplete' \n",
    "dfbooks.loc[dfbooks['level_of_education'] == 3, 'education'] = 'High school graduate'\n",
    "dfbooks.loc[dfbooks['level_of_education'] == 4, 'education'] = 'Some college, no degree'\n",
    "dfbooks.loc[dfbooks['level_of_education'] == 5, 'education'] = 'Associate degree'\n",
    "dfbooks.loc[dfbooks['level_of_education'] == 6, 'education'] = 'Bachelors degree'\n",
    "dfbooks.loc[dfbooks['level_of_education'] == 7, 'education'] = 'Some graduate school'\n",
    "dfbooks.loc[dfbooks['level_of_education'] == 8, 'education'] = 'Postgraduate degree'\n",
    "dfbooks.loc[dfbooks['level_of_education'] == 98, 'education'] = 'Do not know'\n",
    "dfbooks.loc[dfbooks['level_of_education'] == 99, 'education'] = 'Refused'"
   ]
  },
  {
   "cell_type": "code",
   "execution_count": 20,
   "id": "d65c9b6c",
   "metadata": {},
   "outputs": [
    {
     "data": {
      "text/html": [
       "<div>\n",
       "<style scoped>\n",
       "    .dataframe tbody tr th:only-of-type {\n",
       "        vertical-align: middle;\n",
       "    }\n",
       "\n",
       "    .dataframe tbody tr th {\n",
       "        vertical-align: top;\n",
       "    }\n",
       "\n",
       "    .dataframe thead th {\n",
       "        text-align: right;\n",
       "    }\n",
       "</style>\n",
       "<table border=\"1\" class=\"dataframe\">\n",
       "  <thead>\n",
       "    <tr style=\"text-align: right;\">\n",
       "      <th></th>\n",
       "      <th>level_of_education</th>\n",
       "      <th>education</th>\n",
       "    </tr>\n",
       "  </thead>\n",
       "  <tbody>\n",
       "    <tr>\n",
       "      <th>0</th>\n",
       "      <td>4</td>\n",
       "      <td>Some college, no degree</td>\n",
       "    </tr>\n",
       "    <tr>\n",
       "      <th>1</th>\n",
       "      <td>3</td>\n",
       "      <td>High school graduate</td>\n",
       "    </tr>\n",
       "    <tr>\n",
       "      <th>2</th>\n",
       "      <td>4</td>\n",
       "      <td>Some college, no degree</td>\n",
       "    </tr>\n",
       "    <tr>\n",
       "      <th>3</th>\n",
       "      <td>8</td>\n",
       "      <td>Postgraduate degree</td>\n",
       "    </tr>\n",
       "    <tr>\n",
       "      <th>4</th>\n",
       "      <td>8</td>\n",
       "      <td>Postgraduate degree</td>\n",
       "    </tr>\n",
       "    <tr>\n",
       "      <th>5</th>\n",
       "      <td>6</td>\n",
       "      <td>Bachelors degree</td>\n",
       "    </tr>\n",
       "    <tr>\n",
       "      <th>6</th>\n",
       "      <td>4</td>\n",
       "      <td>Some college, no degree</td>\n",
       "    </tr>\n",
       "    <tr>\n",
       "      <th>7</th>\n",
       "      <td>6</td>\n",
       "      <td>Bachelors degree</td>\n",
       "    </tr>\n",
       "    <tr>\n",
       "      <th>8</th>\n",
       "      <td>3</td>\n",
       "      <td>High school graduate</td>\n",
       "    </tr>\n",
       "    <tr>\n",
       "      <th>9</th>\n",
       "      <td>6</td>\n",
       "      <td>Bachelors degree</td>\n",
       "    </tr>\n",
       "  </tbody>\n",
       "</table>\n",
       "</div>"
      ],
      "text/plain": [
       "   level_of_education                education\n",
       "0                   4  Some college, no degree\n",
       "1                   3     High school graduate\n",
       "2                   4  Some college, no degree\n",
       "3                   8      Postgraduate degree\n",
       "4                   8      Postgraduate degree\n",
       "5                   6         Bachelors degree\n",
       "6                   4  Some college, no degree\n",
       "7                   6         Bachelors degree\n",
       "8                   3     High school graduate\n",
       "9                   6         Bachelors degree"
      ]
     },
     "execution_count": 20,
     "metadata": {},
     "output_type": "execute_result"
    }
   ],
   "source": [
    "dfbooks[['level_of_education','education']].head(10)"
   ]
  },
  {
   "cell_type": "code",
   "execution_count": 21,
   "id": "33e6bcf9",
   "metadata": {},
   "outputs": [
    {
     "data": {
      "text/plain": [
       "Bachelors degree           389\n",
       "High school graduate       313\n",
       "Postgraduate degree        274\n",
       "Some college, no degree    244\n",
       "Associate degree           156\n",
       "High school incomplete      44\n",
       "Some graduate school        42\n",
       "Refused                     20\n",
       "Less than high school       17\n",
       "Do not know                  3\n",
       "Name: education, dtype: int64"
      ]
     },
     "execution_count": 21,
     "metadata": {},
     "output_type": "execute_result"
    }
   ],
   "source": [
    "dfbooks['education'].value_counts()"
   ]
  },
  {
   "cell_type": "code",
   "execution_count": 22,
   "id": "48191d01",
   "metadata": {},
   "outputs": [
    {
     "data": {
      "text/plain": [
       "(VOL) Don't know/Refused    229\n",
       "$150,000 or more            217\n",
       "100 to under $150,000       193\n",
       "75 to under $100,000        193\n",
       "50 to under $75,000         182\n",
       "30 to under $40,000         120\n",
       "20 to under $30,000         110\n",
       "10 to under $20,000          99\n",
       "40 to under $50,000          89\n",
       "Less than $10,000            70\n",
       "Name: income, dtype: int64"
      ]
     },
     "execution_count": 22,
     "metadata": {},
     "output_type": "execute_result"
    }
   ],
   "source": [
    "# check income value counts\n",
    "dfbooks['income'].value_counts()"
   ]
  },
  {
   "cell_type": "code",
   "execution_count": 23,
   "id": "60050333",
   "metadata": {},
   "outputs": [],
   "source": [
    "# create income estimate column with imputed values using value counts to make all unique values\n",
    "dfbooks.loc[dfbooks['income'] == '$150,000 or more', 'income_estimate'] = np.random.randint(150000,200000,217)\n",
    "dfbooks.loc[dfbooks['income'] == '100 to under $150,000', 'income_estimate'] = np.random.randint(100000,149999,193)\n",
    "dfbooks.loc[dfbooks['income'] == '75 to under $100,000', 'income_estimate'] = np.random.randint(75000,99999,193)\n",
    "dfbooks.loc[dfbooks['income'] == '50 to under $75,000', 'income_estimate'] = np.random.randint(50000,74999,182)\n",
    "dfbooks.loc[dfbooks['income'] == '30 to under $40,000', 'income_estimate'] = np.random.randint(30000,39999,120)\n",
    "dfbooks.loc[dfbooks['income'] == '20 to under $30,000', 'income_estimate'] = np.random.randint(20000,29999,110)\n",
    "dfbooks.loc[dfbooks['income'] == '10 to under $20,000', 'income_estimate'] = np.random.randint(10000,19999,99)\n",
    "dfbooks.loc[dfbooks['income'] == '40 to under $50,000', 'income_estimate'] = np.random.randint(40000,49999,89)\n",
    "dfbooks.loc[dfbooks['income'] == 'Less than $10,000', 'income_estimate'] = np.random.randint(1000,9999,70)"
   ]
  },
  {
   "cell_type": "code",
   "execution_count": 24,
   "id": "327064f6",
   "metadata": {},
   "outputs": [],
   "source": [
    "# make subset of all with imputed numbers (not don't know/refused)\n",
    "dfincome = dfbooks[dfbooks['income_estimate']>1]"
   ]
  },
  {
   "cell_type": "code",
   "execution_count": 25,
   "id": "c65d68c6",
   "metadata": {},
   "outputs": [
    {
     "data": {
      "text/plain": [
       "count      1273.000000\n",
       "mean      81171.341712\n",
       "std       56415.141549\n",
       "min        1195.000000\n",
       "25%       33071.000000\n",
       "50%       72146.000000\n",
       "75%      123650.000000\n",
       "max      199277.000000\n",
       "Name: income_estimate, dtype: float64"
      ]
     },
     "execution_count": 25,
     "metadata": {},
     "output_type": "execute_result"
    }
   ],
   "source": [
    "dfincome['income_estimate'].describe()"
   ]
  },
  {
   "cell_type": "code",
   "execution_count": 26,
   "id": "9ca73bb6",
   "metadata": {},
   "outputs": [],
   "source": [
    "# impute don't know/refused with numbers in the interquartile range\n",
    "dfbooks.loc[dfbooks['income'] == \"(VOL) Don't know/Refused\", 'income_estimate'] = np.random.randint(33574,125319,229)"
   ]
  },
  {
   "cell_type": "code",
   "execution_count": 27,
   "id": "304a8907",
   "metadata": {},
   "outputs": [
    {
     "data": {
      "text/plain": [
       "count      1502.000000\n",
       "mean      81153.104527\n",
       "std       52874.030333\n",
       "min        1195.000000\n",
       "25%       37351.500000\n",
       "50%       73867.500000\n",
       "75%      114649.000000\n",
       "max      199277.000000\n",
       "Name: income_estimate, dtype: float64"
      ]
     },
     "execution_count": 27,
     "metadata": {},
     "output_type": "execute_result"
    }
   ],
   "source": [
    "dfbooks['income_estimate'].describe()"
   ]
  },
  {
   "cell_type": "code",
   "execution_count": 28,
   "id": "7f7f7c29",
   "metadata": {},
   "outputs": [
    {
     "data": {
      "text/plain": [
       "dtype('float64')"
      ]
     },
     "execution_count": 28,
     "metadata": {},
     "output_type": "execute_result"
    }
   ],
   "source": [
    "dfbooks['income_estimate'].dtypes"
   ]
  },
  {
   "cell_type": "markdown",
   "id": "0bbb9181",
   "metadata": {},
   "source": [
    "### 5. Fix mixed types"
   ]
  },
  {
   "cell_type": "code",
   "execution_count": 29,
   "id": "d49affca",
   "metadata": {},
   "outputs": [
    {
     "name": "stdout",
     "output_type": "stream",
     "text": [
      "read_printed_books\n",
      "read_audiobooks\n",
      "read_e-books\n",
      "dem_or_rep_leaning\n"
     ]
    }
   ],
   "source": [
    "# check for mixed types again\n",
    "for col in dfbooks.columns.tolist():\n",
    "  weird = (dfbooks[[col]].applymap(type) != dfbooks[[col]].iloc[0].apply(type)).any(axis = 1)\n",
    "  if len (dfbooks[weird]) > 0:\n",
    "    print (col)"
   ]
  },
  {
   "cell_type": "code",
   "execution_count": 30,
   "id": "2d087b5d",
   "metadata": {},
   "outputs": [
    {
     "data": {
      "text/plain": [
       "Yes                 1041\n",
       "No                   158\n",
       "(VOL) Don't know       1\n",
       "(VOL) Refused          1\n",
       "Name: read_printed_books, dtype: int64"
      ]
     },
     "execution_count": 30,
     "metadata": {},
     "output_type": "execute_result"
    }
   ],
   "source": [
    "dfbooks['read_printed_books'].value_counts()"
   ]
  },
  {
   "cell_type": "code",
   "execution_count": 31,
   "id": "53ed7a4f",
   "metadata": {},
   "outputs": [],
   "source": [
    "# change don't know and refused to just No\n",
    "dfbooks.loc[dfbooks['read_printed_books'] == \"(VOL) Don't know\", 'read_printed_books'] = 'No'\n",
    "dfbooks.loc[dfbooks['read_printed_books'] == '(VOL) Refused', 'read_printed_books'] = 'No'"
   ]
  },
  {
   "cell_type": "code",
   "execution_count": 32,
   "id": "9f135131",
   "metadata": {},
   "outputs": [
    {
     "data": {
      "text/plain": [
       "Yes                 1041\n",
       "No                   160\n",
       "(VOL) Don't know       0\n",
       "(VOL) Refused          0\n",
       "Name: read_printed_books, dtype: int64"
      ]
     },
     "execution_count": 32,
     "metadata": {},
     "output_type": "execute_result"
    }
   ],
   "source": [
    "dfbooks['read_printed_books'].value_counts()"
   ]
  },
  {
   "cell_type": "code",
   "execution_count": 33,
   "id": "0464a36e",
   "metadata": {},
   "outputs": [
    {
     "data": {
      "text/plain": [
       "No                  842\n",
       "Yes                 357\n",
       "(VOL) Don't know      2\n",
       "Name: read_audiobooks, dtype: int64"
      ]
     },
     "execution_count": 33,
     "metadata": {},
     "output_type": "execute_result"
    }
   ],
   "source": [
    "# do the same for other books columns\n",
    "dfbooks['read_audiobooks'].value_counts()"
   ]
  },
  {
   "cell_type": "code",
   "execution_count": 34,
   "id": "b83b7848",
   "metadata": {},
   "outputs": [],
   "source": [
    "dfbooks.loc[dfbooks['read_audiobooks'] == \"(VOL) Don't know\", 'read_audiobooks'] = 'No'"
   ]
  },
  {
   "cell_type": "code",
   "execution_count": 35,
   "id": "1c7236c5",
   "metadata": {},
   "outputs": [
    {
     "data": {
      "text/plain": [
       "No                  844\n",
       "Yes                 357\n",
       "(VOL) Don't know      0\n",
       "Name: read_audiobooks, dtype: int64"
      ]
     },
     "execution_count": 35,
     "metadata": {},
     "output_type": "execute_result"
    }
   ],
   "source": [
    "dfbooks['read_audiobooks'].value_counts()"
   ]
  },
  {
   "cell_type": "code",
   "execution_count": 36,
   "id": "499a7d3f",
   "metadata": {},
   "outputs": [
    {
     "data": {
      "text/plain": [
       "No                  724\n",
       "Yes                 471\n",
       "(VOL) Don't know      6\n",
       "Name: read_e-books, dtype: int64"
      ]
     },
     "execution_count": 36,
     "metadata": {},
     "output_type": "execute_result"
    }
   ],
   "source": [
    "dfbooks['read_e-books'].value_counts()"
   ]
  },
  {
   "cell_type": "code",
   "execution_count": 37,
   "id": "2d03102a",
   "metadata": {},
   "outputs": [],
   "source": [
    "dfbooks.loc[dfbooks['read_e-books'] == \"(VOL) Don't know\", 'read_e-books'] = 'No'"
   ]
  },
  {
   "cell_type": "code",
   "execution_count": 38,
   "id": "f5a0b1e4",
   "metadata": {},
   "outputs": [
    {
     "data": {
      "text/plain": [
       "No                  730\n",
       "Yes                 471\n",
       "(VOL) Don't know      0\n",
       "Name: read_e-books, dtype: int64"
      ]
     },
     "execution_count": 38,
     "metadata": {},
     "output_type": "execute_result"
    }
   ],
   "source": [
    "dfbooks['read_e-books'].value_counts()"
   ]
  },
  {
   "cell_type": "code",
   "execution_count": 39,
   "id": "28b022d5",
   "metadata": {},
   "outputs": [
    {
     "data": {
      "text/plain": [
       "Democrat            207\n",
       "Republican          175\n",
       "(VOL) Refused       143\n",
       "(VOL) Don't know    136\n",
       "Name: dem_or_rep_leaning, dtype: int64"
      ]
     },
     "execution_count": 39,
     "metadata": {},
     "output_type": "execute_result"
    }
   ],
   "source": [
    "# check dem or rep leaning\n",
    "dfbooks['dem_or_rep_leaning'].value_counts()"
   ]
  },
  {
   "cell_type": "code",
   "execution_count": 40,
   "id": "c809fcf1",
   "metadata": {},
   "outputs": [
    {
     "data": {
      "text/plain": [
       "Democrat              482\n",
       "Independent           470\n",
       "Republican            359\n",
       "VOL) No preference     78\n",
       "(VOL) Refused          75\n",
       "(VOL) Don't know       20\n",
       "(VOL) Other party      18\n",
       "Name: party, dtype: int64"
      ]
     },
     "execution_count": 40,
     "metadata": {},
     "output_type": "execute_result"
    }
   ],
   "source": [
    "# compare with party\n",
    "dfbooks['party'].value_counts()"
   ]
  },
  {
   "cell_type": "code",
   "execution_count": 41,
   "id": "d11840a9",
   "metadata": {},
   "outputs": [
    {
     "data": {
      "text/plain": [
       "841"
      ]
     },
     "execution_count": 41,
     "metadata": {},
     "output_type": "execute_result"
    }
   ],
   "source": [
    "dfbooks['dem_or_rep_leaning'].isnull().sum()"
   ]
  },
  {
   "cell_type": "code",
   "execution_count": 42,
   "id": "cf7987e4",
   "metadata": {},
   "outputs": [
    {
     "data": {
      "text/plain": [
       "0"
      ]
     },
     "execution_count": 42,
     "metadata": {},
     "output_type": "execute_result"
    }
   ],
   "source": [
    "dfbooks['party'].isnull().sum()"
   ]
  },
  {
   "cell_type": "code",
   "execution_count": 43,
   "id": "62ac2e61",
   "metadata": {},
   "outputs": [],
   "source": [
    "# party has more information, so delete dem_or_rep_leaning\n",
    "dfbooks = dfbooks.drop(columns = ['dem_or_rep_leaning'])"
   ]
  },
  {
   "cell_type": "code",
   "execution_count": 44,
   "id": "7a70cdbf",
   "metadata": {},
   "outputs": [
    {
     "data": {
      "text/plain": [
       "No                  730\n",
       "Yes                 471\n",
       "(VOL) Don't know      0\n",
       "Name: read_e-books, dtype: int64"
      ]
     },
     "execution_count": 44,
     "metadata": {},
     "output_type": "execute_result"
    }
   ],
   "source": [
    "dfbooks['read_e-books'].value_counts()"
   ]
  },
  {
   "cell_type": "code",
   "execution_count": 45,
   "id": "ef8401bf",
   "metadata": {},
   "outputs": [],
   "source": [
    "# remove unused categories\n",
    "dfbooks['read_printed_books'] = dfbooks['read_printed_books'].cat.remove_unused_categories()\n",
    "dfbooks['read_audiobooks'] = dfbooks['read_audiobooks'].cat.remove_unused_categories()\n",
    "dfbooks['read_e-books'] = dfbooks['read_e-books'].cat.remove_unused_categories()"
   ]
  },
  {
   "cell_type": "code",
   "execution_count": 46,
   "id": "2f873ac6",
   "metadata": {},
   "outputs": [
    {
     "data": {
      "text/plain": [
       "response_id               0\n",
       "language                  0\n",
       "state                     0\n",
       "sex                       0\n",
       "number_of_books_read      0\n",
       "read_printed_books      301\n",
       "read_audiobooks         301\n",
       "read_e-books            301\n",
       "gender                    0\n",
       "age                       0\n",
       "marital                   0\n",
       "parent                    0\n",
       "level_of_education        0\n",
       "employment                0\n",
       "disability                0\n",
       "hispanic                  0\n",
       "race                      0\n",
       "income                    0\n",
       "party                     0\n",
       "education                 0\n",
       "income_estimate           0\n",
       "dtype: int64"
      ]
     },
     "execution_count": 46,
     "metadata": {},
     "output_type": "execute_result"
    }
   ],
   "source": [
    "dfbooks.isnull().sum()"
   ]
  },
  {
   "cell_type": "code",
   "execution_count": 47,
   "id": "e6331263",
   "metadata": {
    "scrolled": true
   },
   "outputs": [
    {
     "data": {
      "text/plain": [
       "0     296\n",
       "3     118\n",
       "2     115\n",
       "10     96\n",
       "5      84\n",
       "1      80\n",
       "20     77\n",
       "12     73\n",
       "6      68\n",
       "4      60\n",
       "97     49\n",
       "50     44\n",
       "15     39\n",
       "25     35\n",
       "8      34\n",
       "30     27\n",
       "96     27\n",
       "40     24\n",
       "98     22\n",
       "7      19\n",
       "24     14\n",
       "60      9\n",
       "88      8\n",
       "35      7\n",
       "14      7\n",
       "13      6\n",
       "9       6\n",
       "99      5\n",
       "45      5\n",
       "52      4\n",
       "80      4\n",
       "70      4\n",
       "36      3\n",
       "75      3\n",
       "65      3\n",
       "48      3\n",
       "17      3\n",
       "22      2\n",
       "16      2\n",
       "21      2\n",
       "26      2\n",
       "18      2\n",
       "42      1\n",
       "23      1\n",
       "33      1\n",
       "47      1\n",
       "55      1\n",
       "43      1\n",
       "27      1\n",
       "37      1\n",
       "32      1\n",
       "29      1\n",
       "87      1\n",
       "Name: number_of_books_read, dtype: int64"
      ]
     },
     "execution_count": 47,
     "metadata": {},
     "output_type": "execute_result"
    }
   ],
   "source": [
    "# check if number of books read = 0 corresponds with null values in book types\n",
    "dfbooks['number_of_books_read'].value_counts()\n",
    "# it's only 5 off so the nulls are likely just for the non-readers plus a few more who didn't want to answer"
   ]
  },
  {
   "cell_type": "code",
   "execution_count": 48,
   "id": "478f26d7",
   "metadata": {},
   "outputs": [],
   "source": [
    "# change nulls to no\n",
    "dfbooks['read_printed_books'].fillna('No',inplace = True)\n",
    "dfbooks['read_audiobooks'].fillna('No',inplace = True)\n",
    "dfbooks['read_e-books'].fillna('No',inplace = True)"
   ]
  },
  {
   "cell_type": "markdown",
   "id": "64b992d3",
   "metadata": {},
   "source": [
    "### 6. Clean values with codes rather than integers"
   ]
  },
  {
   "cell_type": "code",
   "execution_count": 49,
   "id": "81fb9d4c",
   "metadata": {},
   "outputs": [
    {
     "data": {
      "text/plain": [
       "count    1502.000000\n",
       "mean       16.918109\n",
       "std        26.477888\n",
       "min         0.000000\n",
       "25%         1.250000\n",
       "50%         5.000000\n",
       "75%        20.000000\n",
       "max        99.000000\n",
       "Name: number_of_books_read, dtype: float64"
      ]
     },
     "execution_count": 49,
     "metadata": {},
     "output_type": "execute_result"
    }
   ],
   "source": [
    "dfbooks['number_of_books_read'].describe()"
   ]
  },
  {
   "cell_type": "code",
   "execution_count": 50,
   "id": "244f61e2",
   "metadata": {},
   "outputs": [],
   "source": [
    "# 97-99 are codes rather than numbers. Check how many there are\n",
    "dfcodes = dfbooks[dfbooks['number_of_books_read']>96]"
   ]
  },
  {
   "cell_type": "code",
   "execution_count": 51,
   "id": "9e84395d",
   "metadata": {},
   "outputs": [
    {
     "data": {
      "text/plain": [
       "97    49\n",
       "98    22\n",
       "99     5\n",
       "Name: number_of_books_read, dtype: int64"
      ]
     },
     "execution_count": 51,
     "metadata": {},
     "output_type": "execute_result"
    }
   ],
   "source": [
    "dfcodes['number_of_books_read'].value_counts()"
   ]
  },
  {
   "cell_type": "code",
   "execution_count": 52,
   "id": "c9168057",
   "metadata": {},
   "outputs": [
    {
     "data": {
      "text/plain": [
       "count    1426.000000\n",
       "mean       12.627630\n",
       "std        19.349152\n",
       "min         0.000000\n",
       "25%         1.000000\n",
       "50%         5.000000\n",
       "75%        15.000000\n",
       "max        96.000000\n",
       "Name: number_of_books_read, dtype: float64"
      ]
     },
     "execution_count": 52,
     "metadata": {},
     "output_type": "execute_result"
    }
   ],
   "source": [
    "# describe without the codes\n",
    "dfnocodes = dfbooks[dfbooks['number_of_books_read']<=96]\n",
    "dfnocodes['number_of_books_read'].describe()"
   ]
  },
  {
   "cell_type": "code",
   "execution_count": 53,
   "id": "0e4b76ca",
   "metadata": {},
   "outputs": [],
   "source": [
    "# impute don't know (98) and refused (99) with interquartile range\n",
    "dfbooks.loc[dfbooks['number_of_books_read'] >= 98, 'number_of_books_read'] = np.random.randint(1,15,27)"
   ]
  },
  {
   "cell_type": "code",
   "execution_count": 54,
   "id": "2ef84e89",
   "metadata": {},
   "outputs": [],
   "source": [
    "# 97 means 97 or more, but I'll leave it because I don't know how much higher it would go"
   ]
  },
  {
   "cell_type": "code",
   "execution_count": 55,
   "id": "6caa352d",
   "metadata": {},
   "outputs": [
    {
     "data": {
      "text/plain": [
       "count    1502.000000\n",
       "mean       15.302264\n",
       "std        24.108858\n",
       "min         0.000000\n",
       "25%         1.000000\n",
       "50%         5.000000\n",
       "75%        15.000000\n",
       "max        97.000000\n",
       "Name: number_of_books_read, dtype: float64"
      ]
     },
     "execution_count": 55,
     "metadata": {},
     "output_type": "execute_result"
    }
   ],
   "source": [
    "dfbooks['number_of_books_read'].describe()"
   ]
  },
  {
   "cell_type": "code",
   "execution_count": 56,
   "id": "ea723b1c",
   "metadata": {},
   "outputs": [
    {
     "data": {
      "text/plain": [
       "99    54\n",
       "98     1\n",
       "Name: age, dtype: int64"
      ]
     },
     "execution_count": 56,
     "metadata": {},
     "output_type": "execute_result"
    }
   ],
   "source": [
    "# age is the same, 98 meaning don't know and 99 refused (97 is 97 and above but I'm going to leave that alone)\n",
    "agecode = dfbooks[dfbooks['age']>97]\n",
    "agecode['age'].value_counts()"
   ]
  },
  {
   "cell_type": "code",
   "execution_count": 57,
   "id": "8de2644c",
   "metadata": {},
   "outputs": [
    {
     "data": {
      "text/plain": [
       "count    1447.000000\n",
       "mean       51.841050\n",
       "std        18.686602\n",
       "min        18.000000\n",
       "25%        36.000000\n",
       "50%        54.000000\n",
       "75%        66.000000\n",
       "max        97.000000\n",
       "Name: age, dtype: float64"
      ]
     },
     "execution_count": 57,
     "metadata": {},
     "output_type": "execute_result"
    }
   ],
   "source": [
    "# describe noncode ages\n",
    "agenocode = dfbooks[dfbooks['age']<=97]\n",
    "agenocode['age'].describe()"
   ]
  },
  {
   "cell_type": "code",
   "execution_count": 58,
   "id": "47e5f692",
   "metadata": {},
   "outputs": [],
   "source": [
    "# impute 98 and 99 with random value from interquartile range\n",
    "dfbooks.loc[dfbooks['age'] >= 98, 'age'] = np.random.randint(36,66,55)"
   ]
  },
  {
   "cell_type": "code",
   "execution_count": 59,
   "id": "ba5792f7",
   "metadata": {},
   "outputs": [
    {
     "data": {
      "text/plain": [
       "count    1502.000000\n",
       "mean       51.810253\n",
       "std        18.407753\n",
       "min        18.000000\n",
       "25%        37.000000\n",
       "50%        53.000000\n",
       "75%        66.000000\n",
       "max        97.000000\n",
       "Name: age, dtype: float64"
      ]
     },
     "execution_count": 59,
     "metadata": {},
     "output_type": "execute_result"
    }
   ],
   "source": [
    "dfbooks['age'].describe()"
   ]
  },
  {
   "cell_type": "code",
   "execution_count": 60,
   "id": "1f72975b",
   "metadata": {},
   "outputs": [
    {
     "data": {
      "text/plain": [
       "Index(['response_id', 'language', 'state', 'sex', 'number_of_books_read',\n",
       "       'read_printed_books', 'read_audiobooks', 'read_e-books', 'gender',\n",
       "       'age', 'marital', 'parent', 'level_of_education', 'employment',\n",
       "       'disability', 'hispanic', 'race', 'income', 'party', 'education',\n",
       "       'income_estimate'],\n",
       "      dtype='object')"
      ]
     },
     "execution_count": 60,
     "metadata": {},
     "output_type": "execute_result"
    }
   ],
   "source": [
    "dfbooks.columns"
   ]
  },
  {
   "cell_type": "code",
   "execution_count": 61,
   "id": "e689f83f",
   "metadata": {},
   "outputs": [],
   "source": [
    "# hide level_of_education and reorder columns\n",
    "dfbooks = dfbooks[['response_id', 'language', 'state', 'sex', 'gender',\n",
    "       'age', 'marital', 'parent', 'employment',\n",
    "       'disability', 'hispanic', 'race', 'party', 'education',  'income',\n",
    "       'income_estimate', 'number_of_books_read',\n",
    "       'read_printed_books', 'read_audiobooks', 'read_e-books']]"
   ]
  },
  {
   "cell_type": "markdown",
   "id": "394b7a06",
   "metadata": {},
   "source": [
    "### 7. Final checks"
   ]
  },
  {
   "cell_type": "code",
   "execution_count": 62,
   "id": "aa81f9b7",
   "metadata": {},
   "outputs": [
    {
     "data": {
      "text/plain": [
       "response_id               object\n",
       "language                category\n",
       "state                   category\n",
       "sex                     category\n",
       "gender                  category\n",
       "age                        int64\n",
       "marital                 category\n",
       "parent                  category\n",
       "employment              category\n",
       "disability              category\n",
       "hispanic                category\n",
       "race                    category\n",
       "party                   category\n",
       "education                 object\n",
       "income                  category\n",
       "income_estimate          float64\n",
       "number_of_books_read       int64\n",
       "read_printed_books      category\n",
       "read_audiobooks         category\n",
       "read_e-books            category\n",
       "dtype: object"
      ]
     },
     "execution_count": 62,
     "metadata": {},
     "output_type": "execute_result"
    }
   ],
   "source": [
    "dfbooks.dtypes"
   ]
  },
  {
   "cell_type": "code",
   "execution_count": 63,
   "id": "0052e250",
   "metadata": {},
   "outputs": [],
   "source": [
    "dfbooks['income_estimate'] = dfbooks['income_estimate'].astype('int')"
   ]
  },
  {
   "cell_type": "code",
   "execution_count": 64,
   "id": "e32fa88a",
   "metadata": {},
   "outputs": [
    {
     "data": {
      "text/plain": [
       "response_id             0\n",
       "language                0\n",
       "state                   0\n",
       "sex                     0\n",
       "gender                  0\n",
       "age                     0\n",
       "marital                 0\n",
       "parent                  0\n",
       "employment              0\n",
       "disability              0\n",
       "hispanic                0\n",
       "race                    0\n",
       "party                   0\n",
       "education               0\n",
       "income                  0\n",
       "income_estimate         0\n",
       "number_of_books_read    0\n",
       "read_printed_books      0\n",
       "read_audiobooks         0\n",
       "read_e-books            0\n",
       "dtype: int64"
      ]
     },
     "execution_count": 64,
     "metadata": {},
     "output_type": "execute_result"
    }
   ],
   "source": [
    "dfbooks.isnull().sum()"
   ]
  },
  {
   "cell_type": "code",
   "execution_count": 65,
   "id": "6e321d8c",
   "metadata": {},
   "outputs": [],
   "source": [
    "# check for mixed types again\n",
    "for col in dfbooks.columns.tolist():\n",
    "  weird = (dfbooks[[col]].applymap(type) != dfbooks[[col]].iloc[0].apply(type)).any(axis = 1)\n",
    "  if len (dfbooks[weird]) > 0:\n",
    "    print (col)"
   ]
  },
  {
   "cell_type": "code",
   "execution_count": 66,
   "id": "54d997b1",
   "metadata": {
    "scrolled": true
   },
   "outputs": [
    {
     "data": {
      "text/html": [
       "<div>\n",
       "<style scoped>\n",
       "    .dataframe tbody tr th:only-of-type {\n",
       "        vertical-align: middle;\n",
       "    }\n",
       "\n",
       "    .dataframe tbody tr th {\n",
       "        vertical-align: top;\n",
       "    }\n",
       "\n",
       "    .dataframe thead th {\n",
       "        text-align: right;\n",
       "    }\n",
       "</style>\n",
       "<table border=\"1\" class=\"dataframe\">\n",
       "  <thead>\n",
       "    <tr style=\"text-align: right;\">\n",
       "      <th></th>\n",
       "      <th>response_id</th>\n",
       "      <th>language</th>\n",
       "      <th>state</th>\n",
       "      <th>sex</th>\n",
       "      <th>gender</th>\n",
       "      <th>age</th>\n",
       "      <th>marital</th>\n",
       "      <th>parent</th>\n",
       "      <th>employment</th>\n",
       "      <th>disability</th>\n",
       "      <th>hispanic</th>\n",
       "      <th>race</th>\n",
       "      <th>party</th>\n",
       "      <th>education</th>\n",
       "      <th>income</th>\n",
       "      <th>income_estimate</th>\n",
       "      <th>number_of_books_read</th>\n",
       "      <th>read_printed_books</th>\n",
       "      <th>read_audiobooks</th>\n",
       "      <th>read_e-books</th>\n",
       "    </tr>\n",
       "  </thead>\n",
       "  <tbody>\n",
       "  </tbody>\n",
       "</table>\n",
       "</div>"
      ],
      "text/plain": [
       "Empty DataFrame\n",
       "Columns: [response_id, language, state, sex, gender, age, marital, parent, employment, disability, hispanic, race, party, education, income, income_estimate, number_of_books_read, read_printed_books, read_audiobooks, read_e-books]\n",
       "Index: []"
      ]
     },
     "execution_count": 66,
     "metadata": {},
     "output_type": "execute_result"
    }
   ],
   "source": [
    "# check for duplicates\n",
    "dups = dfbooks[dfbooks.duplicated()]\n",
    "dups"
   ]
  },
  {
   "cell_type": "code",
   "execution_count": 67,
   "id": "7f335173",
   "metadata": {},
   "outputs": [
    {
     "data": {
      "text/html": [
       "<div>\n",
       "<style scoped>\n",
       "    .dataframe tbody tr th:only-of-type {\n",
       "        vertical-align: middle;\n",
       "    }\n",
       "\n",
       "    .dataframe tbody tr th {\n",
       "        vertical-align: top;\n",
       "    }\n",
       "\n",
       "    .dataframe thead th {\n",
       "        text-align: right;\n",
       "    }\n",
       "</style>\n",
       "<table border=\"1\" class=\"dataframe\">\n",
       "  <thead>\n",
       "    <tr style=\"text-align: right;\">\n",
       "      <th></th>\n",
       "      <th>age</th>\n",
       "      <th>income_estimate</th>\n",
       "      <th>number_of_books_read</th>\n",
       "    </tr>\n",
       "  </thead>\n",
       "  <tbody>\n",
       "    <tr>\n",
       "      <th>count</th>\n",
       "      <td>1502.000000</td>\n",
       "      <td>1502.000000</td>\n",
       "      <td>1502.000000</td>\n",
       "    </tr>\n",
       "    <tr>\n",
       "      <th>mean</th>\n",
       "      <td>51.810253</td>\n",
       "      <td>81153.104527</td>\n",
       "      <td>15.302264</td>\n",
       "    </tr>\n",
       "    <tr>\n",
       "      <th>std</th>\n",
       "      <td>18.407753</td>\n",
       "      <td>52874.030333</td>\n",
       "      <td>24.108858</td>\n",
       "    </tr>\n",
       "    <tr>\n",
       "      <th>min</th>\n",
       "      <td>18.000000</td>\n",
       "      <td>1195.000000</td>\n",
       "      <td>0.000000</td>\n",
       "    </tr>\n",
       "    <tr>\n",
       "      <th>25%</th>\n",
       "      <td>37.000000</td>\n",
       "      <td>37351.500000</td>\n",
       "      <td>1.000000</td>\n",
       "    </tr>\n",
       "    <tr>\n",
       "      <th>50%</th>\n",
       "      <td>53.000000</td>\n",
       "      <td>73867.500000</td>\n",
       "      <td>5.000000</td>\n",
       "    </tr>\n",
       "    <tr>\n",
       "      <th>75%</th>\n",
       "      <td>66.000000</td>\n",
       "      <td>114649.000000</td>\n",
       "      <td>15.000000</td>\n",
       "    </tr>\n",
       "    <tr>\n",
       "      <th>max</th>\n",
       "      <td>97.000000</td>\n",
       "      <td>199277.000000</td>\n",
       "      <td>97.000000</td>\n",
       "    </tr>\n",
       "  </tbody>\n",
       "</table>\n",
       "</div>"
      ],
      "text/plain": [
       "               age  income_estimate  number_of_books_read\n",
       "count  1502.000000      1502.000000           1502.000000\n",
       "mean     51.810253     81153.104527             15.302264\n",
       "std      18.407753     52874.030333             24.108858\n",
       "min      18.000000      1195.000000              0.000000\n",
       "25%      37.000000     37351.500000              1.000000\n",
       "50%      53.000000     73867.500000              5.000000\n",
       "75%      66.000000    114649.000000             15.000000\n",
       "max      97.000000    199277.000000             97.000000"
      ]
     },
     "execution_count": 67,
     "metadata": {},
     "output_type": "execute_result"
    }
   ],
   "source": [
    "dfbooks.describe()"
   ]
  },
  {
   "cell_type": "markdown",
   "id": "bc15bc81",
   "metadata": {},
   "source": [
    "# 05 Export Data"
   ]
  },
  {
   "cell_type": "code",
   "execution_count": 68,
   "id": "c89489c6",
   "metadata": {},
   "outputs": [],
   "source": [
    "dfbooks.to_pickle(os.path.join(path, '02 Data','Prepared Data','dfbooks.pkl'))"
   ]
  }
 ],
 "metadata": {
  "kernelspec": {
   "display_name": "Python 3 (ipykernel)",
   "language": "python",
   "name": "python3"
  },
  "language_info": {
   "codemirror_mode": {
    "name": "ipython",
    "version": 3
   },
   "file_extension": ".py",
   "mimetype": "text/x-python",
   "name": "python",
   "nbconvert_exporter": "python",
   "pygments_lexer": "ipython3",
   "version": "3.9.12"
  }
 },
 "nbformat": 4,
 "nbformat_minor": 5
}
