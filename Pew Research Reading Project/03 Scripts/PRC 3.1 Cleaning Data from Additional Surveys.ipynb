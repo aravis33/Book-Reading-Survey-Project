{
 "cells": [
  {
   "cell_type": "markdown",
   "id": "4260e65c",
   "metadata": {},
   "source": [
    "# 1. Import libraries and data"
   ]
  },
  {
   "cell_type": "code",
   "execution_count": 1,
   "id": "3285ebce",
   "metadata": {},
   "outputs": [],
   "source": [
    "# Import libraries\n",
    "import pandas as pd\n",
    "import numpy as np\n",
    "import os"
   ]
  },
  {
   "cell_type": "code",
   "execution_count": 2,
   "id": "dbb5477c",
   "metadata": {},
   "outputs": [],
   "source": [
    "# Create path\n",
    "path = r'/Users/dana/Documents/Pew Research Reading Project/'\n",
    "\n",
    "# import data\n",
    "df19 = pd.read_spss(os.path.join(path,'02 Data','Original Data','January 8-February 7, 2019 - Core Trends Survey - SPSS.sav'))\n",
    "df18 = pd.read_spss(os.path.join(path,'02 Data','Original Data','January 3-10, 2018 - Core Trends Survey - SPSS.sav'))"
   ]
  },
  {
   "cell_type": "markdown",
   "id": "0ff416a5",
   "metadata": {},
   "source": [
    "# 2. Remove and rename columns"
   ]
  },
  {
   "cell_type": "code",
   "execution_count": 3,
   "id": "b18de292",
   "metadata": {},
   "outputs": [
    {
     "data": {
      "text/plain": [
       "(1502, 74)"
      ]
     },
     "execution_count": 3,
     "metadata": {},
     "output_type": "execute_result"
    }
   ],
   "source": [
    "df19.shape"
   ]
  },
  {
   "cell_type": "code",
   "execution_count": 4,
   "id": "fe157748",
   "metadata": {},
   "outputs": [
    {
     "data": {
      "text/plain": [
       "(2002, 70)"
      ]
     },
     "execution_count": 4,
     "metadata": {},
     "output_type": "execute_result"
    }
   ],
   "source": [
    "df18.shape"
   ]
  },
  {
   "cell_type": "code",
   "execution_count": 5,
   "id": "1dcd8bab",
   "metadata": {},
   "outputs": [
    {
     "data": {
      "text/plain": [
       "Index(['respid', 'sample', 'comp', 'int_date', 'lang', 'cregion', 'state',\n",
       "       'density', 'sfips', 'usr', 'qs1', 'sex', 'eminuse', 'intmob', 'intfreq',\n",
       "       'snsint2', 'home4nw', 'bbhome1', 'bbhome2', 'device1a', 'smart2', 'q20',\n",
       "       'bbsmart1', 'bbsmart2', 'bbsmart3a', 'bbsmart3b', 'bbsmart3c',\n",
       "       'bbsmart3d', 'bbsmart3e', 'bbsmart3f', 'bbsmart3foe@', 'bbsmart4',\n",
       "       'web1a', 'web1b', 'web1c', 'web1d', 'web1e', 'web1f', 'web1g', 'web1h',\n",
       "       'web1i', 'sns2a', 'sns2b', 'sns2c', 'sns2d', 'sns2e', 'device1b',\n",
       "       'device1c', 'device1d', 'books1', 'books2a', 'books2b', 'books2c',\n",
       "       'age', 'marital', 'educ2', 'emplnw', 'hisp', 'racem1', 'racem2',\n",
       "       'racem3', 'racem4', 'racecmb', 'birth_hisp', 'inc', 'party', 'partyln',\n",
       "       'hh1', 'hh3', 'ql1', 'ql1a', 'qc1', 'weight', 'cellweight'],\n",
       "      dtype='object')"
      ]
     },
     "execution_count": 5,
     "metadata": {},
     "output_type": "execute_result"
    }
   ],
   "source": [
    "df19.columns"
   ]
  },
  {
   "cell_type": "code",
   "execution_count": 6,
   "id": "140c7a54",
   "metadata": {},
   "outputs": [],
   "source": [
    "# get rid of unneeded columns\n",
    "df19 = df19[['respid', 'int_date', 'lang', 'state','sex','books1', 'books2a', 'books2b',\n",
    "       'books2c', 'age', 'marital', 'educ2', 'emplnw','hisp', 'racecmb', 'inc', 'party']]"
   ]
  },
  {
   "cell_type": "code",
   "execution_count": 7,
   "id": "4dc6b180",
   "metadata": {},
   "outputs": [],
   "source": [
    "# same for df18\n",
    "df18 = df18[['respid', 'int_date', 'lang', 'state', 'sex','books1', 'books2a', 'books2b',\n",
    "       'books2c', 'age', 'marital', 'educ2', 'emplnw', 'hisp', 'racecmb', 'inc', 'party']]"
   ]
  },
  {
   "cell_type": "code",
   "execution_count": 8,
   "id": "12499ab6",
   "metadata": {},
   "outputs": [],
   "source": [
    "# rename columns\n",
    "df19 = df19.rename(columns = {'respid':'response_id','lang':'language','books1':'number_of_books_read',\n",
    "                          'books2a':'read_printed_books','books2b':'read_audiobooks','books2c':'read_e-books',\n",
    "                          'educ2':'level_of_education','emplnw':'employment',\n",
    "                         'hisp':'hispanic','racecmb':'race','inc':'income'})"
   ]
  },
  {
   "cell_type": "code",
   "execution_count": 9,
   "id": "3fbfc2e3",
   "metadata": {},
   "outputs": [],
   "source": [
    "df18 = df18.rename(columns = {'respid':'response_id','lang':'language','books1':'number_of_books_read',\n",
    "                          'books2a':'read_printed_books','books2b':'read_audiobooks','books2c':'read_e-books',\n",
    "                          'educ2':'level_of_education','emplnw':'employment',\n",
    "                         'hisp':'hispanic','racecmb':'race','inc':'income'})"
   ]
  },
  {
   "cell_type": "code",
   "execution_count": 10,
   "id": "5c7f662d",
   "metadata": {},
   "outputs": [
    {
     "data": {
      "text/html": [
       "<div>\n",
       "<style scoped>\n",
       "    .dataframe tbody tr th:only-of-type {\n",
       "        vertical-align: middle;\n",
       "    }\n",
       "\n",
       "    .dataframe tbody tr th {\n",
       "        vertical-align: top;\n",
       "    }\n",
       "\n",
       "    .dataframe thead th {\n",
       "        text-align: right;\n",
       "    }\n",
       "</style>\n",
       "<table border=\"1\" class=\"dataframe\">\n",
       "  <thead>\n",
       "    <tr style=\"text-align: right;\">\n",
       "      <th></th>\n",
       "      <th>response_id</th>\n",
       "      <th>int_date</th>\n",
       "      <th>language</th>\n",
       "      <th>state</th>\n",
       "      <th>sex</th>\n",
       "      <th>number_of_books_read</th>\n",
       "      <th>read_printed_books</th>\n",
       "      <th>read_audiobooks</th>\n",
       "      <th>read_e-books</th>\n",
       "      <th>age</th>\n",
       "      <th>marital</th>\n",
       "      <th>level_of_education</th>\n",
       "      <th>employment</th>\n",
       "      <th>hispanic</th>\n",
       "      <th>race</th>\n",
       "      <th>income</th>\n",
       "      <th>party</th>\n",
       "    </tr>\n",
       "  </thead>\n",
       "  <tbody>\n",
       "    <tr>\n",
       "      <th>0</th>\n",
       "      <td>4.0</td>\n",
       "      <td>190108.0</td>\n",
       "      <td>English</td>\n",
       "      <td>NC</td>\n",
       "      <td>Female</td>\n",
       "      <td>None</td>\n",
       "      <td>NaN</td>\n",
       "      <td>NaN</td>\n",
       "      <td>NaN</td>\n",
       "      <td>75.0</td>\n",
       "      <td>Married</td>\n",
       "      <td>High school graduate (Grade 12 with diploma or...</td>\n",
       "      <td>Not employed for pay</td>\n",
       "      <td>No</td>\n",
       "      <td>Black or African-American</td>\n",
       "      <td>20 to under $30,000</td>\n",
       "      <td>Democrat</td>\n",
       "    </tr>\n",
       "    <tr>\n",
       "      <th>1</th>\n",
       "      <td>7.0</td>\n",
       "      <td>190108.0</td>\n",
       "      <td>English</td>\n",
       "      <td>OH</td>\n",
       "      <td>Male</td>\n",
       "      <td>None</td>\n",
       "      <td>NaN</td>\n",
       "      <td>NaN</td>\n",
       "      <td>NaN</td>\n",
       "      <td>56.0</td>\n",
       "      <td>Married</td>\n",
       "      <td>Some college, no degree (includes some communi...</td>\n",
       "      <td>Employed full-time</td>\n",
       "      <td>No</td>\n",
       "      <td>White</td>\n",
       "      <td>100 to under $150,000, OR</td>\n",
       "      <td>Republican</td>\n",
       "    </tr>\n",
       "    <tr>\n",
       "      <th>2</th>\n",
       "      <td>9.0</td>\n",
       "      <td>190108.0</td>\n",
       "      <td>English</td>\n",
       "      <td>NJ</td>\n",
       "      <td>Female</td>\n",
       "      <td>3.0</td>\n",
       "      <td>Yes</td>\n",
       "      <td>No</td>\n",
       "      <td>No</td>\n",
       "      <td>65.0</td>\n",
       "      <td>Married</td>\n",
       "      <td>Four year college or university degree/Bachelo...</td>\n",
       "      <td>Retired</td>\n",
       "      <td>No</td>\n",
       "      <td>White</td>\n",
       "      <td>75 to under $100,000</td>\n",
       "      <td>Republican</td>\n",
       "    </tr>\n",
       "    <tr>\n",
       "      <th>3</th>\n",
       "      <td>10.0</td>\n",
       "      <td>190108.0</td>\n",
       "      <td>English</td>\n",
       "      <td>IN</td>\n",
       "      <td>Female</td>\n",
       "      <td>20.0</td>\n",
       "      <td>Yes</td>\n",
       "      <td>No</td>\n",
       "      <td>Yes</td>\n",
       "      <td>67.0</td>\n",
       "      <td>Married</td>\n",
       "      <td>High school graduate (Grade 12 with diploma or...</td>\n",
       "      <td>Retired</td>\n",
       "      <td>No</td>\n",
       "      <td>Mixed Race</td>\n",
       "      <td>50 to under $75,000</td>\n",
       "      <td>Independent</td>\n",
       "    </tr>\n",
       "    <tr>\n",
       "      <th>4</th>\n",
       "      <td>11.0</td>\n",
       "      <td>190114.0</td>\n",
       "      <td>English</td>\n",
       "      <td>MI</td>\n",
       "      <td>Male</td>\n",
       "      <td>20.0</td>\n",
       "      <td>Yes</td>\n",
       "      <td>No</td>\n",
       "      <td>Yes</td>\n",
       "      <td>64.0</td>\n",
       "      <td>Married</td>\n",
       "      <td>Two year associate degree from a college or un...</td>\n",
       "      <td>Employed full-time</td>\n",
       "      <td>No</td>\n",
       "      <td>White</td>\n",
       "      <td>75 to under $100,000</td>\n",
       "      <td>Independent</td>\n",
       "    </tr>\n",
       "  </tbody>\n",
       "</table>\n",
       "</div>"
      ],
      "text/plain": [
       "   response_id  int_date language state     sex number_of_books_read  \\\n",
       "0          4.0  190108.0  English    NC  Female                 None   \n",
       "1          7.0  190108.0  English    OH    Male                 None   \n",
       "2          9.0  190108.0  English    NJ  Female                  3.0   \n",
       "3         10.0  190108.0  English    IN  Female                 20.0   \n",
       "4         11.0  190114.0  English    MI    Male                 20.0   \n",
       "\n",
       "  read_printed_books read_audiobooks read_e-books   age  marital  \\\n",
       "0                NaN             NaN          NaN  75.0  Married   \n",
       "1                NaN             NaN          NaN  56.0  Married   \n",
       "2                Yes              No           No  65.0  Married   \n",
       "3                Yes              No          Yes  67.0  Married   \n",
       "4                Yes              No          Yes  64.0  Married   \n",
       "\n",
       "                                  level_of_education            employment  \\\n",
       "0  High school graduate (Grade 12 with diploma or...  Not employed for pay   \n",
       "1  Some college, no degree (includes some communi...    Employed full-time   \n",
       "2  Four year college or university degree/Bachelo...               Retired   \n",
       "3  High school graduate (Grade 12 with diploma or...               Retired   \n",
       "4  Two year associate degree from a college or un...    Employed full-time   \n",
       "\n",
       "  hispanic                       race                     income        party  \n",
       "0       No  Black or African-American        20 to under $30,000     Democrat  \n",
       "1       No                      White  100 to under $150,000, OR   Republican  \n",
       "2       No                      White       75 to under $100,000   Republican  \n",
       "3       No                 Mixed Race        50 to under $75,000  Independent  \n",
       "4       No                      White       75 to under $100,000  Independent  "
      ]
     },
     "execution_count": 10,
     "metadata": {},
     "output_type": "execute_result"
    }
   ],
   "source": [
    "df19.head()"
   ]
  },
  {
   "cell_type": "code",
   "execution_count": 11,
   "id": "da1efade",
   "metadata": {},
   "outputs": [
    {
     "data": {
      "text/html": [
       "<div>\n",
       "<style scoped>\n",
       "    .dataframe tbody tr th:only-of-type {\n",
       "        vertical-align: middle;\n",
       "    }\n",
       "\n",
       "    .dataframe tbody tr th {\n",
       "        vertical-align: top;\n",
       "    }\n",
       "\n",
       "    .dataframe thead th {\n",
       "        text-align: right;\n",
       "    }\n",
       "</style>\n",
       "<table border=\"1\" class=\"dataframe\">\n",
       "  <thead>\n",
       "    <tr style=\"text-align: right;\">\n",
       "      <th></th>\n",
       "      <th>response_id</th>\n",
       "      <th>int_date</th>\n",
       "      <th>language</th>\n",
       "      <th>state</th>\n",
       "      <th>sex</th>\n",
       "      <th>number_of_books_read</th>\n",
       "      <th>read_printed_books</th>\n",
       "      <th>read_audiobooks</th>\n",
       "      <th>read_e-books</th>\n",
       "      <th>age</th>\n",
       "      <th>marital</th>\n",
       "      <th>level_of_education</th>\n",
       "      <th>employment</th>\n",
       "      <th>hispanic</th>\n",
       "      <th>race</th>\n",
       "      <th>income</th>\n",
       "      <th>party</th>\n",
       "    </tr>\n",
       "  </thead>\n",
       "  <tbody>\n",
       "    <tr>\n",
       "      <th>0</th>\n",
       "      <td>1.0</td>\n",
       "      <td>180103.0</td>\n",
       "      <td>English</td>\n",
       "      <td>PA</td>\n",
       "      <td>Female</td>\n",
       "      <td>1.0</td>\n",
       "      <td>Yes</td>\n",
       "      <td>No</td>\n",
       "      <td>No</td>\n",
       "      <td>33.0</td>\n",
       "      <td>Living with a partner</td>\n",
       "      <td>High school graduate (Grade 12 with diploma or...</td>\n",
       "      <td>Employed full-time</td>\n",
       "      <td>No</td>\n",
       "      <td>White</td>\n",
       "      <td>50 to under $75,000</td>\n",
       "      <td>Democrat</td>\n",
       "    </tr>\n",
       "    <tr>\n",
       "      <th>1</th>\n",
       "      <td>2.0</td>\n",
       "      <td>180103.0</td>\n",
       "      <td>English</td>\n",
       "      <td>SC</td>\n",
       "      <td>Female</td>\n",
       "      <td>5.0</td>\n",
       "      <td>Yes</td>\n",
       "      <td>No</td>\n",
       "      <td>No</td>\n",
       "      <td>76.0</td>\n",
       "      <td>Married</td>\n",
       "      <td>(VOL) Don't know</td>\n",
       "      <td>Retired</td>\n",
       "      <td>No</td>\n",
       "      <td>White</td>\n",
       "      <td>30 to under $40,000</td>\n",
       "      <td>Independent</td>\n",
       "    </tr>\n",
       "    <tr>\n",
       "      <th>2</th>\n",
       "      <td>3.0</td>\n",
       "      <td>180103.0</td>\n",
       "      <td>English</td>\n",
       "      <td>NJ</td>\n",
       "      <td>Female</td>\n",
       "      <td>0.0</td>\n",
       "      <td>NaN</td>\n",
       "      <td>NaN</td>\n",
       "      <td>NaN</td>\n",
       "      <td>(VOL) Refused</td>\n",
       "      <td>Widowed</td>\n",
       "      <td>Two year associate degree from a college or un...</td>\n",
       "      <td>(VOL) Have own business/self-employed</td>\n",
       "      <td>No</td>\n",
       "      <td>White</td>\n",
       "      <td>30 to under $40,000</td>\n",
       "      <td>Republican</td>\n",
       "    </tr>\n",
       "    <tr>\n",
       "      <th>3</th>\n",
       "      <td>4.0</td>\n",
       "      <td>180103.0</td>\n",
       "      <td>English</td>\n",
       "      <td>MD</td>\n",
       "      <td>Female</td>\n",
       "      <td>2.0</td>\n",
       "      <td>Yes</td>\n",
       "      <td>No</td>\n",
       "      <td>No</td>\n",
       "      <td>60.0</td>\n",
       "      <td>Living with a partner</td>\n",
       "      <td>Two year associate degree from a college or un...</td>\n",
       "      <td>(VOL) Other</td>\n",
       "      <td>No</td>\n",
       "      <td>White</td>\n",
       "      <td>10 to under $20,000</td>\n",
       "      <td>Democrat</td>\n",
       "    </tr>\n",
       "    <tr>\n",
       "      <th>4</th>\n",
       "      <td>5.0</td>\n",
       "      <td>180103.0</td>\n",
       "      <td>English</td>\n",
       "      <td>NH</td>\n",
       "      <td>Male</td>\n",
       "      <td>6.0</td>\n",
       "      <td>Yes</td>\n",
       "      <td>No</td>\n",
       "      <td>Yes</td>\n",
       "      <td>55.0</td>\n",
       "      <td>Married</td>\n",
       "      <td>Some college, no degree (includes some communi...</td>\n",
       "      <td>Employed full-time</td>\n",
       "      <td>No</td>\n",
       "      <td>White</td>\n",
       "      <td>75 to under $100,000</td>\n",
       "      <td>Republican</td>\n",
       "    </tr>\n",
       "  </tbody>\n",
       "</table>\n",
       "</div>"
      ],
      "text/plain": [
       "   response_id  int_date language state     sex number_of_books_read  \\\n",
       "0          1.0  180103.0  English    PA  Female                  1.0   \n",
       "1          2.0  180103.0  English    SC  Female                  5.0   \n",
       "2          3.0  180103.0  English    NJ  Female                  0.0   \n",
       "3          4.0  180103.0  English    MD  Female                  2.0   \n",
       "4          5.0  180103.0  English    NH    Male                  6.0   \n",
       "\n",
       "  read_printed_books read_audiobooks read_e-books            age  \\\n",
       "0                Yes              No           No           33.0   \n",
       "1                Yes              No           No           76.0   \n",
       "2                NaN             NaN          NaN  (VOL) Refused   \n",
       "3                Yes              No           No           60.0   \n",
       "4                Yes              No          Yes           55.0   \n",
       "\n",
       "                 marital                                 level_of_education  \\\n",
       "0  Living with a partner  High school graduate (Grade 12 with diploma or...   \n",
       "1                Married                                   (VOL) Don't know   \n",
       "2                Widowed  Two year associate degree from a college or un...   \n",
       "3  Living with a partner  Two year associate degree from a college or un...   \n",
       "4                Married  Some college, no degree (includes some communi...   \n",
       "\n",
       "                              employment hispanic   race  \\\n",
       "0                     Employed full-time       No  White   \n",
       "1                                Retired       No  White   \n",
       "2  (VOL) Have own business/self-employed       No  White   \n",
       "3                            (VOL) Other       No  White   \n",
       "4                     Employed full-time       No  White   \n",
       "\n",
       "                 income        party  \n",
       "0   50 to under $75,000     Democrat  \n",
       "1   30 to under $40,000  Independent  \n",
       "2   30 to under $40,000   Republican  \n",
       "3   10 to under $20,000     Democrat  \n",
       "4  75 to under $100,000   Republican  "
      ]
     },
     "execution_count": 11,
     "metadata": {},
     "output_type": "execute_result"
    }
   ],
   "source": [
    "df18.head()"
   ]
  },
  {
   "cell_type": "markdown",
   "id": "41e3dd8e",
   "metadata": {},
   "source": [
    "# 3. Fix mixed types"
   ]
  },
  {
   "cell_type": "code",
   "execution_count": 12,
   "id": "86fea6c5",
   "metadata": {
    "scrolled": true
   },
   "outputs": [
    {
     "name": "stdout",
     "output_type": "stream",
     "text": [
      "number_of_books_read\n",
      "read_printed_books\n",
      "read_audiobooks\n",
      "read_e-books\n",
      "age\n"
     ]
    }
   ],
   "source": [
    "# check for mixed types\n",
    "for col in df19.columns.tolist():\n",
    "  weird = (df19[[col]].applymap(type) != df19[[col]].iloc[0].apply(type)).any(axis = 1)\n",
    "  if len (df19[weird]) > 0:\n",
    "    print (col)"
   ]
  },
  {
   "cell_type": "code",
   "execution_count": 13,
   "id": "c89ee3a6",
   "metadata": {},
   "outputs": [],
   "source": [
    "# first change to string rather than cat so that I can change strings to integers\n",
    "df19['number_of_books_read'] = df19['number_of_books_read'].astype('str')"
   ]
  },
  {
   "cell_type": "code",
   "execution_count": 14,
   "id": "7c61ef62",
   "metadata": {
    "scrolled": true
   },
   "outputs": [],
   "source": [
    "# change \"none\" to 0\n",
    "df19.loc[df19['number_of_books_read'] == 'None', 'number_of_books_read'] = 0"
   ]
  },
  {
   "cell_type": "code",
   "execution_count": 15,
   "id": "80d1129c",
   "metadata": {},
   "outputs": [],
   "source": [
    "# change \"97 or more\" to 97\n",
    "df19.loc[df19['number_of_books_read'] == '97 or more', 'number_of_books_read'] = 97"
   ]
  },
  {
   "cell_type": "code",
   "execution_count": 16,
   "id": "68c99b22",
   "metadata": {},
   "outputs": [],
   "source": [
    "# change don't know and refused to code 99\n",
    "df19.loc[df19['number_of_books_read'] == \"(VOL) Don't know\", 'number_of_books_read'] = 99\n",
    "df19.loc[df19['number_of_books_read'] == \"(VOL) Refused\", 'number_of_books_read'] = 99"
   ]
  },
  {
   "cell_type": "code",
   "execution_count": 17,
   "id": "8d14bb86",
   "metadata": {},
   "outputs": [],
   "source": [
    "# then change to integer\n",
    "df19['number_of_books_read'] = df19['number_of_books_read'].astype('float')\n",
    "df19['number_of_books_read'] = df19['number_of_books_read'].astype('int')"
   ]
  },
  {
   "cell_type": "code",
   "execution_count": 18,
   "id": "55d2aa64",
   "metadata": {},
   "outputs": [],
   "source": [
    "# make subset of under 99\n",
    "dfunder = df19[df19['number_of_books_read']<99]"
   ]
  },
  {
   "cell_type": "code",
   "execution_count": 19,
   "id": "21156882",
   "metadata": {},
   "outputs": [
    {
     "data": {
      "text/plain": [
       "count    1475.000000\n",
       "mean       12.985763\n",
       "std        21.152748\n",
       "min         0.000000\n",
       "25%         1.000000\n",
       "50%         5.000000\n",
       "75%        15.000000\n",
       "max        97.000000\n",
       "Name: number_of_books_read, dtype: float64"
      ]
     },
     "execution_count": 19,
     "metadata": {},
     "output_type": "execute_result"
    }
   ],
   "source": [
    "# find range\n",
    "dfunder['number_of_books_read'].describe()"
   ]
  },
  {
   "cell_type": "code",
   "execution_count": 20,
   "id": "cde09421",
   "metadata": {},
   "outputs": [],
   "source": [
    "# impute don't know and refused with interquartile range\n",
    "df19.loc[df19['number_of_books_read'] == 99, 'number_of_books_read'] = np.random.randint(1,15,27)"
   ]
  },
  {
   "cell_type": "code",
   "execution_count": 21,
   "id": "a7c8085d",
   "metadata": {},
   "outputs": [
    {
     "data": {
      "text/plain": [
       "count    1502.000000\n",
       "mean       12.888149\n",
       "std        20.981182\n",
       "min         0.000000\n",
       "25%         1.000000\n",
       "50%         5.000000\n",
       "75%        15.000000\n",
       "max        97.000000\n",
       "Name: number_of_books_read, dtype: float64"
      ]
     },
     "execution_count": 21,
     "metadata": {},
     "output_type": "execute_result"
    }
   ],
   "source": [
    "# describe\n",
    "df19['number_of_books_read'].describe()"
   ]
  },
  {
   "cell_type": "code",
   "execution_count": 22,
   "id": "464b8ef6",
   "metadata": {},
   "outputs": [],
   "source": [
    "# do the same procedure to age column"
   ]
  },
  {
   "cell_type": "code",
   "execution_count": 23,
   "id": "98e2d631",
   "metadata": {},
   "outputs": [],
   "source": [
    "# first change to string rather than cat so that I can change strings to integers\n",
    "df19['age'] = df19['age'].astype('str')"
   ]
  },
  {
   "cell_type": "code",
   "execution_count": 24,
   "id": "528d73ec",
   "metadata": {},
   "outputs": [],
   "source": [
    "# change don't know and refused to code 99\n",
    "df19.loc[df19['age'] == \"(VOL) Don't know\", 'age'] = 99\n",
    "df19.loc[df19['age'] == \"(VOL) Refused\", 'age'] = 99"
   ]
  },
  {
   "cell_type": "code",
   "execution_count": 25,
   "id": "690bf495",
   "metadata": {},
   "outputs": [],
   "source": [
    "# then change to integer\n",
    "df19['age'] = df19['age'].astype('float')\n",
    "df19['age'] = df19['age'].astype('int')"
   ]
  },
  {
   "cell_type": "code",
   "execution_count": 26,
   "id": "2ab73136",
   "metadata": {},
   "outputs": [],
   "source": [
    "# make subset of under 99\n",
    "dfage = df19[df19['age']<99]"
   ]
  },
  {
   "cell_type": "code",
   "execution_count": 27,
   "id": "3ba9ca54",
   "metadata": {},
   "outputs": [
    {
     "data": {
      "text/plain": [
       "count    1446.000000\n",
       "mean       50.942600\n",
       "std        18.170439\n",
       "min        18.000000\n",
       "25%        35.000000\n",
       "50%        52.000000\n",
       "75%        65.000000\n",
       "max        96.000000\n",
       "Name: age, dtype: float64"
      ]
     },
     "execution_count": 27,
     "metadata": {},
     "output_type": "execute_result"
    }
   ],
   "source": [
    "# find range\n",
    "dfage['age'].describe()"
   ]
  },
  {
   "cell_type": "code",
   "execution_count": 28,
   "id": "ceb9d0c6",
   "metadata": {},
   "outputs": [],
   "source": [
    "# impute don't know and refused with interquartile range\n",
    "df19.loc[df19['age'] == 99, 'age'] = np.random.randint(18,65,56)"
   ]
  },
  {
   "cell_type": "code",
   "execution_count": 29,
   "id": "f63693f6",
   "metadata": {},
   "outputs": [
    {
     "data": {
      "text/plain": [
       "count    1502.000000\n",
       "mean       50.615180\n",
       "std        18.077109\n",
       "min        18.000000\n",
       "25%        35.000000\n",
       "50%        52.000000\n",
       "75%        65.000000\n",
       "max        96.000000\n",
       "Name: age, dtype: float64"
      ]
     },
     "execution_count": 29,
     "metadata": {},
     "output_type": "execute_result"
    }
   ],
   "source": [
    "df19['age'].describe()"
   ]
  },
  {
   "cell_type": "code",
   "execution_count": 30,
   "id": "21a4bebf",
   "metadata": {},
   "outputs": [
    {
     "data": {
      "text/plain": [
       "Yes                 1020\n",
       "NaN                  358\n",
       "No                   121\n",
       "(VOL) Don't know       3\n",
       "Name: read_printed_books, dtype: int64"
      ]
     },
     "execution_count": 30,
     "metadata": {},
     "output_type": "execute_result"
    }
   ],
   "source": [
    "# check read printed books\n",
    "df19['read_printed_books'].value_counts(dropna=False)"
   ]
  },
  {
   "cell_type": "code",
   "execution_count": 31,
   "id": "b3ab63a4",
   "metadata": {},
   "outputs": [],
   "source": [
    "# change don't know to No\n",
    "df19.loc[df19['read_printed_books'] == \"(VOL) Don't know\", 'read_printed_books'] = 'No'"
   ]
  },
  {
   "cell_type": "code",
   "execution_count": 32,
   "id": "f1c1c8c1",
   "metadata": {},
   "outputs": [
    {
     "data": {
      "text/plain": [
       "Yes                 1020\n",
       "NaN                  358\n",
       "No                   124\n",
       "(VOL) Don't know       0\n",
       "Name: read_printed_books, dtype: int64"
      ]
     },
     "execution_count": 32,
     "metadata": {},
     "output_type": "execute_result"
    }
   ],
   "source": [
    "df19['read_printed_books'].value_counts(dropna=False)"
   ]
  },
  {
   "cell_type": "code",
   "execution_count": 33,
   "id": "dd96ad4e",
   "metadata": {},
   "outputs": [
    {
     "data": {
      "text/plain": [
       "No                  829\n",
       "NaN                 358\n",
       "Yes                 313\n",
       "(VOL) Don't know      2\n",
       "Name: read_audiobooks, dtype: int64"
      ]
     },
     "execution_count": 33,
     "metadata": {},
     "output_type": "execute_result"
    }
   ],
   "source": [
    "# do the same for audiobooks\n",
    "df19['read_audiobooks'].value_counts(dropna=False)"
   ]
  },
  {
   "cell_type": "code",
   "execution_count": 34,
   "id": "3d86734e",
   "metadata": {},
   "outputs": [],
   "source": [
    "# change don't know to No\n",
    "df19.loc[df19['read_audiobooks'] == \"(VOL) Don't know\", 'read_audiobooks'] = 'No'"
   ]
  },
  {
   "cell_type": "code",
   "execution_count": 35,
   "id": "53236c38",
   "metadata": {},
   "outputs": [
    {
     "data": {
      "text/plain": [
       "No                  831\n",
       "NaN                 358\n",
       "Yes                 313\n",
       "(VOL) Don't know      0\n",
       "Name: read_audiobooks, dtype: int64"
      ]
     },
     "execution_count": 35,
     "metadata": {},
     "output_type": "execute_result"
    }
   ],
   "source": [
    "df19['read_audiobooks'].value_counts(dropna=False)"
   ]
  },
  {
   "cell_type": "code",
   "execution_count": 36,
   "id": "f7141f57",
   "metadata": {},
   "outputs": [
    {
     "data": {
      "text/plain": [
       "No                  724\n",
       "Yes                 418\n",
       "NaN                 358\n",
       "(VOL) Don't know      2\n",
       "Name: read_e-books, dtype: int64"
      ]
     },
     "execution_count": 36,
     "metadata": {},
     "output_type": "execute_result"
    }
   ],
   "source": [
    "# do the same for e-books\n",
    "df19['read_e-books'].value_counts(dropna=False)"
   ]
  },
  {
   "cell_type": "code",
   "execution_count": 37,
   "id": "41b6386d",
   "metadata": {},
   "outputs": [],
   "source": [
    "# change don't know to No\n",
    "df19.loc[df19['read_e-books'] == \"(VOL) Don't know\", 'read_e-books'] = 'No'"
   ]
  },
  {
   "cell_type": "code",
   "execution_count": 38,
   "id": "0c0324ef",
   "metadata": {},
   "outputs": [
    {
     "data": {
      "text/plain": [
       "No                  726\n",
       "Yes                 418\n",
       "NaN                 358\n",
       "(VOL) Don't know      0\n",
       "Name: read_e-books, dtype: int64"
      ]
     },
     "execution_count": 38,
     "metadata": {},
     "output_type": "execute_result"
    }
   ],
   "source": [
    "df19['read_e-books'].value_counts(dropna=False)"
   ]
  },
  {
   "cell_type": "code",
   "execution_count": 39,
   "id": "25ad0dfd",
   "metadata": {},
   "outputs": [
    {
     "data": {
      "text/plain": [
       "0     351\n",
       "2     117\n",
       "3     105\n",
       "1      87\n",
       "10     77\n",
       "4      72\n",
       "5      72\n",
       "6      70\n",
       "12     68\n",
       "20     63\n",
       "15     56\n",
       "30     44\n",
       "8      38\n",
       "25     33\n",
       "50     33\n",
       "97     26\n",
       "96     24\n",
       "7      23\n",
       "24     21\n",
       "40     18\n",
       "13     13\n",
       "14     11\n",
       "60     10\n",
       "9       8\n",
       "11      8\n",
       "36      6\n",
       "45      6\n",
       "80      6\n",
       "48      4\n",
       "35      4\n",
       "22      3\n",
       "18      3\n",
       "52      3\n",
       "16      3\n",
       "75      2\n",
       "23      2\n",
       "88      2\n",
       "90      1\n",
       "70      1\n",
       "27      1\n",
       "17      1\n",
       "26      1\n",
       "84      1\n",
       "66      1\n",
       "95      1\n",
       "72      1\n",
       "34      1\n",
       "Name: number_of_books_read, dtype: int64"
      ]
     },
     "execution_count": 39,
     "metadata": {},
     "output_type": "execute_result"
    }
   ],
   "source": [
    "# check how many non-readers there are\n",
    "df19['number_of_books_read'].value_counts()"
   ]
  },
  {
   "cell_type": "code",
   "execution_count": 40,
   "id": "0f1edf0f",
   "metadata": {},
   "outputs": [],
   "source": [
    "# it's about equal to nulls so change nulls to No\n",
    "df19['read_printed_books'].fillna('No',inplace = True)\n",
    "df19['read_audiobooks'].fillna('No',inplace = True)\n",
    "df19['read_e-books'].fillna('No',inplace = True)"
   ]
  },
  {
   "cell_type": "code",
   "execution_count": 41,
   "id": "fe0737c5",
   "metadata": {},
   "outputs": [],
   "source": [
    "# remove unused categories\n",
    "df19['read_printed_books'] = df19['read_printed_books'].cat.remove_unused_categories()\n",
    "df19['read_audiobooks'] = df19['read_audiobooks'].cat.remove_unused_categories()\n",
    "df19['read_e-books'] = df19['read_e-books'].cat.remove_unused_categories()"
   ]
  },
  {
   "cell_type": "code",
   "execution_count": 42,
   "id": "6d5bf549",
   "metadata": {},
   "outputs": [],
   "source": [
    "# check again for mixed types\n",
    "for col in df19.columns.tolist():\n",
    "  weird = (df19[[col]].applymap(type) != df19[[col]].iloc[0].apply(type)).any(axis = 1)\n",
    "  if len (df19[weird]) > 0:\n",
    "    print (col)"
   ]
  },
  {
   "cell_type": "code",
   "execution_count": 43,
   "id": "962aa899",
   "metadata": {},
   "outputs": [],
   "source": [
    "# do the same as above to the 2018 df"
   ]
  },
  {
   "cell_type": "code",
   "execution_count": 44,
   "id": "4b05aebc",
   "metadata": {},
   "outputs": [
    {
     "data": {
      "text/plain": [
       "response_id              float64\n",
       "int_date                 float64\n",
       "language                category\n",
       "state                   category\n",
       "sex                     category\n",
       "number_of_books_read    category\n",
       "read_printed_books      category\n",
       "read_audiobooks         category\n",
       "read_e-books            category\n",
       "age                     category\n",
       "marital                 category\n",
       "level_of_education      category\n",
       "employment              category\n",
       "hispanic                category\n",
       "race                    category\n",
       "income                  category\n",
       "party                   category\n",
       "dtype: object"
      ]
     },
     "execution_count": 44,
     "metadata": {},
     "output_type": "execute_result"
    }
   ],
   "source": [
    "# check data types\n",
    "df18.dtypes"
   ]
  },
  {
   "cell_type": "code",
   "execution_count": 45,
   "id": "280ac1ca",
   "metadata": {},
   "outputs": [
    {
     "name": "stdout",
     "output_type": "stream",
     "text": [
      "number_of_books_read\n",
      "read_printed_books\n",
      "read_audiobooks\n",
      "read_e-books\n",
      "age\n"
     ]
    }
   ],
   "source": [
    "# check for mixed types\n",
    "for col in df18.columns.tolist():\n",
    "  weird = (df18[[col]].applymap(type) != df18[[col]].iloc[0].apply(type)).any(axis = 1)\n",
    "  if len (df18[weird]) > 0:\n",
    "    print (col)"
   ]
  },
  {
   "cell_type": "code",
   "execution_count": 46,
   "id": "adaa0b4c",
   "metadata": {},
   "outputs": [
    {
     "data": {
      "text/plain": [
       "0.0                 432\n",
       "3.0                 168\n",
       "2.0                 136\n",
       "6.0                 117\n",
       "12.0                116\n",
       "4.0                 116\n",
       "5.0                 107\n",
       "10.0                105\n",
       "1.0                  98\n",
       "20.0                 79\n",
       "15.0                 55\n",
       "8.0                  50\n",
       "97 or more           47\n",
       "7.0                  42\n",
       "30.0                 36\n",
       "50.0                 32\n",
       "96.0                 31\n",
       "(VOL) Don't know     30\n",
       "25.0                 29\n",
       "24.0                 25\n",
       "40.0                 21\n",
       "(VOL) Refused        15\n",
       "9.0                  10\n",
       "35.0                  9\n",
       "70.0                  9\n",
       "36.0                  8\n",
       "45.0                  7\n",
       "60.0                  7\n",
       "13.0                  6\n",
       "18.0                  6\n",
       "75.0                  5\n",
       "26.0                  4\n",
       "11.0                  4\n",
       "14.0                  4\n",
       "17.0                  4\n",
       "16.0                  3\n",
       "80.0                  3\n",
       "32.0                  3\n",
       "52.0                  3\n",
       "23.0                  3\n",
       "65.0                  2\n",
       "55.0                  2\n",
       "90.0                  2\n",
       "22.0                  2\n",
       "19.0                  1\n",
       "66.0                  1\n",
       "73.0                  1\n",
       "54.0                  1\n",
       "84.0                  1\n",
       "85.0                  1\n",
       "88.0                  1\n",
       "39.0                  1\n",
       "28.0                  1\n",
       "Name: number_of_books_read, dtype: int64"
      ]
     },
     "execution_count": 46,
     "metadata": {},
     "output_type": "execute_result"
    }
   ],
   "source": [
    "df18['number_of_books_read'].value_counts()"
   ]
  },
  {
   "cell_type": "code",
   "execution_count": 47,
   "id": "4369e1b9",
   "metadata": {},
   "outputs": [],
   "source": [
    "# first change to string rather than cat so that I can change strings to integers\n",
    "df18['number_of_books_read'] = df18['number_of_books_read'].astype('str')"
   ]
  },
  {
   "cell_type": "code",
   "execution_count": 48,
   "id": "d6f5e881",
   "metadata": {
    "scrolled": true
   },
   "outputs": [],
   "source": [
    "# change \"none\" to 0\n",
    "df18.loc[df18['number_of_books_read'] == 'None', 'number_of_books_read'] = 0"
   ]
  },
  {
   "cell_type": "code",
   "execution_count": 49,
   "id": "3cda51ea",
   "metadata": {},
   "outputs": [],
   "source": [
    "# change \"97 or more\" to 97\n",
    "df18.loc[df18['number_of_books_read'] == '97 or more', 'number_of_books_read'] = 97"
   ]
  },
  {
   "cell_type": "code",
   "execution_count": 50,
   "id": "63e0ed4c",
   "metadata": {},
   "outputs": [],
   "source": [
    "# change don't know and refused to code 99\n",
    "df18.loc[df18['number_of_books_read'] == \"(VOL) Don't know\", 'number_of_books_read'] = 99\n",
    "df18.loc[df18['number_of_books_read'] == \"(VOL) Refused\", 'number_of_books_read'] = 99"
   ]
  },
  {
   "cell_type": "code",
   "execution_count": 51,
   "id": "af69c51e",
   "metadata": {},
   "outputs": [],
   "source": [
    "# then change to integer\n",
    "df18['number_of_books_read'] = df18['number_of_books_read'].astype('float')\n",
    "df18['number_of_books_read'] = df18['number_of_books_read'].astype('int')"
   ]
  },
  {
   "cell_type": "code",
   "execution_count": 52,
   "id": "aefdf3ed",
   "metadata": {},
   "outputs": [],
   "source": [
    "# make subset of under 99\n",
    "dfunders = df18[df18['number_of_books_read']<99]"
   ]
  },
  {
   "cell_type": "code",
   "execution_count": 53,
   "id": "3f45af9a",
   "metadata": {},
   "outputs": [
    {
     "data": {
      "text/plain": [
       "(2002, 17)"
      ]
     },
     "execution_count": 53,
     "metadata": {},
     "output_type": "execute_result"
    }
   ],
   "source": [
    "# find total rows\n",
    "df18.shape"
   ]
  },
  {
   "cell_type": "code",
   "execution_count": 54,
   "id": "9f7df0e3",
   "metadata": {},
   "outputs": [
    {
     "data": {
      "text/plain": [
       "count    1957.000000\n",
       "mean       12.772611\n",
       "std        21.665115\n",
       "min         0.000000\n",
       "25%         1.000000\n",
       "50%         5.000000\n",
       "75%        12.000000\n",
       "max        97.000000\n",
       "Name: number_of_books_read, dtype: float64"
      ]
     },
     "execution_count": 54,
     "metadata": {},
     "output_type": "execute_result"
    }
   ],
   "source": [
    "# find range\n",
    "dfunders['number_of_books_read'].describe()"
   ]
  },
  {
   "cell_type": "code",
   "execution_count": 55,
   "id": "083bc4f3",
   "metadata": {},
   "outputs": [],
   "source": [
    "# impute don't know and refused with interquartile range\n",
    "df18.loc[df18['number_of_books_read'] == 99, 'number_of_books_read'] = np.random.randint(1,12,45)"
   ]
  },
  {
   "cell_type": "code",
   "execution_count": 56,
   "id": "d51c0f8a",
   "metadata": {},
   "outputs": [
    {
     "data": {
      "text/plain": [
       "count    2002.000000\n",
       "mean       12.620380\n",
       "std        21.448979\n",
       "min         0.000000\n",
       "25%         1.000000\n",
       "50%         5.000000\n",
       "75%        12.000000\n",
       "max        97.000000\n",
       "Name: number_of_books_read, dtype: float64"
      ]
     },
     "execution_count": 56,
     "metadata": {},
     "output_type": "execute_result"
    }
   ],
   "source": [
    "# describe\n",
    "df18['number_of_books_read'].describe()"
   ]
  },
  {
   "cell_type": "code",
   "execution_count": 57,
   "id": "44342e7e",
   "metadata": {},
   "outputs": [],
   "source": [
    "# do the same procedure to age column"
   ]
  },
  {
   "cell_type": "code",
   "execution_count": 58,
   "id": "2056bfb2",
   "metadata": {},
   "outputs": [],
   "source": [
    "# first change to string rather than cat so that I can change strings to integers\n",
    "df18['age'] = df18['age'].astype('str')"
   ]
  },
  {
   "cell_type": "code",
   "execution_count": 59,
   "id": "3a394e3e",
   "metadata": {},
   "outputs": [],
   "source": [
    "# change don't know and refused to code 99, and \"97 or older\" to 97\n",
    "df18.loc[df18['age'] == \"(VOL) Don't know\", 'age'] = 99\n",
    "df18.loc[df18['age'] == \"(VOL) Refused\", 'age'] = 99\n",
    "df18.loc[df18['age'] == \"97 or older\", 'age'] = 97"
   ]
  },
  {
   "cell_type": "code",
   "execution_count": 60,
   "id": "fd72384a",
   "metadata": {},
   "outputs": [],
   "source": [
    "# then change to integer\n",
    "df18['age'] = df18['age'].astype('float')\n",
    "df18['age'] = df18['age'].astype('int')"
   ]
  },
  {
   "cell_type": "code",
   "execution_count": 61,
   "id": "577fc6b0",
   "metadata": {},
   "outputs": [],
   "source": [
    "# make subset of under 99\n",
    "dfages = df18[df18['age']<99]"
   ]
  },
  {
   "cell_type": "code",
   "execution_count": 62,
   "id": "f7dc3dd5",
   "metadata": {},
   "outputs": [
    {
     "data": {
      "text/plain": [
       "count    1953.000000\n",
       "mean       50.601639\n",
       "std        18.717788\n",
       "min        18.000000\n",
       "25%        34.000000\n",
       "50%        52.000000\n",
       "75%        65.000000\n",
       "max        97.000000\n",
       "Name: age, dtype: float64"
      ]
     },
     "execution_count": 62,
     "metadata": {},
     "output_type": "execute_result"
    }
   ],
   "source": [
    "# find range\n",
    "dfages['age'].describe()"
   ]
  },
  {
   "cell_type": "code",
   "execution_count": 63,
   "id": "69fc2ebe",
   "metadata": {},
   "outputs": [],
   "source": [
    "# impute don't know and refused with interquartile range\n",
    "df18.loc[df18['age'] == 99, 'age'] = np.random.randint(18,65,49)"
   ]
  },
  {
   "cell_type": "code",
   "execution_count": 64,
   "id": "4ebb3592",
   "metadata": {},
   "outputs": [
    {
     "data": {
      "text/plain": [
       "count    2002.000000\n",
       "mean       50.391109\n",
       "std        18.659376\n",
       "min        18.000000\n",
       "25%        34.000000\n",
       "50%        52.000000\n",
       "75%        65.000000\n",
       "max        97.000000\n",
       "Name: age, dtype: float64"
      ]
     },
     "execution_count": 64,
     "metadata": {},
     "output_type": "execute_result"
    }
   ],
   "source": [
    "df18['age'].describe()"
   ]
  },
  {
   "cell_type": "code",
   "execution_count": 65,
   "id": "52ccc05d",
   "metadata": {},
   "outputs": [
    {
     "data": {
      "text/plain": [
       "Yes                 1385\n",
       "NaN                  447\n",
       "No                   164\n",
       "(VOL) Don't know       5\n",
       "(VOL) Refused          1\n",
       "Name: read_printed_books, dtype: int64"
      ]
     },
     "execution_count": 65,
     "metadata": {},
     "output_type": "execute_result"
    }
   ],
   "source": [
    "# check read printed books\n",
    "df18['read_printed_books'].value_counts(dropna=False)"
   ]
  },
  {
   "cell_type": "code",
   "execution_count": 66,
   "id": "b7f2561c",
   "metadata": {},
   "outputs": [],
   "source": [
    "# change don't know and refused to No\n",
    "df18.loc[df18['read_printed_books'] == \"(VOL) Don't know\", 'read_printed_books'] = 'No'\n",
    "df18.loc[df18['read_printed_books'] == \"(VOL) Refused\", 'read_printed_books'] = 'No'"
   ]
  },
  {
   "cell_type": "code",
   "execution_count": 67,
   "id": "3f04e079",
   "metadata": {},
   "outputs": [
    {
     "data": {
      "text/plain": [
       "Yes                 1385\n",
       "NaN                  447\n",
       "No                   170\n",
       "(VOL) Don't know       0\n",
       "(VOL) Refused          0\n",
       "Name: read_printed_books, dtype: int64"
      ]
     },
     "execution_count": 67,
     "metadata": {},
     "output_type": "execute_result"
    }
   ],
   "source": [
    "df18['read_printed_books'].value_counts(dropna=False)"
   ]
  },
  {
   "cell_type": "code",
   "execution_count": 68,
   "id": "d4218b37",
   "metadata": {},
   "outputs": [
    {
     "data": {
      "text/plain": [
       "No                  1165\n",
       "NaN                  447\n",
       "Yes                  386\n",
       "(VOL) Don't know       3\n",
       "(VOL) Refused          1\n",
       "Name: read_audiobooks, dtype: int64"
      ]
     },
     "execution_count": 68,
     "metadata": {},
     "output_type": "execute_result"
    }
   ],
   "source": [
    "# do the same for audiobooks\n",
    "df18['read_audiobooks'].value_counts(dropna=False)"
   ]
  },
  {
   "cell_type": "code",
   "execution_count": 69,
   "id": "5c01ae27",
   "metadata": {},
   "outputs": [],
   "source": [
    "# change don't know and refused to No\n",
    "df18.loc[df18['read_audiobooks'] == \"(VOL) Don't know\", 'read_audiobooks'] = 'No'\n",
    "df18.loc[df18['read_audiobooks'] == \"(VOL) Refused\", 'read_audiobooks'] = 'No'"
   ]
  },
  {
   "cell_type": "code",
   "execution_count": 70,
   "id": "f2496a01",
   "metadata": {},
   "outputs": [
    {
     "data": {
      "text/plain": [
       "No                  1169\n",
       "NaN                  447\n",
       "Yes                  386\n",
       "(VOL) Don't know       0\n",
       "(VOL) Refused          0\n",
       "Name: read_audiobooks, dtype: int64"
      ]
     },
     "execution_count": 70,
     "metadata": {},
     "output_type": "execute_result"
    }
   ],
   "source": [
    "df18['read_audiobooks'].value_counts(dropna=False)"
   ]
  },
  {
   "cell_type": "code",
   "execution_count": 71,
   "id": "f208f7c4",
   "metadata": {},
   "outputs": [
    {
     "data": {
      "text/plain": [
       "No                  1005\n",
       "Yes                  538\n",
       "NaN                  447\n",
       "(VOL) Don't know       9\n",
       "(VOL) Refused          3\n",
       "Name: read_e-books, dtype: int64"
      ]
     },
     "execution_count": 71,
     "metadata": {},
     "output_type": "execute_result"
    }
   ],
   "source": [
    "# do the same for e-books\n",
    "df18['read_e-books'].value_counts(dropna=False)"
   ]
  },
  {
   "cell_type": "code",
   "execution_count": 72,
   "id": "d1893464",
   "metadata": {},
   "outputs": [],
   "source": [
    "# change don't know and refused to No\n",
    "df18.loc[df18['read_e-books'] == \"(VOL) Don't know\", 'read_e-books'] = 'No'\n",
    "df18.loc[df18['read_e-books'] == \"(VOL) Refused\", 'read_e-books'] = 'No'"
   ]
  },
  {
   "cell_type": "code",
   "execution_count": 73,
   "id": "c2cdb8fb",
   "metadata": {},
   "outputs": [
    {
     "data": {
      "text/plain": [
       "No                  1017\n",
       "Yes                  538\n",
       "NaN                  447\n",
       "(VOL) Don't know       0\n",
       "(VOL) Refused          0\n",
       "Name: read_e-books, dtype: int64"
      ]
     },
     "execution_count": 73,
     "metadata": {},
     "output_type": "execute_result"
    }
   ],
   "source": [
    "df18['read_e-books'].value_counts(dropna=False)"
   ]
  },
  {
   "cell_type": "code",
   "execution_count": 74,
   "id": "016c7579",
   "metadata": {},
   "outputs": [
    {
     "data": {
      "text/plain": [
       "0     432\n",
       "3     172\n",
       "2     142\n",
       "4     120\n",
       "6     118\n",
       "12    116\n",
       "5     112\n",
       "10    108\n",
       "1     101\n",
       "20     79\n",
       "8      59\n",
       "15     55\n",
       "97     47\n",
       "7      45\n",
       "30     36\n",
       "50     32\n",
       "96     31\n",
       "25     29\n",
       "24     25\n",
       "40     21\n",
       "9      12\n",
       "70      9\n",
       "11      9\n",
       "35      9\n",
       "36      8\n",
       "45      7\n",
       "60      7\n",
       "13      6\n",
       "18      6\n",
       "75      5\n",
       "17      4\n",
       "26      4\n",
       "14      4\n",
       "80      3\n",
       "52      3\n",
       "23      3\n",
       "16      3\n",
       "32      3\n",
       "22      2\n",
       "55      2\n",
       "65      2\n",
       "90      2\n",
       "19      1\n",
       "85      1\n",
       "39      1\n",
       "73      1\n",
       "28      1\n",
       "84      1\n",
       "66      1\n",
       "54      1\n",
       "88      1\n",
       "Name: number_of_books_read, dtype: int64"
      ]
     },
     "execution_count": 74,
     "metadata": {},
     "output_type": "execute_result"
    }
   ],
   "source": [
    "# check how many non-readers there are\n",
    "df18['number_of_books_read'].value_counts()"
   ]
  },
  {
   "cell_type": "code",
   "execution_count": 75,
   "id": "cfdcd5d4",
   "metadata": {},
   "outputs": [],
   "source": [
    "# it's about equal to nulls so change nulls to No\n",
    "df18['read_printed_books'].fillna('No',inplace = True)\n",
    "df18['read_audiobooks'].fillna('No',inplace = True)\n",
    "df18['read_e-books'].fillna('No',inplace = True)"
   ]
  },
  {
   "cell_type": "code",
   "execution_count": 76,
   "id": "6c3bb754",
   "metadata": {},
   "outputs": [],
   "source": [
    "# remove unused categories\n",
    "df18['read_printed_books'] = df18['read_printed_books'].cat.remove_unused_categories()\n",
    "df18['read_audiobooks'] = df18['read_audiobooks'].cat.remove_unused_categories()\n",
    "df18['read_e-books'] = df18['read_e-books'].cat.remove_unused_categories()"
   ]
  },
  {
   "cell_type": "code",
   "execution_count": 77,
   "id": "1516dea1",
   "metadata": {},
   "outputs": [],
   "source": [
    "# check again for mixed types\n",
    "for col in df18.columns.tolist():\n",
    "  weird = (df18[[col]].applymap(type) != df18[[col]].iloc[0].apply(type)).any(axis = 1)\n",
    "  if len (df18[weird]) > 0:\n",
    "    print (col)"
   ]
  },
  {
   "cell_type": "markdown",
   "id": "c028d69a",
   "metadata": {},
   "source": [
    "# 4. Prepare dataframes for merging"
   ]
  },
  {
   "cell_type": "code",
   "execution_count": 78,
   "id": "23167c89",
   "metadata": {},
   "outputs": [
    {
     "data": {
      "text/plain": [
       "Index(['response_id', 'int_date', 'language', 'state', 'sex',\n",
       "       'number_of_books_read', 'read_printed_books', 'read_audiobooks',\n",
       "       'read_e-books', 'age', 'marital', 'level_of_education', 'employment',\n",
       "       'hispanic', 'race', 'income', 'party'],\n",
       "      dtype='object')"
      ]
     },
     "execution_count": 78,
     "metadata": {},
     "output_type": "execute_result"
    }
   ],
   "source": [
    "# check if columns are the same\n",
    "df18.columns"
   ]
  },
  {
   "cell_type": "code",
   "execution_count": 79,
   "id": "2c382a74",
   "metadata": {},
   "outputs": [
    {
     "data": {
      "text/plain": [
       "Index(['response_id', 'int_date', 'language', 'state', 'sex',\n",
       "       'number_of_books_read', 'read_printed_books', 'read_audiobooks',\n",
       "       'read_e-books', 'age', 'marital', 'level_of_education', 'employment',\n",
       "       'hispanic', 'race', 'income', 'party'],\n",
       "      dtype='object')"
      ]
     },
     "execution_count": 79,
     "metadata": {},
     "output_type": "execute_result"
    }
   ],
   "source": [
    "df19.columns"
   ]
  },
  {
   "cell_type": "code",
   "execution_count": 80,
   "id": "01ec6508",
   "metadata": {},
   "outputs": [
    {
     "data": {
      "text/plain": [
       "response_id              float64\n",
       "int_date                 float64\n",
       "language                category\n",
       "state                   category\n",
       "sex                     category\n",
       "number_of_books_read       int64\n",
       "read_printed_books      category\n",
       "read_audiobooks         category\n",
       "read_e-books            category\n",
       "age                        int64\n",
       "marital                 category\n",
       "level_of_education      category\n",
       "employment              category\n",
       "hispanic                category\n",
       "race                    category\n",
       "income                  category\n",
       "party                   category\n",
       "dtype: object"
      ]
     },
     "execution_count": 80,
     "metadata": {},
     "output_type": "execute_result"
    }
   ],
   "source": [
    "# check if datatypes are the same\n",
    "df18.dtypes"
   ]
  },
  {
   "cell_type": "code",
   "execution_count": 81,
   "id": "0751e36a",
   "metadata": {},
   "outputs": [
    {
     "data": {
      "text/plain": [
       "response_id              float64\n",
       "int_date                 float64\n",
       "language                category\n",
       "state                   category\n",
       "sex                     category\n",
       "number_of_books_read       int64\n",
       "read_printed_books      category\n",
       "read_audiobooks         category\n",
       "read_e-books            category\n",
       "age                        int64\n",
       "marital                 category\n",
       "level_of_education      category\n",
       "employment              category\n",
       "hispanic                category\n",
       "race                    category\n",
       "income                  category\n",
       "party                   category\n",
       "dtype: object"
      ]
     },
     "execution_count": 81,
     "metadata": {},
     "output_type": "execute_result"
    }
   ],
   "source": [
    "df19.dtypes"
   ]
  },
  {
   "cell_type": "code",
   "execution_count": 82,
   "id": "8fbfad7b",
   "metadata": {},
   "outputs": [],
   "source": [
    "# add year\n",
    "df18['year']='2018'\n",
    "df19['year']='2019'"
   ]
  },
  {
   "cell_type": "code",
   "execution_count": 83,
   "id": "7e62a297",
   "metadata": {},
   "outputs": [],
   "source": [
    "# remove int_date\n",
    "df18 = df18.drop(columns=['int_date'])\n",
    "df19 = df19.drop(columns=['int_date'])"
   ]
  },
  {
   "cell_type": "code",
   "execution_count": 113,
   "id": "a935fecd",
   "metadata": {},
   "outputs": [],
   "source": [
    "df18.head()"
   ]
  },
  {
   "cell_type": "code",
   "execution_count": 85,
   "id": "fb77de65",
   "metadata": {},
   "outputs": [
    {
     "data": {
      "text/html": [
       "<div>\n",
       "<style scoped>\n",
       "    .dataframe tbody tr th:only-of-type {\n",
       "        vertical-align: middle;\n",
       "    }\n",
       "\n",
       "    .dataframe tbody tr th {\n",
       "        vertical-align: top;\n",
       "    }\n",
       "\n",
       "    .dataframe thead th {\n",
       "        text-align: right;\n",
       "    }\n",
       "</style>\n",
       "<table border=\"1\" class=\"dataframe\">\n",
       "  <thead>\n",
       "    <tr style=\"text-align: right;\">\n",
       "      <th></th>\n",
       "      <th>response_id</th>\n",
       "      <th>language</th>\n",
       "      <th>state</th>\n",
       "      <th>sex</th>\n",
       "      <th>number_of_books_read</th>\n",
       "      <th>read_printed_books</th>\n",
       "      <th>read_audiobooks</th>\n",
       "      <th>read_e-books</th>\n",
       "      <th>age</th>\n",
       "      <th>marital</th>\n",
       "      <th>level_of_education</th>\n",
       "      <th>employment</th>\n",
       "      <th>hispanic</th>\n",
       "      <th>race</th>\n",
       "      <th>income</th>\n",
       "      <th>party</th>\n",
       "      <th>year</th>\n",
       "    </tr>\n",
       "  </thead>\n",
       "  <tbody>\n",
       "    <tr>\n",
       "      <th>0</th>\n",
       "      <td>4.0</td>\n",
       "      <td>English</td>\n",
       "      <td>NC</td>\n",
       "      <td>Female</td>\n",
       "      <td>0</td>\n",
       "      <td>No</td>\n",
       "      <td>No</td>\n",
       "      <td>No</td>\n",
       "      <td>75</td>\n",
       "      <td>Married</td>\n",
       "      <td>High school graduate (Grade 12 with diploma or...</td>\n",
       "      <td>Not employed for pay</td>\n",
       "      <td>No</td>\n",
       "      <td>Black or African-American</td>\n",
       "      <td>20 to under $30,000</td>\n",
       "      <td>Democrat</td>\n",
       "      <td>2019</td>\n",
       "    </tr>\n",
       "    <tr>\n",
       "      <th>1</th>\n",
       "      <td>7.0</td>\n",
       "      <td>English</td>\n",
       "      <td>OH</td>\n",
       "      <td>Male</td>\n",
       "      <td>0</td>\n",
       "      <td>No</td>\n",
       "      <td>No</td>\n",
       "      <td>No</td>\n",
       "      <td>56</td>\n",
       "      <td>Married</td>\n",
       "      <td>Some college, no degree (includes some communi...</td>\n",
       "      <td>Employed full-time</td>\n",
       "      <td>No</td>\n",
       "      <td>White</td>\n",
       "      <td>100 to under $150,000, OR</td>\n",
       "      <td>Republican</td>\n",
       "      <td>2019</td>\n",
       "    </tr>\n",
       "    <tr>\n",
       "      <th>2</th>\n",
       "      <td>9.0</td>\n",
       "      <td>English</td>\n",
       "      <td>NJ</td>\n",
       "      <td>Female</td>\n",
       "      <td>3</td>\n",
       "      <td>Yes</td>\n",
       "      <td>No</td>\n",
       "      <td>No</td>\n",
       "      <td>65</td>\n",
       "      <td>Married</td>\n",
       "      <td>Four year college or university degree/Bachelo...</td>\n",
       "      <td>Retired</td>\n",
       "      <td>No</td>\n",
       "      <td>White</td>\n",
       "      <td>75 to under $100,000</td>\n",
       "      <td>Republican</td>\n",
       "      <td>2019</td>\n",
       "    </tr>\n",
       "    <tr>\n",
       "      <th>3</th>\n",
       "      <td>10.0</td>\n",
       "      <td>English</td>\n",
       "      <td>IN</td>\n",
       "      <td>Female</td>\n",
       "      <td>20</td>\n",
       "      <td>Yes</td>\n",
       "      <td>No</td>\n",
       "      <td>Yes</td>\n",
       "      <td>67</td>\n",
       "      <td>Married</td>\n",
       "      <td>High school graduate (Grade 12 with diploma or...</td>\n",
       "      <td>Retired</td>\n",
       "      <td>No</td>\n",
       "      <td>Mixed Race</td>\n",
       "      <td>50 to under $75,000</td>\n",
       "      <td>Independent</td>\n",
       "      <td>2019</td>\n",
       "    </tr>\n",
       "    <tr>\n",
       "      <th>4</th>\n",
       "      <td>11.0</td>\n",
       "      <td>English</td>\n",
       "      <td>MI</td>\n",
       "      <td>Male</td>\n",
       "      <td>20</td>\n",
       "      <td>Yes</td>\n",
       "      <td>No</td>\n",
       "      <td>Yes</td>\n",
       "      <td>64</td>\n",
       "      <td>Married</td>\n",
       "      <td>Two year associate degree from a college or un...</td>\n",
       "      <td>Employed full-time</td>\n",
       "      <td>No</td>\n",
       "      <td>White</td>\n",
       "      <td>75 to under $100,000</td>\n",
       "      <td>Independent</td>\n",
       "      <td>2019</td>\n",
       "    </tr>\n",
       "  </tbody>\n",
       "</table>\n",
       "</div>"
      ],
      "text/plain": [
       "   response_id language state     sex  number_of_books_read  \\\n",
       "0          4.0  English    NC  Female                     0   \n",
       "1          7.0  English    OH    Male                     0   \n",
       "2          9.0  English    NJ  Female                     3   \n",
       "3         10.0  English    IN  Female                    20   \n",
       "4         11.0  English    MI    Male                    20   \n",
       "\n",
       "  read_printed_books read_audiobooks read_e-books  age  marital  \\\n",
       "0                 No              No           No   75  Married   \n",
       "1                 No              No           No   56  Married   \n",
       "2                Yes              No           No   65  Married   \n",
       "3                Yes              No          Yes   67  Married   \n",
       "4                Yes              No          Yes   64  Married   \n",
       "\n",
       "                                  level_of_education            employment  \\\n",
       "0  High school graduate (Grade 12 with diploma or...  Not employed for pay   \n",
       "1  Some college, no degree (includes some communi...    Employed full-time   \n",
       "2  Four year college or university degree/Bachelo...               Retired   \n",
       "3  High school graduate (Grade 12 with diploma or...               Retired   \n",
       "4  Two year associate degree from a college or un...    Employed full-time   \n",
       "\n",
       "  hispanic                       race                     income        party  \\\n",
       "0       No  Black or African-American        20 to under $30,000     Democrat   \n",
       "1       No                      White  100 to under $150,000, OR   Republican   \n",
       "2       No                      White       75 to under $100,000   Republican   \n",
       "3       No                 Mixed Race        50 to under $75,000  Independent   \n",
       "4       No                      White       75 to under $100,000  Independent   \n",
       "\n",
       "   year  \n",
       "0  2019  \n",
       "1  2019  \n",
       "2  2019  \n",
       "3  2019  \n",
       "4  2019  "
      ]
     },
     "execution_count": 85,
     "metadata": {},
     "output_type": "execute_result"
    }
   ],
   "source": [
    "df19.head()"
   ]
  },
  {
   "cell_type": "code",
   "execution_count": 86,
   "id": "b5f6fc74",
   "metadata": {},
   "outputs": [],
   "source": [
    "# remove response id\n",
    "df18 = df18.drop(columns=['response_id'])\n",
    "df19 = df19.drop(columns=['response_id'])"
   ]
  },
  {
   "cell_type": "code",
   "execution_count": 87,
   "id": "6ae70607",
   "metadata": {},
   "outputs": [],
   "source": [
    "# create new id based on index (+2002 so that ids will be different from 2018 when merged)\n",
    "df18['id'] = df18.index + 1\n",
    "df19['id'] = df19.index + 2003"
   ]
  },
  {
   "cell_type": "code",
   "execution_count": 88,
   "id": "14c723fd",
   "metadata": {},
   "outputs": [
    {
     "data": {
      "text/plain": [
       "0"
      ]
     },
     "execution_count": 88,
     "metadata": {},
     "output_type": "execute_result"
    }
   ],
   "source": [
    "df18['id'].duplicated().sum()"
   ]
  },
  {
   "cell_type": "code",
   "execution_count": 89,
   "id": "c07b5610",
   "metadata": {},
   "outputs": [
    {
     "data": {
      "text/plain": [
       "0"
      ]
     },
     "execution_count": 89,
     "metadata": {},
     "output_type": "execute_result"
    }
   ],
   "source": [
    "df19['id'].duplicated().sum()"
   ]
  },
  {
   "cell_type": "code",
   "execution_count": 90,
   "id": "684e8cd3",
   "metadata": {},
   "outputs": [
    {
     "data": {
      "text/plain": [
       "count    2002.000000\n",
       "mean     1001.500000\n",
       "std       578.071939\n",
       "min         1.000000\n",
       "25%       501.250000\n",
       "50%      1001.500000\n",
       "75%      1501.750000\n",
       "max      2002.000000\n",
       "Name: id, dtype: float64"
      ]
     },
     "execution_count": 90,
     "metadata": {},
     "output_type": "execute_result"
    }
   ],
   "source": [
    "df18['id'].describe()"
   ]
  },
  {
   "cell_type": "code",
   "execution_count": 91,
   "id": "dc409789",
   "metadata": {},
   "outputs": [
    {
     "data": {
      "text/plain": [
       "count    1502.000000\n",
       "mean     2753.500000\n",
       "std       433.734366\n",
       "min      2003.000000\n",
       "25%      2378.250000\n",
       "50%      2753.500000\n",
       "75%      3128.750000\n",
       "max      3504.000000\n",
       "Name: id, dtype: float64"
      ]
     },
     "execution_count": 91,
     "metadata": {},
     "output_type": "execute_result"
    }
   ],
   "source": [
    "df19['id'].describe()"
   ]
  },
  {
   "cell_type": "markdown",
   "id": "713602c6",
   "metadata": {},
   "source": [
    "# 5. Concatenate"
   ]
  },
  {
   "cell_type": "code",
   "execution_count": 94,
   "id": "36c10d5b",
   "metadata": {},
   "outputs": [],
   "source": [
    "# use concat because the data has the same columns, just different time periods\n",
    "dfconcat = pd.concat([df18, df19])"
   ]
  },
  {
   "cell_type": "code",
   "execution_count": 93,
   "id": "4e173a17",
   "metadata": {},
   "outputs": [],
   "source": [
    "# check for differing categories in columns"
   ]
  },
  {
   "cell_type": "code",
   "execution_count": 95,
   "id": "bf6a0cf7",
   "metadata": {},
   "outputs": [
    {
     "data": {
      "text/plain": [
       "Index(['language', 'state', 'sex', 'number_of_books_read',\n",
       "       'read_printed_books', 'read_audiobooks', 'read_e-books', 'age',\n",
       "       'marital', 'level_of_education', 'employment', 'hispanic', 'race',\n",
       "       'income', 'party', 'year', 'id'],\n",
       "      dtype='object')"
      ]
     },
     "execution_count": 95,
     "metadata": {},
     "output_type": "execute_result"
    }
   ],
   "source": [
    "dfconcat.columns"
   ]
  },
  {
   "cell_type": "code",
   "execution_count": 97,
   "id": "52562345",
   "metadata": {},
   "outputs": [
    {
     "data": {
      "text/plain": [
       "English    3242\n",
       "Spanish     262\n",
       "Name: language, dtype: int64"
      ]
     },
     "execution_count": 97,
     "metadata": {},
     "output_type": "execute_result"
    }
   ],
   "source": [
    "dfconcat['language'].value_counts()"
   ]
  },
  {
   "cell_type": "code",
   "execution_count": 98,
   "id": "697b3732",
   "metadata": {
    "scrolled": true
   },
   "outputs": [
    {
     "data": {
      "text/plain": [
       "CA    377\n",
       "TX    278\n",
       "FL    238\n",
       "NY    226\n",
       "IL    134\n",
       "PA    127\n",
       "OH    120\n",
       "GA    119\n",
       "MI    116\n",
       "NC    116\n",
       "VA     97\n",
       "WA     87\n",
       "NJ     86\n",
       "MD     78\n",
       "TN     76\n",
       "SC     70\n",
       "WI     70\n",
       "MA     69\n",
       "MN     68\n",
       "MO     65\n",
       "IN     63\n",
       "AZ     61\n",
       "CO     61\n",
       "OR     60\n",
       "KY     56\n",
       "LA     50\n",
       "CT     48\n",
       "UT     43\n",
       "OK     40\n",
       "AL     38\n",
       "IA     38\n",
       "KS     31\n",
       "NM     27\n",
       "AR     26\n",
       "AK     25\n",
       "MS     23\n",
       "NV     21\n",
       "ID     18\n",
       "MT     16\n",
       "ME     16\n",
       "NH     15\n",
       "NE     15\n",
       "HI     15\n",
       "WV     15\n",
       "VT     14\n",
       "DC     13\n",
       "RI     12\n",
       "SD     11\n",
       "ND      8\n",
       "DE      4\n",
       "WY      4\n",
       "Name: state, dtype: int64"
      ]
     },
     "execution_count": 98,
     "metadata": {},
     "output_type": "execute_result"
    }
   ],
   "source": [
    "dfconcat['state'].value_counts()"
   ]
  },
  {
   "cell_type": "code",
   "execution_count": 99,
   "id": "dd54bb63",
   "metadata": {},
   "outputs": [
    {
     "data": {
      "text/plain": [
       "Male      1909\n",
       "Female    1595\n",
       "Name: sex, dtype: int64"
      ]
     },
     "execution_count": 99,
     "metadata": {},
     "output_type": "execute_result"
    }
   ],
   "source": [
    "dfconcat['sex'].value_counts()"
   ]
  },
  {
   "cell_type": "code",
   "execution_count": 100,
   "id": "4a3cd538",
   "metadata": {},
   "outputs": [
    {
     "data": {
      "text/plain": [
       "Yes    2405\n",
       "No     1099\n",
       "Name: read_printed_books, dtype: int64"
      ]
     },
     "execution_count": 100,
     "metadata": {},
     "output_type": "execute_result"
    }
   ],
   "source": [
    "dfconcat['read_printed_books'].value_counts()"
   ]
  },
  {
   "cell_type": "code",
   "execution_count": 101,
   "id": "8df8dada",
   "metadata": {},
   "outputs": [
    {
     "data": {
      "text/plain": [
       "No     2805\n",
       "Yes     699\n",
       "Name: read_audiobooks, dtype: int64"
      ]
     },
     "execution_count": 101,
     "metadata": {},
     "output_type": "execute_result"
    }
   ],
   "source": [
    "dfconcat['read_audiobooks'].value_counts()"
   ]
  },
  {
   "cell_type": "code",
   "execution_count": 102,
   "id": "2891a429",
   "metadata": {},
   "outputs": [
    {
     "data": {
      "text/plain": [
       "No     2548\n",
       "Yes     956\n",
       "Name: read_e-books, dtype: int64"
      ]
     },
     "execution_count": 102,
     "metadata": {},
     "output_type": "execute_result"
    }
   ],
   "source": [
    "dfconcat['read_e-books'].value_counts()"
   ]
  },
  {
   "cell_type": "code",
   "execution_count": 103,
   "id": "122791de",
   "metadata": {},
   "outputs": [
    {
     "data": {
      "text/plain": [
       "Married                  1689\n",
       "Never been married        759\n",
       "Divorced                  374\n",
       "Widowed                   296\n",
       "Living with a partner     211\n",
       "Separated                 102\n",
       "(VOL) Refused              64\n",
       "(VOL) Don't know            9\n",
       "Name: marital, dtype: int64"
      ]
     },
     "execution_count": 103,
     "metadata": {},
     "output_type": "execute_result"
    }
   ],
   "source": [
    "dfconcat['marital'].value_counts()"
   ]
  },
  {
   "cell_type": "code",
   "execution_count": 104,
   "id": "4d71176a",
   "metadata": {},
   "outputs": [
    {
     "data": {
      "text/plain": [
       "Four year college or university degree/Bachelor's degree (e.g., BS, BA, AB)                                                 875\n",
       "High school graduate (Grade 12 with diploma or GED certificate)                                                             798\n",
       "Some college, no degree (includes some community college)                                                                   535\n",
       "Two year associate degree from a college or university                                                                      368\n",
       "Some postgraduate or professional schooling, no postgraduate degree (e.g. some graduate school)                             361\n",
       "High school incomplete (Grades 9-11 or Grade 12 with NO diploma)                                                            183\n",
       "Postgraduate or professional degree, including master's, doctorate, medical or law degree                                   147\n",
       "Less than high school (Grades 1-8 or no formal schooling)                                                                   104\n",
       "Postgraduate or professional degree, including master's, doctorate, medical or law degree (e.g., MA, MS, PhD, MD, JD, gr     91\n",
       "(VOL) Refused                                                                                                                31\n",
       "(VOL) Don't know                                                                                                             11\n",
       "Name: level_of_education, dtype: int64"
      ]
     },
     "execution_count": 104,
     "metadata": {},
     "output_type": "execute_result"
    }
   ],
   "source": [
    "dfconcat['level_of_education'].value_counts()"
   ]
  },
  {
   "cell_type": "code",
   "execution_count": 105,
   "id": "a2f2b8d5",
   "metadata": {},
   "outputs": [
    {
     "data": {
      "text/plain": [
       "Employed full-time                       1539\n",
       "Retired                                   887\n",
       "Not employed for pay                      401\n",
       "Employed part-time                        376\n",
       "(VOL) Have own business/self-employed     106\n",
       "(VOL) Disabled                            100\n",
       "(VOL) Refused                              37\n",
       "(VOL) Student                              31\n",
       "(VOL) Other                                24\n",
       "(VOL) Don't know                            3\n",
       "Name: employment, dtype: int64"
      ]
     },
     "execution_count": 105,
     "metadata": {},
     "output_type": "execute_result"
    }
   ],
   "source": [
    "dfconcat['employment'].value_counts()"
   ]
  },
  {
   "cell_type": "code",
   "execution_count": 106,
   "id": "d8a3f1b6",
   "metadata": {},
   "outputs": [
    {
     "data": {
      "text/plain": [
       "No                  2905\n",
       "Yes                  539\n",
       "(VOL) Refused         52\n",
       "(VOL) Don't know       8\n",
       "Name: hispanic, dtype: int64"
      ]
     },
     "execution_count": 106,
     "metadata": {},
     "output_type": "execute_result"
    }
   ],
   "source": [
    "dfconcat['hispanic'].value_counts()"
   ]
  },
  {
   "cell_type": "code",
   "execution_count": 107,
   "id": "d0337645",
   "metadata": {},
   "outputs": [
    {
     "data": {
      "text/plain": [
       "White                        2437\n",
       "Black or African-American     414\n",
       "Or some other race            282\n",
       "Don't know/Refused (VOL.)     158\n",
       "Asian or Asian-American       120\n",
       "Mixed Race                     93\n",
       "Name: race, dtype: int64"
      ]
     },
     "execution_count": 107,
     "metadata": {},
     "output_type": "execute_result"
    }
   ],
   "source": [
    "dfconcat['race'].value_counts()"
   ]
  },
  {
   "cell_type": "code",
   "execution_count": 108,
   "id": "eaae3692",
   "metadata": {},
   "outputs": [
    {
     "data": {
      "text/plain": [
       "$150,000 or more?            428\n",
       "50 to under $75,000          412\n",
       "(VOL) Refused                390\n",
       "100 to under $150,000, OR    366\n",
       "75 to under $100,000         355\n",
       "20 to under $30,000          327\n",
       "10 to under $20,000          295\n",
       "30 to under $40,000          269\n",
       "Less than $10,000            261\n",
       "40 to under $50,000          224\n",
       "(VOL) Don't know             177\n",
       "Name: income, dtype: int64"
      ]
     },
     "execution_count": 108,
     "metadata": {},
     "output_type": "execute_result"
    }
   ],
   "source": [
    "dfconcat['income'].value_counts()"
   ]
  },
  {
   "cell_type": "code",
   "execution_count": 109,
   "id": "f425b9f3",
   "metadata": {},
   "outputs": [
    {
     "data": {
      "text/plain": [
       "Independent            1139\n",
       "Democrat               1060\n",
       "Republican              820\n",
       "(VOL) No preference     239\n",
       "(VOL) Refused           153\n",
       "(VOL) Don't know         69\n",
       "(VOL) Other party        24\n",
       "Name: party, dtype: int64"
      ]
     },
     "execution_count": 109,
     "metadata": {},
     "output_type": "execute_result"
    }
   ],
   "source": [
    "dfconcat['party'].value_counts()"
   ]
  },
  {
   "cell_type": "code",
   "execution_count": 110,
   "id": "c98db6d9",
   "metadata": {},
   "outputs": [
    {
     "data": {
      "text/plain": [
       "2018    2002\n",
       "2019    1502\n",
       "Name: year, dtype: int64"
      ]
     },
     "execution_count": 110,
     "metadata": {},
     "output_type": "execute_result"
    }
   ],
   "source": [
    "dfconcat['year'].value_counts()"
   ]
  },
  {
   "cell_type": "code",
   "execution_count": 111,
   "id": "cc134588",
   "metadata": {},
   "outputs": [],
   "source": [
    "# all looks good, ready to merge with 2021 data in next notebook"
   ]
  },
  {
   "cell_type": "code",
   "execution_count": 112,
   "id": "29e4b1bf",
   "metadata": {},
   "outputs": [],
   "source": [
    "# export\n",
    "dfconcat.to_pickle(os.path.join(path, '02 Data','Prepared Data','2018-2019.pkl'))"
   ]
  },
  {
   "cell_type": "code",
   "execution_count": null,
   "id": "ad534236",
   "metadata": {},
   "outputs": [],
   "source": []
  }
 ],
 "metadata": {
  "kernelspec": {
   "display_name": "Python 3 (ipykernel)",
   "language": "python",
   "name": "python3"
  },
  "language_info": {
   "codemirror_mode": {
    "name": "ipython",
    "version": 3
   },
   "file_extension": ".py",
   "mimetype": "text/x-python",
   "name": "python",
   "nbconvert_exporter": "python",
   "pygments_lexer": "ipython3",
   "version": "3.9.12"
  }
 },
 "nbformat": 4,
 "nbformat_minor": 5
}
